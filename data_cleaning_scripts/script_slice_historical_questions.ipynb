{
 "cells": [
  {
   "cell_type": "markdown",
   "id": "daf7b661-779f-4de6-bda7-9d00d07e36f3",
   "metadata": {},
   "source": [
    "## Slice historical questions into years"
   ]
  },
  {
   "cell_type": "markdown",
   "id": "bbe1b8de-33bb-4dd1-925f-6c7b0b3b1449",
   "metadata": {},
   "source": [
    "Take the `questions_from_current_justices.csv` and slice it into separate years, in order to prioritize processing of more recent years.\n",
    "\n",
    "Save slices at `'../datasets/historical_questions/{year}/{year}_questions_from_current_justices.csv'`"
   ]
  },
  {
   "cell_type": "code",
   "execution_count": 1,
   "id": "5d791632-0b38-4354-809d-911302fcacc8",
   "metadata": {},
   "outputs": [],
   "source": [
    "import pandas as pd\n",
    "import os"
   ]
  },
  {
   "cell_type": "code",
   "execution_count": 2,
   "id": "e611cfa1-c657-4251-b865-e746247352ed",
   "metadata": {
    "collapsed": true,
    "jupyter": {
     "outputs_hidden": true
    },
    "tags": []
   },
   "outputs": [
    {
     "data": {
      "text/html": [
       "<div>\n",
       "<style scoped>\n",
       "    .dataframe tbody tr th:only-of-type {\n",
       "        vertical-align: middle;\n",
       "    }\n",
       "\n",
       "    .dataframe tbody tr th {\n",
       "        vertical-align: top;\n",
       "    }\n",
       "\n",
       "    .dataframe thead th {\n",
       "        text-align: right;\n",
       "    }\n",
       "</style>\n",
       "<table border=\"1\" class=\"dataframe\">\n",
       "  <thead>\n",
       "    <tr style=\"text-align: right;\">\n",
       "      <th></th>\n",
       "      <th>Unnamed: 0</th>\n",
       "      <th>transcript_id</th>\n",
       "      <th>question_addressee</th>\n",
       "      <th>justice</th>\n",
       "      <th>question_text</th>\n",
       "      <th>opening_statement</th>\n",
       "    </tr>\n",
       "  </thead>\n",
       "  <tbody>\n",
       "    <tr>\n",
       "      <th>0</th>\n",
       "      <td>0</td>\n",
       "      <td>2009.08-1529-t01</td>\n",
       "      <td>respondent</td>\n",
       "      <td>Sonia Sotomayor</td>\n",
       "      <td>Can you tell me how many PHS personnel work in...</td>\n",
       "      <td>&lt;speaker&gt;Pratik A. Shah&lt;/speaker&gt;&lt;text&gt;Mr. Chi...</td>\n",
       "    </tr>\n",
       "    <tr>\n",
       "      <th>1</th>\n",
       "      <td>1</td>\n",
       "      <td>2009.08-1529-t01</td>\n",
       "      <td>respondent</td>\n",
       "      <td>Sonia Sotomayor</td>\n",
       "      <td>--And is there a reason Congress would want to...</td>\n",
       "      <td>&lt;speaker&gt;Pratik A. Shah&lt;/speaker&gt;&lt;text&gt;Mr. Chi...</td>\n",
       "    </tr>\n",
       "    <tr>\n",
       "      <th>2</th>\n",
       "      <td>2</td>\n",
       "      <td>2009.08-1529-t01</td>\n",
       "      <td>respondent</td>\n",
       "      <td>Samuel A. Alito, Jr.</td>\n",
       "      <td>Are they paid less than other -- than other Fe...</td>\n",
       "      <td>&lt;speaker&gt;Pratik A. Shah&lt;/speaker&gt;&lt;text&gt;Mr. Chi...</td>\n",
       "    </tr>\n",
       "    <tr>\n",
       "      <th>3</th>\n",
       "      <td>3</td>\n",
       "      <td>2009.08-1529-t01</td>\n",
       "      <td>respondent</td>\n",
       "      <td>Samuel A. Alito, Jr.</td>\n",
       "      <td>If section 2679(b)(2), instead of saying parag...</td>\n",
       "      <td>&lt;speaker&gt;Pratik A. Shah&lt;/speaker&gt;&lt;text&gt;Mr. Chi...</td>\n",
       "    </tr>\n",
       "    <tr>\n",
       "      <th>4</th>\n",
       "      <td>4</td>\n",
       "      <td>2009.08-1529-t01</td>\n",
       "      <td>petitioner</td>\n",
       "      <td>John G. Roberts, Jr.</td>\n",
       "      <td>You're not abandoning it; you're taking it fur...</td>\n",
       "      <td>&lt;speaker&gt;Elaine J. Goldenberg&lt;/speaker&gt;&lt;text&gt;I...</td>\n",
       "    </tr>\n",
       "  </tbody>\n",
       "</table>\n",
       "</div>"
      ],
      "text/plain": [
       "   Unnamed: 0     transcript_id question_addressee               justice  \\\n",
       "0           0  2009.08-1529-t01         respondent       Sonia Sotomayor   \n",
       "1           1  2009.08-1529-t01         respondent       Sonia Sotomayor   \n",
       "2           2  2009.08-1529-t01         respondent  Samuel A. Alito, Jr.   \n",
       "3           3  2009.08-1529-t01         respondent  Samuel A. Alito, Jr.   \n",
       "4           4  2009.08-1529-t01         petitioner  John G. Roberts, Jr.   \n",
       "\n",
       "                                       question_text  \\\n",
       "0  Can you tell me how many PHS personnel work in...   \n",
       "1  --And is there a reason Congress would want to...   \n",
       "2  Are they paid less than other -- than other Fe...   \n",
       "3  If section 2679(b)(2), instead of saying parag...   \n",
       "4  You're not abandoning it; you're taking it fur...   \n",
       "\n",
       "                                   opening_statement  \n",
       "0  <speaker>Pratik A. Shah</speaker><text>Mr. Chi...  \n",
       "1  <speaker>Pratik A. Shah</speaker><text>Mr. Chi...  \n",
       "2  <speaker>Pratik A. Shah</speaker><text>Mr. Chi...  \n",
       "3  <speaker>Pratik A. Shah</speaker><text>Mr. Chi...  \n",
       "4  <speaker>Elaine J. Goldenberg</speaker><text>I...  "
      ]
     },
     "execution_count": 2,
     "metadata": {},
     "output_type": "execute_result"
    }
   ],
   "source": [
    "input_fp = '../datasets/questions_from_current_justices.csv'\n",
    "df = pd.read_csv(input_fp)\n",
    "df.head()"
   ]
  },
  {
   "cell_type": "code",
   "execution_count": 4,
   "id": "d5b5a743-5677-4910-a233-c5be887c90ce",
   "metadata": {
    "collapsed": true,
    "jupyter": {
     "outputs_hidden": true
    },
    "tags": []
   },
   "outputs": [
    {
     "data": {
      "text/plain": [
       "2023    4598\n",
       "2022    4429\n",
       "2021    3625\n",
       "2020    3095\n",
       "2018    2598\n",
       "2019    2106\n",
       "2010    2029\n",
       "2011    1829\n",
       "2012    1765\n",
       "2015    1688\n",
       "2017    1674\n",
       "2009    1564\n",
       "2016    1545\n",
       "2013    1545\n",
       "2014    1084\n",
       "2008     961\n",
       "2007     900\n",
       "2006     767\n",
       "2005     574\n",
       "1991      21\n",
       "1994      15\n",
       "1996      14\n",
       "1998      13\n",
       "1997      12\n",
       "1992       9\n",
       "2002       8\n",
       "1999       7\n",
       "2001       7\n",
       "2000       4\n",
       "1995       3\n",
       "1993       3\n",
       "Name: year, dtype: int64"
      ]
     },
     "execution_count": 4,
     "metadata": {},
     "output_type": "execute_result"
    }
   ],
   "source": [
    "def extract_year(id):\n",
    "    return id.split('.')[0]\n",
    "\n",
    "df['year'] = df['transcript_id'].apply(extract_year)\n",
    "df['year'].value_counts()"
   ]
  },
  {
   "cell_type": "code",
   "execution_count": 5,
   "id": "10fffe41-cb93-4b9f-8cf7-80e541a5bbb9",
   "metadata": {
    "collapsed": true,
    "jupyter": {
     "outputs_hidden": true
    },
    "tags": []
   },
   "outputs": [
    {
     "name": "stdout",
     "output_type": "stream",
     "text": [
      "Saved questions for year 1991 to ../datasets/historical_questions/1991/1991_questions_from_current_justices.csv\n",
      "Saved questions for year 1992 to ../datasets/historical_questions/1992/1992_questions_from_current_justices.csv\n",
      "Saved questions for year 1993 to ../datasets/historical_questions/1993/1993_questions_from_current_justices.csv\n",
      "Saved questions for year 1994 to ../datasets/historical_questions/1994/1994_questions_from_current_justices.csv\n",
      "Saved questions for year 1995 to ../datasets/historical_questions/1995/1995_questions_from_current_justices.csv\n",
      "Saved questions for year 1996 to ../datasets/historical_questions/1996/1996_questions_from_current_justices.csv\n",
      "Saved questions for year 1997 to ../datasets/historical_questions/1997/1997_questions_from_current_justices.csv\n",
      "Saved questions for year 1998 to ../datasets/historical_questions/1998/1998_questions_from_current_justices.csv\n",
      "Saved questions for year 1999 to ../datasets/historical_questions/1999/1999_questions_from_current_justices.csv\n",
      "Saved questions for year 2000 to ../datasets/historical_questions/2000/2000_questions_from_current_justices.csv\n",
      "Saved questions for year 2001 to ../datasets/historical_questions/2001/2001_questions_from_current_justices.csv\n",
      "Saved questions for year 2002 to ../datasets/historical_questions/2002/2002_questions_from_current_justices.csv\n",
      "Saved questions for year 2005 to ../datasets/historical_questions/2005/2005_questions_from_current_justices.csv\n",
      "Saved questions for year 2006 to ../datasets/historical_questions/2006/2006_questions_from_current_justices.csv\n",
      "Saved questions for year 2007 to ../datasets/historical_questions/2007/2007_questions_from_current_justices.csv\n",
      "Saved questions for year 2008 to ../datasets/historical_questions/2008/2008_questions_from_current_justices.csv\n",
      "Saved questions for year 2009 to ../datasets/historical_questions/2009/2009_questions_from_current_justices.csv\n",
      "Saved questions for year 2010 to ../datasets/historical_questions/2010/2010_questions_from_current_justices.csv\n",
      "Saved questions for year 2011 to ../datasets/historical_questions/2011/2011_questions_from_current_justices.csv\n",
      "Saved questions for year 2012 to ../datasets/historical_questions/2012/2012_questions_from_current_justices.csv\n",
      "Saved questions for year 2013 to ../datasets/historical_questions/2013/2013_questions_from_current_justices.csv\n",
      "Saved questions for year 2014 to ../datasets/historical_questions/2014/2014_questions_from_current_justices.csv\n",
      "Saved questions for year 2015 to ../datasets/historical_questions/2015/2015_questions_from_current_justices.csv\n",
      "Saved questions for year 2016 to ../datasets/historical_questions/2016/2016_questions_from_current_justices.csv\n",
      "Saved questions for year 2017 to ../datasets/historical_questions/2017/2017_questions_from_current_justices.csv\n",
      "Saved questions for year 2018 to ../datasets/historical_questions/2018/2018_questions_from_current_justices.csv\n",
      "Saved questions for year 2019 to ../datasets/historical_questions/2019/2019_questions_from_current_justices.csv\n",
      "Saved questions for year 2020 to ../datasets/historical_questions/2020/2020_questions_from_current_justices.csv\n",
      "Saved questions for year 2021 to ../datasets/historical_questions/2021/2021_questions_from_current_justices.csv\n",
      "Saved questions for year 2022 to ../datasets/historical_questions/2022/2022_questions_from_current_justices.csv\n",
      "Saved questions for year 2023 to ../datasets/historical_questions/2023/2023_questions_from_current_justices.csv\n"
     ]
    }
   ],
   "source": [
    "base_out_dir = '../datasets/historical_questions/'\n",
    "\n",
    "# group dataset by year and save each group to a separate subdir\n",
    "for year, group in df.groupby('year'):\n",
    "    # create subdir\n",
    "    year_directory = os.path.join(base_out_dir, str(year))\n",
    "    os.makedirs(year_directory, exist_ok=True)\n",
    "    \n",
    "    # save slice to the file\n",
    "    output_path = os.path.join(year_directory, f'{year}_questions_from_current_justices.csv')\n",
    "    group.to_csv(output_path, index=False)\n",
    "    print(f\"Saved questions for year {year} to {output_path}\")\n"
   ]
  },
  {
   "cell_type": "markdown",
   "id": "1e529613-674f-4128-a826-7c1c48de2317",
   "metadata": {
    "jp-MarkdownHeadingCollapsed": true,
    "tags": []
   },
   "source": [
    "## Slice historical questions in each year into chunks of 1000 samples each"
   ]
  },
  {
   "cell_type": "code",
   "execution_count": 7,
   "id": "e99b605d-5f20-4a76-ba0f-2397a84b6ddb",
   "metadata": {},
   "outputs": [],
   "source": [
    "base_dir = '../datasets/historical_questions/'"
   ]
  },
  {
   "cell_type": "code",
   "execution_count": 9,
   "id": "de3780fb-004b-42a0-881a-59587c809e1a",
   "metadata": {
    "tags": []
   },
   "outputs": [
    {
     "name": "stdout",
     "output_type": "stream",
     "text": [
      "Saved slice 0 for year 2018 to ../datasets/historical_questions/2018/slices/2018_0_questions_from_current_justices.csv\n",
      "Saved slice 1 for year 2018 to ../datasets/historical_questions/2018/slices/2018_1_questions_from_current_justices.csv\n",
      "Saved slice 2 for year 2018 to ../datasets/historical_questions/2018/slices/2018_2_questions_from_current_justices.csv\n",
      "Saved slice 0 for year 2019 to ../datasets/historical_questions/2019/slices/2019_0_questions_from_current_justices.csv\n",
      "Saved slice 1 for year 2019 to ../datasets/historical_questions/2019/slices/2019_1_questions_from_current_justices.csv\n",
      "Saved slice 2 for year 2019 to ../datasets/historical_questions/2019/slices/2019_2_questions_from_current_justices.csv\n",
      "Saved slice 0 for year 2005 to ../datasets/historical_questions/2005/slices/2005_0_questions_from_current_justices.csv\n",
      "Saved slice 0 for year 2006 to ../datasets/historical_questions/2006/slices/2006_0_questions_from_current_justices.csv\n",
      "Saved slice 0 for year 2014 to ../datasets/historical_questions/2014/slices/2014_0_questions_from_current_justices.csv\n",
      "Saved slice 1 for year 2014 to ../datasets/historical_questions/2014/slices/2014_1_questions_from_current_justices.csv\n",
      "Saved slice 0 for year 2000 to ../datasets/historical_questions/2000/slices/2000_0_questions_from_current_justices.csv\n",
      "Saved slice 0 for year 2015 to ../datasets/historical_questions/2015/slices/2015_0_questions_from_current_justices.csv\n",
      "Saved slice 1 for year 2015 to ../datasets/historical_questions/2015/slices/2015_1_questions_from_current_justices.csv\n",
      "Saved slice 0 for year 2001 to ../datasets/historical_questions/2001/slices/2001_0_questions_from_current_justices.csv\n",
      "Saved slice 0 for year 2016 to ../datasets/historical_questions/2016/slices/2016_0_questions_from_current_justices.csv\n",
      "Saved slice 1 for year 2016 to ../datasets/historical_questions/2016/slices/2016_1_questions_from_current_justices.csv\n",
      "Saved slice 0 for year 2002 to ../datasets/historical_questions/2002/slices/2002_0_questions_from_current_justices.csv\n",
      "Saved slice 0 for year 2017 to ../datasets/historical_questions/2017/slices/2017_0_questions_from_current_justices.csv\n",
      "Saved slice 1 for year 2017 to ../datasets/historical_questions/2017/slices/2017_1_questions_from_current_justices.csv\n",
      "Saved slice 0 for year 2010 to ../datasets/historical_questions/2010/slices/2010_0_questions_from_current_justices.csv\n",
      "Saved slice 1 for year 2010 to ../datasets/historical_questions/2010/slices/2010_1_questions_from_current_justices.csv\n",
      "Saved slice 2 for year 2010 to ../datasets/historical_questions/2010/slices/2010_2_questions_from_current_justices.csv\n",
      "Saved slice 0 for year 1997 to ../datasets/historical_questions/1997/slices/1997_0_questions_from_current_justices.csv\n",
      "Saved slice 0 for year 2011 to ../datasets/historical_questions/2011/slices/2011_0_questions_from_current_justices.csv\n",
      "Saved slice 1 for year 2011 to ../datasets/historical_questions/2011/slices/2011_1_questions_from_current_justices.csv\n",
      "Saved slice 0 for year 1998 to ../datasets/historical_questions/1998/slices/1998_0_questions_from_current_justices.csv\n",
      "Saved slice 0 for year 2012 to ../datasets/historical_questions/2012/slices/2012_0_questions_from_current_justices.csv\n",
      "Saved slice 1 for year 2012 to ../datasets/historical_questions/2012/slices/2012_1_questions_from_current_justices.csv\n",
      "Saved slice 0 for year 1999 to ../datasets/historical_questions/1999/slices/1999_0_questions_from_current_justices.csv\n",
      "Saved slice 0 for year 2013 to ../datasets/historical_questions/2013/slices/2013_0_questions_from_current_justices.csv\n",
      "Saved slice 1 for year 2013 to ../datasets/historical_questions/2013/slices/2013_1_questions_from_current_justices.csv\n",
      "Saved slice 0 for year 2020 to ../datasets/historical_questions/2020/slices/2020_0_questions_from_current_justices.csv\n",
      "Saved slice 1 for year 2020 to ../datasets/historical_questions/2020/slices/2020_1_questions_from_current_justices.csv\n",
      "Saved slice 2 for year 2020 to ../datasets/historical_questions/2020/slices/2020_2_questions_from_current_justices.csv\n",
      "Saved slice 3 for year 2020 to ../datasets/historical_questions/2020/slices/2020_3_questions_from_current_justices.csv\n",
      "Saved slice 0 for year 1993 to ../datasets/historical_questions/1993/slices/1993_0_questions_from_current_justices.csv\n",
      "Saved slice 0 for year 2021 to ../datasets/historical_questions/2021/slices/2021_0_questions_from_current_justices.csv\n",
      "Saved slice 1 for year 2021 to ../datasets/historical_questions/2021/slices/2021_1_questions_from_current_justices.csv\n",
      "Saved slice 2 for year 2021 to ../datasets/historical_questions/2021/slices/2021_2_questions_from_current_justices.csv\n",
      "Saved slice 3 for year 2021 to ../datasets/historical_questions/2021/slices/2021_3_questions_from_current_justices.csv\n",
      "Saved slice 0 for year 1994 to ../datasets/historical_questions/1994/slices/1994_0_questions_from_current_justices.csv\n",
      "Saved slice 0 for year 2022 to ../datasets/historical_questions/2022/slices/2022_0_questions_from_current_justices.csv\n",
      "Saved slice 1 for year 2022 to ../datasets/historical_questions/2022/slices/2022_1_questions_from_current_justices.csv\n",
      "Saved slice 2 for year 2022 to ../datasets/historical_questions/2022/slices/2022_2_questions_from_current_justices.csv\n",
      "Saved slice 3 for year 2022 to ../datasets/historical_questions/2022/slices/2022_3_questions_from_current_justices.csv\n",
      "Saved slice 4 for year 2022 to ../datasets/historical_questions/2022/slices/2022_4_questions_from_current_justices.csv\n",
      "Saved slice 0 for year 1995 to ../datasets/historical_questions/1995/slices/1995_0_questions_from_current_justices.csv\n",
      "Saved slice 0 for year 2023 to ../datasets/historical_questions/2023/slices/2023_0_questions_from_current_justices.csv\n",
      "Saved slice 1 for year 2023 to ../datasets/historical_questions/2023/slices/2023_1_questions_from_current_justices.csv\n",
      "Saved slice 2 for year 2023 to ../datasets/historical_questions/2023/slices/2023_2_questions_from_current_justices.csv\n",
      "Saved slice 3 for year 2023 to ../datasets/historical_questions/2023/slices/2023_3_questions_from_current_justices.csv\n",
      "Saved slice 4 for year 2023 to ../datasets/historical_questions/2023/slices/2023_4_questions_from_current_justices.csv\n",
      "Saved slice 0 for year 1996 to ../datasets/historical_questions/1996/slices/1996_0_questions_from_current_justices.csv\n",
      "Saved slice 0 for year 2007 to ../datasets/historical_questions/2007/slices/2007_0_questions_from_current_justices.csv\n",
      "Saved slice 0 for year 2008 to ../datasets/historical_questions/2008/slices/2008_0_questions_from_current_justices.csv\n",
      "Saved slice 0 for year 1991 to ../datasets/historical_questions/1991/slices/1991_0_questions_from_current_justices.csv\n",
      "Saved slice 0 for year 2009 to ../datasets/historical_questions/2009/slices/2009_0_questions_from_current_justices.csv\n",
      "Saved slice 1 for year 2009 to ../datasets/historical_questions/2009/slices/2009_1_questions_from_current_justices.csv\n",
      "Saved slice 0 for year 1992 to ../datasets/historical_questions/1992/slices/1992_0_questions_from_current_justices.csv\n"
     ]
    }
   ],
   "source": [
    "for year_folder in os.listdir(base_dir):\n",
    "    year_path = os.path.join(base_dir, year_folder)\n",
    "    year_csv = os.path.join(year_path, f'{year_folder}_questions_from_current_justices.csv')\n",
    "    if os.path.exists(year_csv): # may not exist if previous section has not ran\n",
    "        df = pd.read_csv(year_csv)\n",
    "\n",
    "        slices_dir = os.path.join(year_path, 'slices')\n",
    "        os.makedirs(slices_dir, exist_ok=True)\n",
    "\n",
    "        # Split the dataframe into chunks of 1000\n",
    "        num_chunks = (len(df) + 999) // 1000\n",
    "        for i in range(num_chunks):\n",
    "            start_idx = i * 1000\n",
    "            end_idx = start_idx + 1000\n",
    "            chunk = df[start_idx:end_idx]\n",
    "\n",
    "            # Save chunk\n",
    "            output_file = os.path.join(\n",
    "                slices_dir, f'{year_folder}_{i}_questions_from_current_justices.csv'\n",
    "            )\n",
    "            chunk.to_csv(output_file, index=False)\n",
    "            print(f\"Saved slice {i} for year {year_folder} to {output_file}\")"
   ]
  },
  {
   "cell_type": "code",
   "execution_count": null,
   "id": "c69a146c-c0f0-4f19-bd7f-ae9c161e5a3b",
   "metadata": {},
   "outputs": [],
   "source": []
  }
 ],
 "metadata": {
  "kernelspec": {
   "display_name": "Python 3 (ipykernel)",
   "language": "python",
   "name": "python3"
  },
  "language_info": {
   "codemirror_mode": {
    "name": "ipython",
    "version": 3
   },
   "file_extension": ".py",
   "mimetype": "text/x-python",
   "name": "python",
   "nbconvert_exporter": "python",
   "pygments_lexer": "ipython3",
   "version": "3.9.7"
  }
 },
 "nbformat": 4,
 "nbformat_minor": 5
}
