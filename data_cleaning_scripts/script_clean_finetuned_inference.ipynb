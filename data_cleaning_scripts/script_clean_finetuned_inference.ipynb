{
 "cells": [
  {
   "cell_type": "markdown",
   "metadata": {},
   "source": [
    "## Clean Inference Outputs from Finetuned Models"
   ]
  },
  {
   "cell_type": "markdown",
   "metadata": {},
   "source": [
    "This notebook does a simple cleanup of the responses from finetuned models. The original inference jsonl files is stored in `datasets/llm_outputs/finetuned_inference/raw/`, under the column `full_response`. But this contains headers and the prompt as well. This notebook:\n",
    "1. reads original jsonl as a pandas df\n",
    "2. applies a simple regex to the value in column `full_response`, to extract just the assistant part\n",
    "3. stores result for each row in a new column titled `prediction`\n",
    "4. Saves final dataframe to a new jsonl in `datasets/llm_outputs/finetuned_inference/processed/`\n",
    " \n",
    "From the resulting jsonl, the following three columns can now be used for assessing quality of model output:\n",
    "* `instruction`\n",
    "* `output`\n",
    "* `prediction`\n"
   ]
  },
  {
   "cell_type": "code",
   "execution_count": null,
   "metadata": {},
   "outputs": [],
   "source": [
    "import pandas as pd\n",
    "import re\n",
    "\n",
    "def clean_response(text):\n",
    "    pattern = r\"<\\|start_header_id\\|>assistant<\\|end_header_id\\|>\\s*\\n\\n(.*?)<\\|eot_id\\|>\"\n",
    "    match = re.search(pattern, text, flags=re.DOTALL)\n",
    "    if match:\n",
    "        extracted_text = match.group(1)\n",
    "        return extracted_text\n",
    "    else:\n",
    "        return None\n",
    "\n",
    "in_file = \"../datasets/llm_outputs/finetuned_inference/raw/Meta-Llama-3.1-8B-Instruct-bnb-4bit_inference_oral_arg_test_901.jsonl\"\n",
    "out_file = \"../datasets/llm_outputs/finetuned_inference/processed/Meta-Llama-3.1-8B-Instruct-bnb-4bit_inference_oral_arg_test_901.jsonl\"\n",
    "\n",
    "df = pd.read_json(in_file, lines=True)\n",
    "\n",
    "df['prediction'] = df['full_response'].apply(clean_response)\n",
    "df.to_json(out_file, orient=\"records\", lines=True)"
   ]
  }
 ],
 "metadata": {
  "kernelspec": {
   "display_name": "research",
   "language": "python",
   "name": "python3"
  },
  "language_info": {
   "codemirror_mode": {
    "name": "ipython",
    "version": 3
   },
   "file_extension": ".py",
   "mimetype": "text/x-python",
   "name": "python",
   "nbconvert_exporter": "python",
   "pygments_lexer": "ipython3",
   "version": "3.12.3"
  }
 },
 "nbformat": 4,
 "nbformat_minor": 2
}
