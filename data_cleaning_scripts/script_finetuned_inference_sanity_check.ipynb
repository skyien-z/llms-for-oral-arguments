{
 "cells": [
  {
   "cell_type": "markdown",
   "metadata": {},
   "source": [
    "## Sanity check on finetuned inference "
   ]
  },
  {
   "cell_type": "markdown",
   "metadata": {},
   "source": [
    "Note: **Rough Notebook rn - needs cleanup**"
   ]
  },
  {
   "cell_type": "code",
   "execution_count": null,
   "metadata": {},
   "outputs": [],
   "source": [
    "import pandas as pd\n",
    "\n",
    "# in_file = \"../datasets/llm_outputs/finetuned_inference/processed/Meta-Llama-3.1-8B-Instruct-bnb-4bit_inference_oral_arg_test_901.jsonl\"\n",
    "in_file = \"../datasets/llm_outputs/finetuned_inference/processed/Llama-3.3-70B-Instruct-bnb-4bit_inference_oral_arg_test_201.jsonl\"\n",
    "\n",
    "\n",
    "df = pd.read_json(in_file, lines=True)"
   ]
  },
  {
   "cell_type": "code",
   "execution_count": 27,
   "metadata": {},
   "outputs": [
    {
     "data": {
      "text/html": [
       "<div>\n",
       "<style scoped>\n",
       "    .dataframe tbody tr th:only-of-type {\n",
       "        vertical-align: middle;\n",
       "    }\n",
       "\n",
       "    .dataframe tbody tr th {\n",
       "        vertical-align: top;\n",
       "    }\n",
       "\n",
       "    .dataframe thead th {\n",
       "        text-align: right;\n",
       "    }\n",
       "</style>\n",
       "<table border=\"1\" class=\"dataframe\">\n",
       "  <thead>\n",
       "    <tr style=\"text-align: right;\">\n",
       "      <th></th>\n",
       "      <th>system_prompt</th>\n",
       "      <th>instruction</th>\n",
       "      <th>output</th>\n",
       "      <th>transcript_id</th>\n",
       "      <th>justice</th>\n",
       "      <th>full_response</th>\n",
       "      <th>prediction</th>\n",
       "    </tr>\n",
       "  </thead>\n",
       "  <tbody>\n",
       "    <tr>\n",
       "      <th>0</th>\n",
       "      <td>You are a Supreme Court Justice participating ...</td>\n",
       "      <td>&lt;context&gt;\\n&lt;turn&gt;Justice John G. Roberts, Jr.:...</td>\n",
       "      <td>Justice Amy Coney Barrett: Good morning, Mr. M...</td>\n",
       "      <td>2020.20-472-t01</td>\n",
       "      <td>Justice Amy Coney Barrett</td>\n",
       "      <td>&lt;|begin_of_text|&gt;&lt;|start_header_id|&gt;system&lt;|en...</td>\n",
       "      <td>Justice Amy Coney Barrett: Good morning, Mr. M...</td>\n",
       "    </tr>\n",
       "    <tr>\n",
       "      <th>1</th>\n",
       "      <td>You are a Supreme Court Justice participating ...</td>\n",
       "      <td>&lt;context&gt;\\n&lt;turn&gt;Justice Brett M. Kavanaugh:  ...</td>\n",
       "      <td>Justice Ketanji Brown Jackson:  So I guess I'm...</td>\n",
       "      <td>2023.22-1025-t01</td>\n",
       "      <td>Justice Ketanji Brown Jackson</td>\n",
       "      <td>&lt;|begin_of_text|&gt;&lt;|start_header_id|&gt;system&lt;|en...</td>\n",
       "      <td>Justice Ketanji Brown Jackson:  Yes. I'm still...</td>\n",
       "    </tr>\n",
       "    <tr>\n",
       "      <th>2</th>\n",
       "      <td>You are a Supreme Court Justice participating ...</td>\n",
       "      <td>&lt;context&gt;\\n&lt;turn&gt;Justice Clarence Thomas: Mr. ...</td>\n",
       "      <td>Justice Neil Gorsuch: But, counsel, where does...</td>\n",
       "      <td>2021.20-1650-t01</td>\n",
       "      <td>Justice Neil Gorsuch</td>\n",
       "      <td>&lt;|begin_of_text|&gt;&lt;|start_header_id|&gt;system&lt;|en...</td>\n",
       "      <td>Justice Neil Gorsuch: Counsel, I'm not sure I ...</td>\n",
       "    </tr>\n",
       "    <tr>\n",
       "      <th>3</th>\n",
       "      <td>You are a Supreme Court Justice participating ...</td>\n",
       "      <td>&lt;context&gt;\\n&lt;turn&gt;Justice Samuel A. Alito, Jr.:...</td>\n",
       "      <td>Justice Elena Kagan:  You've referred a couple...</td>\n",
       "      <td>2023.23-175-t01</td>\n",
       "      <td>Justice Elena Kagan</td>\n",
       "      <td>&lt;|begin_of_text|&gt;&lt;|start_header_id|&gt;system&lt;|en...</td>\n",
       "      <td>Justice Elena Kagan:  Ms. Evangelis, I'm wonde...</td>\n",
       "    </tr>\n",
       "    <tr>\n",
       "      <th>4</th>\n",
       "      <td>You are a Supreme Court Justice participating ...</td>\n",
       "      <td>&lt;context&gt;\\n&lt;turn&gt;Joseph R. Guerra: Justice Gin...</td>\n",
       "      <td>Justice John G. Roberts, Jr.: What about revie...</td>\n",
       "      <td>2007.06-1321-t01</td>\n",
       "      <td>Justice John G. Roberts, Jr.</td>\n",
       "      <td>&lt;|begin_of_text|&gt;&lt;|start_header_id|&gt;system&lt;|en...</td>\n",
       "      <td>Justice John G. Roberts, Jr.: So what if the u...</td>\n",
       "    </tr>\n",
       "  </tbody>\n",
       "</table>\n",
       "</div>"
      ],
      "text/plain": [
       "                                       system_prompt  \\\n",
       "0  You are a Supreme Court Justice participating ...   \n",
       "1  You are a Supreme Court Justice participating ...   \n",
       "2  You are a Supreme Court Justice participating ...   \n",
       "3  You are a Supreme Court Justice participating ...   \n",
       "4  You are a Supreme Court Justice participating ...   \n",
       "\n",
       "                                         instruction  \\\n",
       "0  <context>\\n<turn>Justice John G. Roberts, Jr.:...   \n",
       "1  <context>\\n<turn>Justice Brett M. Kavanaugh:  ...   \n",
       "2  <context>\\n<turn>Justice Clarence Thomas: Mr. ...   \n",
       "3  <context>\\n<turn>Justice Samuel A. Alito, Jr.:...   \n",
       "4  <context>\\n<turn>Joseph R. Guerra: Justice Gin...   \n",
       "\n",
       "                                              output     transcript_id  \\\n",
       "0  Justice Amy Coney Barrett: Good morning, Mr. M...   2020.20-472-t01   \n",
       "1  Justice Ketanji Brown Jackson:  So I guess I'm...  2023.22-1025-t01   \n",
       "2  Justice Neil Gorsuch: But, counsel, where does...  2021.20-1650-t01   \n",
       "3  Justice Elena Kagan:  You've referred a couple...   2023.23-175-t01   \n",
       "4  Justice John G. Roberts, Jr.: What about revie...  2007.06-1321-t01   \n",
       "\n",
       "                         justice  \\\n",
       "0      Justice Amy Coney Barrett   \n",
       "1  Justice Ketanji Brown Jackson   \n",
       "2           Justice Neil Gorsuch   \n",
       "3            Justice Elena Kagan   \n",
       "4   Justice John G. Roberts, Jr.   \n",
       "\n",
       "                                       full_response  \\\n",
       "0  <|begin_of_text|><|start_header_id|>system<|en...   \n",
       "1  <|begin_of_text|><|start_header_id|>system<|en...   \n",
       "2  <|begin_of_text|><|start_header_id|>system<|en...   \n",
       "3  <|begin_of_text|><|start_header_id|>system<|en...   \n",
       "4  <|begin_of_text|><|start_header_id|>system<|en...   \n",
       "\n",
       "                                          prediction  \n",
       "0  Justice Amy Coney Barrett: Good morning, Mr. M...  \n",
       "1  Justice Ketanji Brown Jackson:  Yes. I'm still...  \n",
       "2  Justice Neil Gorsuch: Counsel, I'm not sure I ...  \n",
       "3  Justice Elena Kagan:  Ms. Evangelis, I'm wonde...  \n",
       "4  Justice John G. Roberts, Jr.: So what if the u...  "
      ]
     },
     "execution_count": 27,
     "metadata": {},
     "output_type": "execute_result"
    }
   ],
   "source": [
    "df.head()"
   ]
  },
  {
   "cell_type": "code",
   "execution_count": 3,
   "metadata": {},
   "outputs": [
    {
     "data": {
      "text/plain": [
       "['<context>',\n",
       " '<turn>Justice John G. Roberts, Jr.: Justice Kavanaugh.</turn>',\n",
       " '<turn>Justice Neil Gorsuch: Thank you, Mr. Michel.</turn>',\n",
       " '<turn>Justice Brett M. Kavanaugh: Thank you, Chief Justice. Good morning, Mr. Michel. Mr. Keisler\\'s second argument in his brief, which is his lead argument today, the argument that the extension, the word \"extension\" is temporal but does not have to be continuous, just to set up how I\\'m thinking about this and then get your response, you know, you -- you admit it\\'s not an unambiguous word. I think Congress uses \"extension\" sometimes even when something\\'s lapsed. We have the examples -- COVID and other examples. You make a big deal about ordinary usage, but I\\'ll give you three instances in my life where ordinary usage goes the other way from what you -- what you say. So sometimes one that you\\'re teaching and you have a 5:00 p.m. due date for a paper, you know, after the due date, you will get an e-mail entitled Extension Request, you grant a paper extension afterwards. Or when a -- you use a sports contract example in your brief, but oftentimes, if the contract ends at the end of the season, in the off-season, the player signs a new contract. That will be described by most people as player extends for two more years. Or, if you let your print newspaper subscription lapse for a time and then you start it up again, you\\'ll tell your family member or friend, oh, I extended the paper subscription. So I -- I think ordinary usage also, like congressional usage, in my experience at least doesn\\'t tell us exactly. So how do we break this? And the two things he emphasizes are \"at any time\" and that that\\'s -- there\\'s no sunset date. So I want to get your responses to that. And then also on the purpose and context, if we get to that, to help break what -- I don\\'t want to say tie, but to figure out what Congress was thinking about with the word or what it was doing with the word \"extension,\" your position is that Congress wanted small fine -- refineries to have no outlet at all, to essentially go out of business, whereas the other side\\'s position is simply that EPA would have authority, as a matter of separation of powers, authority to grant an exemption if a small refinery had -- had a -- had a problem, and it really seems quite implausible to think Congress wanted refineries in that circumstance to go out of business. So, if I can get your response on the \"at any time,\" no sunset date, and the implausibility of Congress wanting small refineries to go out of business rather than EPA having authority.</turn>',\n",
       " '<turn>Christopher G. Michel: Thanks, Justice Kavanaugh. And I think I can maybe fold in a little bit of your first question too or your comment. You know, I think \"at any time\" means exactly what it says, which is that a small refinery can ask for an extension of the exemption at any time, but that doesn\\'t define what an extension of the exemption is. So, in Justice Kagan\\'s example, I think, if that renter originally had a lease that said you can extend your lease at any time, I don\\'t think it would work to come back five years later and ask for an extension. I think, as my friend said, the landlord would still scratch his or her head. So I think, although I take your point that --</turn>',\n",
       " '<turn>Justice Brett M. Kavanaugh: How about 10 days later?</turn>',\n",
       " '<turn>Christopher G. Michel: So I -- I -- I do think 10 days later would be --</turn>',\n",
       " \"<turn>Justice Brett M. Kavanaugh: I don't think we should base our decision here on absurd -- not absurd but extreme hypotheticals or -- or they're not absurd, they're extreme, though, but, like, a few days later you would call that an extension?</turn>\",\n",
       " '<turn>Christopher G. Michel: I -- I -- I think you might, but I think that would be because you were running it back in a sort of nunc pro tunc sense to the prior.</turn>',\n",
       " '<turn>Justice Brett M. Kavanaugh: Exactly, exactly.</turn>',\n",
       " \"<turn>Christopher G. Michel: Sure. And -- but I -- I want to make very clear that's not what the small refineries are asking for here. They had extent -- exemptions through 2011 or 2013 respectively.</turn>\",\n",
       " '<turn>Justice Brett M. Kavanaugh: Right.</turn>',\n",
       " \"<turn>Christopher G. Michel: And they're asking now for an extension into 2016 or 2017. So it really is Justice Kagan's hypothetical and not the nunc pro tunc extension. On the purpose and context, I -- I think, if you thought they were going to go out of business, this would be a tougher case. They haven't gone out of business in the past when many small refineries have complied, but, of course, the -- the purpose of this program was to drive change in the -- in the fuel market.</turn>\",\n",
       " '<turn>Justice Brett M. Kavanaugh: Drive change --</turn>',\n",
       " '<turn>Justice John G. Roberts, Jr.: Justice Barrett.</turn>',\n",
       " \"<turn>Justice Brett M. Kavanaugh: -- to the point of driving small refineries out of business? I don't see that anywhere in the -- in the text or -- or history.</turn>\",\n",
       " '<turn>Justice John G. Roberts, Jr.: Justice Barrett.</turn>',\n",
       " '</context>',\n",
       " '<justice>Justice Amy Coney Barrett</justice>',\n",
       " 'Generate a question that Justice Amy Coney Barrett is likely to ask next.']"
      ]
     },
     "execution_count": 3,
     "metadata": {},
     "output_type": "execute_result"
    }
   ],
   "source": [
    "df['instruction'][0].split('\\n')"
   ]
  },
  {
   "cell_type": "code",
   "execution_count": 4,
   "metadata": {},
   "outputs": [
    {
     "data": {
      "text/plain": [
       "'Justice Amy Coney Barrett: Good morning, Mr. Michel. I want to make sure I have a handle on what you mean by \"ambiguous.\" You said a couple times that the word \"extension\" is ambiguous, and -- and I would have thought that by that, you mean that it does have several definitions which we\\'ve gone over during argument and in the briefs, if you look in a dictionary, but that in the context of this statute, it\\'s clear which of those definitions -- or reasonably clear that there\\'s a better indication of which of those definitions is the right one. Am I understanding your argument correctly?'"
      ]
     },
     "execution_count": 4,
     "metadata": {},
     "output_type": "execute_result"
    }
   ],
   "source": [
    "df['output'][0]"
   ]
  },
  {
   "cell_type": "code",
   "execution_count": 5,
   "metadata": {},
   "outputs": [
    {
     "data": {
      "text/plain": [
       "'Justice Amy Coney Barrett: Good morning, Mr. Michel. I want to go back to Justice Kavanaugh\\'s question about the use of the word \"extension\" and the fact that he gave you some examples of ordinary usage. I mean, I -- I think, you know, I agree with you that we don\\'t normally think of extensions as being discontinuous, but I think the problem is that there are examples, like the ones Justice Kavanaugh gave you, where we do. So what do we do with that? I mean, because I think you\\'re right that -- that we don\\'t normally think of extensions as discontinuous.'"
      ]
     },
     "execution_count": 5,
     "metadata": {},
     "output_type": "execute_result"
    }
   ],
   "source": [
    "df['prediction'][0]"
   ]
  },
  {
   "cell_type": "code",
   "execution_count": 11,
   "metadata": {},
   "outputs": [
    {
     "data": {
      "text/plain": [
       "\"You are a Supreme Court Justice participating in oral arguments. Given a transcript excerpt and a Justice's name, generate the Justice's next question in response to the conversation history.\""
      ]
     },
     "execution_count": 11,
     "metadata": {},
     "output_type": "execute_result"
    }
   ],
   "source": [
    "df['system_prompt'][0]"
   ]
  },
  {
   "cell_type": "code",
   "execution_count": 45,
   "metadata": {},
   "outputs": [
    {
     "data": {
      "text/plain": [
       "' \\n\\n\"You are a Supreme Court Justice participating in oral arguments. Given a transcript excerpt and a Justice\\'s name, \\ngenerate the Justice\\'s next question in response to the conversation history.\"\\n'"
      ]
     },
     "execution_count": 45,
     "metadata": {},
     "output_type": "execute_result"
    }
   ],
   "source": [
    "import json\n",
    "import argparse\n",
    "import pandas as pd\n",
    "from rich.console import Console\n",
    "from rich.table import Table\n",
    "from rich.markdown import Markdown\n",
    "import textwrap\n",
    "\n",
    "def load_jsonl(file_path):\n",
    "    \"\"\"Load a JSONL file into a list of dictionaries.\"\"\"\n",
    "    with open(file_path, 'r', encoding='utf-8') as f:\n",
    "        return [json.loads(line) for line in f]\n",
    "\n",
    "def display_comparison(data):\n",
    "    \"\"\"Display instruction, output, and prediction for comparison.\"\"\"\n",
    "    console = Console()\n",
    "    \n",
    "    # for idx, entry in enumerate(data):\n",
    "    for idx, entry in data.iterrows():\n",
    "        # console.print(f\"[bold cyan]Example {idx + 1}[/bold cyan]\", style=\"bold\")\n",
    "        \n",
    "        # Display Instruction (Context)\n",
    "        # console.print(Markdown(f\"**Instruction (Context)**:\\n{entry['instruction'].split('\\n')}\\n\"))\n",
    "        print(\"#### CONTEXT: \")\n",
    "        # console.print(\"#### CONTEXT:\", style=\"bold yellow\")\n",
    "        # wrapped_context = textwrap.fill(entry['instruction'], width=80)\n",
    "        # console.print(wrapped_context)\n",
    "        for t in entry['instruction'].split('\\n'):\n",
    "            wrapped_t = textwrap.fill(t, width=160)\n",
    "            print(wrapped_t)\n",
    "        # console.print(Markdown(f\"**Instruction (Context)**:\\n{entry['instruction'].split('\\n')}\\n\"))\n",
    "        \n",
    "        # Display Output (Model Generated Response)\n",
    "        table = Table(show_header=True, header_style=\"bold magenta\")\n",
    "        table.add_column(\"Field\", style=\"bold\")\n",
    "        table.add_column(\"Text\", style=\"italic\")\n",
    "        table.add_row(\"Ground Truth\", entry.get('output', 'N/A'))\n",
    "        table.add_row(\"Finetuned Llama 70B Prediction\", entry.get('prediction', 'N/A'))\n",
    "        console.print(table)\n",
    "        \n",
    "        console.print(\"\\n\" + \"-\" * 80 + \"\\n\")\n",
    "\n",
    "    \n",
    "# data = pd.DataFrame(load_jsonl(in_file))\n",
    "\n",
    "# display_comparison(data)\n",
    "\n",
    "\n",
    "\"\"\" \n",
    "\n",
    "\"You are a Supreme Court Justice participating in oral arguments. Given a transcript excerpt and a Justice's name, \n",
    "generate the Justice's next question in response to the conversation history.\"\n",
    "\"\"\"\n"
   ]
  },
  {
   "cell_type": "code",
   "execution_count": 46,
   "metadata": {},
   "outputs": [],
   "source": [
    "in_file = \"../datasets/finetune/train.jsonl\"\n",
    "data_train = pd.DataFrame(load_jsonl(in_file))\n",
    "train_tids = data_train['transcript_id'].unique()\n",
    "\n",
    "in_file = \"../datasets/llm_outputs/finetuned_inference/processed/Llama-3.3-70B-Instruct-bnb-4bit_inference_oral_arg_test_201.jsonl\"\n",
    "data_test = pd.DataFrame(load_jsonl(in_file))\n",
    "df_filtered = data_test[data_test['transcript_id'].apply(lambda x: x not in train_tids)]"
   ]
  },
  {
   "cell_type": "code",
   "execution_count": 47,
   "metadata": {},
   "outputs": [
    {
     "name": "stdout",
     "output_type": "stream",
     "text": [
      "#### CONTEXT: \n",
      "<context>\n",
      "<turn>Justice Stephen G. Breyer: Well, I'm just--</turn>\n",
      "<turn>Thomas G. Cotter: --point--</turn>\n",
      "<turn>Justice Stephen G. Breyer: --reading from their brief. What they say is, the court stressed that the equivalence is important. The equivalence of what?\n",
      "Under Washington law, State and municipal government entities are liable only to the same extent as a private person. And they cite page 825. And they stress\n",
      "this equivalence, because a finding of immunity for State employees under State law does not determine the scope of the U.S. liabilities.</turn>\n",
      "<turn>Thomas G. Cotter: --And, in fact, Your Honor, the equivalence factor in Louie is present in this case.</turn>\n",
      "<turn>Justice Stephen G. Breyer: Well, anyway, if Louie helps something other than that, it's wrong, too, isn't it? Because what the statute says is, it's a\n",
      "question of looking to the--</turn>\n",
      "<turn>Thomas G. Cotter: We--</turn>\n",
      "<turn>Justice Stephen G. Breyer: --private person.</turn>\n",
      "<turn>Thomas G. Cotter: --The respondents concede that the question is \"private person under like circumstances\". We concede that point. Our point is simply\n",
      "that, on a motion to dismiss, the ninth circuit was faced with trying to decide What would Arizona law be with a private person under like circumstances?</turn>\n",
      "<turn>Justice Antonin Scalia: But it didn't try to do that. It made no effort to do that. It just said... it just said the United States may be liable when a\n",
      "State or municipal entity would be held liable. It made no effort to figure out what Washington would do with a private individual.</turn>\n",
      "<turn>Justice John G. Roberts, Jr.: In the... in the face of a district court opinion that applied the Good Samaritan statute and threw the case out because no\n",
      "allegation could be made to come within the Good Samaritan statute. So, it seems pretty clear that they're doing something quite different from what you're\n",
      "suggesting.</turn>\n",
      "<turn>Thomas G. Cotter: Well, Justice Roberts, our contention is that the genesis of the doctrine that they applied, and that the fifth circuit applies, and\n",
      "that the D.C. circuit applies, is to predict State law, that its purpose is not to expand liability where State law doesn't exist. In fact, if you read the\n",
      "opinion of the ninth circuit in this case, it acknowledges that private person is the test. But then it says that when we cannot find a private person, this is\n",
      "what we do. We go look to the State law. And the Crider case says, basically, that when you do that... from the fifth circuit... what you're doing is looking at\n",
      "the legal principles that are... you're looking at a factual situation that best articulates the State law legal principles--</turn>\n",
      "<turn>Justice John G. Roberts, Jr.: But, doesn't that approach... it doesn't make any sense, because you're only looking at half of the equation. Presumably, if\n",
      "you have a special set of principles for governmental actors, they include immunities and defenses and all that. And you just want the benefit of the liability,\n",
      "but you don't want, I take it, the immunities and defenses that go along with it.</turn>\n",
      "<turn>Thomas G. Cotter: --Well, that issue was actually raised in the Hatchel case, in the D.C. circuit, where the... there was a highspeed chase and the\n",
      "officer caused a collision, and what happened was, the Government argued that you can't apply the standard applicable defined duty of the Government, but you\n",
      "can apply the Government... or the D.C. regulations as to standard of care. And the D.C. Circuit found, no, it would follow Louie and Crider, and say that the\n",
      "best predictor of the State law, when you can't find an analogous private person, is the liability statutes that concern the law enforcement, but, following\n",
      "Indian Towing, it would not apply the gross negligence standard that the D.C. Circuithad adopted that concerned the officers.</turn>\n",
      "<turn>Justice Stephen G. Breyer: That's actually a rather interesting question I don't really know the answer to. The idea is that you can't find an analogous\n",
      "private person. We might have to write something about that. You could say... you... there always is an analogous private person. It's impossible to think of an\n",
      "example. The other extreme, you have the ninth circuit, which could... which says as long as the Government was involved in regulation, there is no analogous\n",
      "private person, because private people don't regulate. I would think that was almost certainly wrong. But what is the right way to go about it? Are there such\n",
      "people, or aren't there?</turn>\n",
      "<turn>Thomas G. Cotter: Well, Your Honor, what I would say in this case is, the absolute wrong way to go about it is on a motion to dismiss, because,\n",
      "unfortunately, the record wasn't developed, which may, in fact, speak to issues that may, in fact, address Arizona law on Good Samaritan, for instance... the\n",
      "issue of whether, under Arizona law, a duty was assumed, the issue of whether reliance exists. And I have to correct the Solicitor General. The reliance does\n",
      "not merely come from the injured party. The restatement section, section three... or the restatement section 324 says reliance is from the other for the injured\n",
      "party. So, in this case--</turn>\n",
      "</context>\n",
      "<justice>Justice John G. Roberts, Jr.</justice>\n",
      "Generate a question that Justice John G. Roberts, Jr. is likely to ask next.\n"
     ]
    },
    {
     "data": {
      "text/html": [
       "<pre style=\"white-space:pre;overflow-x:auto;line-height:normal;font-family:Menlo,'DejaVu Sans Mono',consolas,'Courier New',monospace\">┏━━━━━━━━━━━━━━━━━━━━━━━━━━━━━━━━┳━━━━━━━━━━━━━━━━━━━━━━━━━━━━━━━━━━━━━━━━━━━━━━━━━━━━━━━━━━━━━━━━━━━━━━━━━━━━━━━━┓\n",
       "┃<span style=\"color: #800080; text-decoration-color: #800080; font-weight: bold\"> Field                          </span>┃<span style=\"color: #800080; text-decoration-color: #800080; font-weight: bold\"> Text                                                                           </span>┃\n",
       "┡━━━━━━━━━━━━━━━━━━━━━━━━━━━━━━━━╇━━━━━━━━━━━━━━━━━━━━━━━━━━━━━━━━━━━━━━━━━━━━━━━━━━━━━━━━━━━━━━━━━━━━━━━━━━━━━━━━┩\n",
       "│<span style=\"font-weight: bold\"> Ground Truth                   </span>│<span style=\"font-style: italic\"> Justice John G. Roberts, Jr.: Well, doesn't that make it a contract case? If   </span>│\n",
       "│<span style=\"font-weight: bold\">                                </span>│<span style=\"font-style: italic\"> you're talking about the party who's contracted with, say, a private           </span>│\n",
       "│<span style=\"font-weight: bold\">                                </span>│<span style=\"font-style: italic\"> inspector... I mean, I have a contract, somebody comes and inspects the house  </span>│\n",
       "│<span style=\"font-weight: bold\">                                </span>│<span style=\"font-style: italic\"> for termites, and I assume, if they don't do a good job and the house is       </span>│\n",
       "│<span style=\"font-weight: bold\">                                </span>│<span style=\"font-style: italic\"> damaged, they're liable. But that's under contract, and this is a question of  </span>│\n",
       "│<span style=\"font-weight: bold\">                                </span>│<span style=\"font-style: italic\"> tort liability.                                                                </span>│\n",
       "│<span style=\"font-weight: bold\"> Finetuned Llama 70B Prediction </span>│<span style=\"font-style: italic\"> Justice John G. Roberts, Jr.: Do you know of any case in which the courts have </span>│\n",
       "│<span style=\"font-weight: bold\">                                </span>│<span style=\"font-style: italic\"> said, well, there is an analogous private person, so we're going to apply the  </span>│\n",
       "│<span style=\"font-weight: bold\">                                </span>│<span style=\"font-style: italic\"> law of private persons?                                                        </span>│\n",
       "└────────────────────────────────┴────────────────────────────────────────────────────────────────────────────────┘\n",
       "</pre>\n"
      ],
      "text/plain": [
       "┏━━━━━━━━━━━━━━━━━━━━━━━━━━━━━━━━┳━━━━━━━━━━━━━━━━━━━━━━━━━━━━━━━━━━━━━━━━━━━━━━━━━━━━━━━━━━━━━━━━━━━━━━━━━━━━━━━━┓\n",
       "┃\u001b[1;35m \u001b[0m\u001b[1;35mField                         \u001b[0m\u001b[1;35m \u001b[0m┃\u001b[1;35m \u001b[0m\u001b[1;35mText                                                                          \u001b[0m\u001b[1;35m \u001b[0m┃\n",
       "┡━━━━━━━━━━━━━━━━━━━━━━━━━━━━━━━━╇━━━━━━━━━━━━━━━━━━━━━━━━━━━━━━━━━━━━━━━━━━━━━━━━━━━━━━━━━━━━━━━━━━━━━━━━━━━━━━━━┩\n",
       "│\u001b[1m \u001b[0m\u001b[1mGround Truth                  \u001b[0m\u001b[1m \u001b[0m│\u001b[3m \u001b[0m\u001b[3mJustice John G. Roberts, Jr.: Well, doesn't that make it a contract case? If  \u001b[0m\u001b[3m \u001b[0m│\n",
       "│\u001b[1m                                \u001b[0m│\u001b[3m \u001b[0m\u001b[3myou're talking about the party who's contracted with, say, a private          \u001b[0m\u001b[3m \u001b[0m│\n",
       "│\u001b[1m                                \u001b[0m│\u001b[3m \u001b[0m\u001b[3minspector... I mean, I have a contract, somebody comes and inspects the house \u001b[0m\u001b[3m \u001b[0m│\n",
       "│\u001b[1m                                \u001b[0m│\u001b[3m \u001b[0m\u001b[3mfor termites, and I assume, if they don't do a good job and the house is      \u001b[0m\u001b[3m \u001b[0m│\n",
       "│\u001b[1m                                \u001b[0m│\u001b[3m \u001b[0m\u001b[3mdamaged, they're liable. But that's under contract, and this is a question of \u001b[0m\u001b[3m \u001b[0m│\n",
       "│\u001b[1m                                \u001b[0m│\u001b[3m \u001b[0m\u001b[3mtort liability.                                                               \u001b[0m\u001b[3m \u001b[0m│\n",
       "│\u001b[1m \u001b[0m\u001b[1mFinetuned Llama 70B Prediction\u001b[0m\u001b[1m \u001b[0m│\u001b[3m \u001b[0m\u001b[3mJustice John G. Roberts, Jr.: Do you know of any case in which the courts have\u001b[0m\u001b[3m \u001b[0m│\n",
       "│\u001b[1m                                \u001b[0m│\u001b[3m \u001b[0m\u001b[3msaid, well, there is an analogous private person, so we're going to apply the \u001b[0m\u001b[3m \u001b[0m│\n",
       "│\u001b[1m                                \u001b[0m│\u001b[3m \u001b[0m\u001b[3mlaw of private persons?                                                       \u001b[0m\u001b[3m \u001b[0m│\n",
       "└────────────────────────────────┴────────────────────────────────────────────────────────────────────────────────┘\n"
      ]
     },
     "metadata": {},
     "output_type": "display_data"
    },
    {
     "data": {
      "text/html": [
       "<pre style=\"white-space:pre;overflow-x:auto;line-height:normal;font-family:Menlo,'DejaVu Sans Mono',consolas,'Courier New',monospace\">\n",
       "--------------------------------------------------------------------------------\n",
       "\n",
       "</pre>\n"
      ],
      "text/plain": [
       "\n",
       "--------------------------------------------------------------------------------\n",
       "\n"
      ]
     },
     "metadata": {},
     "output_type": "display_data"
    },
    {
     "name": "stdout",
     "output_type": "stream",
     "text": [
      "#### CONTEXT: \n",
      "<context>\n",
      "<turn>Gregory G. Katsas: Well, the person -- the person who was hurt -- as to the injury part --</turn>\n",
      "<turn>Justice Stephen G. Breyer: The injury is to somebody at the foreign airport.</turn>\n",
      "<turn>Gregory G. Katsas: The person -- the person who suffers injury from violation of that Act can't recover under RICO, because RICO is limited to recovery\n",
      "for business or property. Pursuant --</turn>\n",
      "<turn>Justice Stephen G. Breyer: Look, business is hurt. They blew up an airport in -- in Tasmania. Okay? So -- so I guess that blowing up an airport there\n",
      "could hurt somebody. But my question is, what was it doing in RICO, if in fact Congress doesn't intend a foreign person hurt to be able to get damages? It's\n",
      "already a crime.</turn>\n",
      "<turn>Justice Stephen G. Breyer: That's my -- and maybe this is the wrong example. Think of -- they have a list of about 50.</turn>\n",
      "<turn>Gregory G. Katsas: Right.</turn>\n",
      "<turn>Justice Stephen G. Breyer: Okay. So some of them, I can ask this question to: What's it doing in RICO unless they want somebody to get damages?</turn>\n",
      "<turn>Gregory G. Katsas: It -- there are something on the order of 200 predicate statutes that are in RICO. And the Solicitor General's appendix has -- cites\n",
      "about 46 of them, which have extraterritorial application. All but seven of those statutes have domestic, as well as extraterritorial application, including the\n",
      "one you just read. When you look at the government's appendix, what many of those statutes do is they take a statute, statute has domestic application, and then\n",
      "there's a provision that extends it extraterritorially. And what's quoted in the government's brief is the extension for extraterritorial application. So I\n",
      "think what your question goes to is, well, what about the -- what about statutes that are exclusively extraterritorial? There are seven of them. Only -- only\n",
      "one of them out of the 200 RICO predicates was specifically mentioned in RICO as one statute that it should apply.</turn>\n",
      "<turn>Justice Stephen G. Breyer: Okay. So your point granted is one word -- three words. Your answer to my question is four words: It was an accident. That's\n",
      "the answer.</turn>\n",
      "<turn>Gregory G. Katsas: No. I'm not saying it was an accident.</turn>\n",
      "<turn>Justice Stephen G. Breyer: Well, then, if it was not an accident -- I mean, explain to me the same question. I don't want to repeat the same question five\n",
      "times.</turn>\n",
      "<turn>Gregory G. Katsas: All -- all but -- the vast majority --</turn>\n",
      "<turn>Justice Stephen G. Breyer: Listen, let's look at the ones that were not, that are the seven, or if you want, the three. Why would a human being -- now\n",
      "you've got my question.</turn>\n",
      "<turn>Gregory G. Katsas: Yes.</turn>\n",
      "<turn>Justice Stephen G. Breyer: Why is it in RICO if they don't want damages?</turn>\n",
      "<turn>Gregory G. Katsas: Let's -- let's talk about the one that I mentioned. It's 18 U.S.C. 2260, that that provision addresses child -- child pornography\n",
      "offenses abroad with an intent to import into the United States. That provision has perfectly meaningful application for people who suffer -- people who suffer\n",
      "domestic injuries, and for United States enterprises -- United States racketeers who could use domestic enterprises to violate that provision. And even if I\n",
      "were wrong about that, Justice Breyer, I don't think you would use the one provision out of 200 as the basis for saying that the -- the statute that on it -- in\n",
      "the heartland of its application will do lots and lots and lots of meaningful work when it's applied to domestic injuries. The related point, this isn't just\n",
      "the presumption against extraterritoriality. We also have the background common law rule that causes of action to redress private injuries are governed by the\n",
      "law of the place of the injury. Here we have only foreign injuries. Congress legislates against the background common law rule, and just as the cause of action\n",
      "in RICO picks up background common law rules, approximate cause, so too it picks up this lex loci delicti rule, again absent some clear indication to the\n",
      "contrary. When you look for a clear indication with respect to the question of injury, not only don't you find a clear indication of the contrary, you find in\n",
      "the statutory findings in RICO a -- a repeated and specific and exclusive focus on the domestic effects of racketeering. Congress has identified its concern. It\n",
      "is -- it is impact on the American economy from racketeering. Certainly no clear indication to extend the cause of action to foreign harms.</turn>\n",
      "<turn>Justice Elena Kagan: Well, that may have been true, or largely true at the beginning, but how about all these amendments that happened after 9/11 which\n",
      "clearly seemed focus on foreign conduct, foreign organization, foreign harm?</turn>\n",
      "<turn>Gregory G. Katsas: There's -- there is one amendment that is cited, it's the Patriot Act, which does one thing to RICO. It expands the list of predicate\n",
      "statutes to include one provision. It's 2230 -- 2332b(g)(5)(B) It's a reference to that statute. When you go to that statute, it's a list. The list has 60 or so\n",
      "terrorism-related predicate crimes. 58 of those crimes have domestic application.</turn>\n",
      "</context>\n",
      "<justice>Justice Elena Kagan</justice>\n",
      "Generate a question that Justice Elena Kagan is likely to ask next.\n"
     ]
    },
    {
     "data": {
      "text/html": [
       "<pre style=\"white-space:pre;overflow-x:auto;line-height:normal;font-family:Menlo,'DejaVu Sans Mono',consolas,'Courier New',monospace\">┏━━━━━━━━━━━━━━━━━━━━━━━━━━━━━━━━┳━━━━━━━━━━━━━━━━━━━━━━━━━━━━━━━━━━━━━━━━━━━━━━━━━━━━━━━━━━━━━━━━━━━━━━━━━━━━━━━━┓\n",
       "┃<span style=\"color: #800080; text-decoration-color: #800080; font-weight: bold\"> Field                          </span>┃<span style=\"color: #800080; text-decoration-color: #800080; font-weight: bold\"> Text                                                                           </span>┃\n",
       "┡━━━━━━━━━━━━━━━━━━━━━━━━━━━━━━━━╇━━━━━━━━━━━━━━━━━━━━━━━━━━━━━━━━━━━━━━━━━━━━━━━━━━━━━━━━━━━━━━━━━━━━━━━━━━━━━━━━┩\n",
       "│<span style=\"font-weight: bold\"> Ground Truth                   </span>│<span style=\"font-style: italic\"> Justice Elena Kagan: Well, possibly they have some domestic application. But   </span>│\n",
       "│<span style=\"font-weight: bold\">                                </span>│<span style=\"font-style: italic\"> if you ask, but why did Congress pass this amendment at this particular moment </span>│\n",
       "│<span style=\"font-weight: bold\">                                </span>│<span style=\"font-style: italic\"> in time, what was -- I mean, recognizing that it's sometimes hard to figure    </span>│\n",
       "│<span style=\"font-weight: bold\">                                </span>│<span style=\"font-style: italic\"> out what was in people's heads, I mean, don't you think that what was in       </span>│\n",
       "│<span style=\"font-weight: bold\">                                </span>│<span style=\"font-style: italic\"> Congress's heads at that moment in time was foreign terrorist organizations    </span>│\n",
       "│<span style=\"font-weight: bold\">                                </span>│<span style=\"font-style: italic\"> committing terrorist conduct on foreign soil?                                  </span>│\n",
       "│<span style=\"font-weight: bold\"> Finetuned Llama 70B Prediction </span>│<span style=\"font-style: italic\"> Justice Elena Kagan: But then there's a -- there's a second amendment, which   </span>│\n",
       "│<span style=\"font-weight: bold\">                                </span>│<span style=\"font-style: italic\"> is the amendment that adds the statute that you're talking about, and that     </span>│\n",
       "│<span style=\"font-weight: bold\">                                </span>│<span style=\"font-style: italic\"> statute is clearly extraterritorial. And so that's an amendment that Congress  </span>│\n",
       "│<span style=\"font-weight: bold\">                                </span>│<span style=\"font-style: italic\"> made after 9/11 that is clearly extraterritorial. So how do you get around     </span>│\n",
       "│<span style=\"font-weight: bold\">                                </span>│<span style=\"font-style: italic\"> that?                                                                          </span>│\n",
       "└────────────────────────────────┴────────────────────────────────────────────────────────────────────────────────┘\n",
       "</pre>\n"
      ],
      "text/plain": [
       "┏━━━━━━━━━━━━━━━━━━━━━━━━━━━━━━━━┳━━━━━━━━━━━━━━━━━━━━━━━━━━━━━━━━━━━━━━━━━━━━━━━━━━━━━━━━━━━━━━━━━━━━━━━━━━━━━━━━┓\n",
       "┃\u001b[1;35m \u001b[0m\u001b[1;35mField                         \u001b[0m\u001b[1;35m \u001b[0m┃\u001b[1;35m \u001b[0m\u001b[1;35mText                                                                          \u001b[0m\u001b[1;35m \u001b[0m┃\n",
       "┡━━━━━━━━━━━━━━━━━━━━━━━━━━━━━━━━╇━━━━━━━━━━━━━━━━━━━━━━━━━━━━━━━━━━━━━━━━━━━━━━━━━━━━━━━━━━━━━━━━━━━━━━━━━━━━━━━━┩\n",
       "│\u001b[1m \u001b[0m\u001b[1mGround Truth                  \u001b[0m\u001b[1m \u001b[0m│\u001b[3m \u001b[0m\u001b[3mJustice Elena Kagan: Well, possibly they have some domestic application. But  \u001b[0m\u001b[3m \u001b[0m│\n",
       "│\u001b[1m                                \u001b[0m│\u001b[3m \u001b[0m\u001b[3mif you ask, but why did Congress pass this amendment at this particular moment\u001b[0m\u001b[3m \u001b[0m│\n",
       "│\u001b[1m                                \u001b[0m│\u001b[3m \u001b[0m\u001b[3min time, what was -- I mean, recognizing that it's sometimes hard to figure   \u001b[0m\u001b[3m \u001b[0m│\n",
       "│\u001b[1m                                \u001b[0m│\u001b[3m \u001b[0m\u001b[3mout what was in people's heads, I mean, don't you think that what was in      \u001b[0m\u001b[3m \u001b[0m│\n",
       "│\u001b[1m                                \u001b[0m│\u001b[3m \u001b[0m\u001b[3mCongress's heads at that moment in time was foreign terrorist organizations   \u001b[0m\u001b[3m \u001b[0m│\n",
       "│\u001b[1m                                \u001b[0m│\u001b[3m \u001b[0m\u001b[3mcommitting terrorist conduct on foreign soil?                                 \u001b[0m\u001b[3m \u001b[0m│\n",
       "│\u001b[1m \u001b[0m\u001b[1mFinetuned Llama 70B Prediction\u001b[0m\u001b[1m \u001b[0m│\u001b[3m \u001b[0m\u001b[3mJustice Elena Kagan: But then there's a -- there's a second amendment, which  \u001b[0m\u001b[3m \u001b[0m│\n",
       "│\u001b[1m                                \u001b[0m│\u001b[3m \u001b[0m\u001b[3mis the amendment that adds the statute that you're talking about, and that    \u001b[0m\u001b[3m \u001b[0m│\n",
       "│\u001b[1m                                \u001b[0m│\u001b[3m \u001b[0m\u001b[3mstatute is clearly extraterritorial. And so that's an amendment that Congress \u001b[0m\u001b[3m \u001b[0m│\n",
       "│\u001b[1m                                \u001b[0m│\u001b[3m \u001b[0m\u001b[3mmade after 9/11 that is clearly extraterritorial. So how do you get around    \u001b[0m\u001b[3m \u001b[0m│\n",
       "│\u001b[1m                                \u001b[0m│\u001b[3m \u001b[0m\u001b[3mthat?                                                                         \u001b[0m\u001b[3m \u001b[0m│\n",
       "└────────────────────────────────┴────────────────────────────────────────────────────────────────────────────────┘\n"
      ]
     },
     "metadata": {},
     "output_type": "display_data"
    },
    {
     "data": {
      "text/html": [
       "<pre style=\"white-space:pre;overflow-x:auto;line-height:normal;font-family:Menlo,'DejaVu Sans Mono',consolas,'Courier New',monospace\">\n",
       "--------------------------------------------------------------------------------\n",
       "\n",
       "</pre>\n"
      ],
      "text/plain": [
       "\n",
       "--------------------------------------------------------------------------------\n",
       "\n"
      ]
     },
     "metadata": {},
     "output_type": "display_data"
    }
   ],
   "source": [
    "display_comparison(df_filtered)"
   ]
  },
  {
   "cell_type": "markdown",
   "metadata": {},
   "source": [
    "### !!!! CONTAMINATED !!!!"
   ]
  },
  {
   "cell_type": "code",
   "execution_count": 50,
   "metadata": {},
   "outputs": [
    {
     "name": "stdout",
     "output_type": "stream",
     "text": [
      "#### CONTEXT: \n",
      "<context>\n",
      "<turn>Justice John G. Roberts, Jr.: Justice Kavanaugh.</turn>\n",
      "<turn>Justice Neil Gorsuch: Thank you, Mr. Michel.</turn>\n",
      "<turn>Justice Brett M. Kavanaugh: Thank you, Chief Justice. Good morning, Mr. Michel. Mr. Keisler's second argument in his brief, which is his lead argument\n",
      "today, the argument that the extension, the word \"extension\" is temporal but does not have to be continuous, just to set up how I'm thinking about this and then\n",
      "get your response, you know, you -- you admit it's not an unambiguous word. I think Congress uses \"extension\" sometimes even when something's lapsed. We have\n",
      "the examples -- COVID and other examples. You make a big deal about ordinary usage, but I'll give you three instances in my life where ordinary usage goes the\n",
      "other way from what you -- what you say. So sometimes one that you're teaching and you have a 5:00 p.m. due date for a paper, you know, after the due date, you\n",
      "will get an e-mail entitled Extension Request, you grant a paper extension afterwards. Or when a -- you use a sports contract example in your brief, but\n",
      "oftentimes, if the contract ends at the end of the season, in the off-season, the player signs a new contract. That will be described by most people as player\n",
      "extends for two more years. Or, if you let your print newspaper subscription lapse for a time and then you start it up again, you'll tell your family member or\n",
      "friend, oh, I extended the paper subscription. So I -- I think ordinary usage also, like congressional usage, in my experience at least doesn't tell us exactly.\n",
      "So how do we break this? And the two things he emphasizes are \"at any time\" and that that's -- there's no sunset date. So I want to get your responses to that.\n",
      "And then also on the purpose and context, if we get to that, to help break what -- I don't want to say tie, but to figure out what Congress was thinking about\n",
      "with the word or what it was doing with the word \"extension,\" your position is that Congress wanted small fine -- refineries to have no outlet at all, to\n",
      "essentially go out of business, whereas the other side's position is simply that EPA would have authority, as a matter of separation of powers, authority to\n",
      "grant an exemption if a small refinery had -- had a -- had a problem, and it really seems quite implausible to think Congress wanted refineries in that\n",
      "circumstance to go out of business. So, if I can get your response on the \"at any time,\" no sunset date, and the implausibility of Congress wanting small\n",
      "refineries to go out of business rather than EPA having authority.</turn>\n",
      "<turn>Christopher G. Michel: Thanks, Justice Kavanaugh. And I think I can maybe fold in a little bit of your first question too or your comment. You know, I\n",
      "think \"at any time\" means exactly what it says, which is that a small refinery can ask for an extension of the exemption at any time, but that doesn't define\n",
      "what an extension of the exemption is. So, in Justice Kagan's example, I think, if that renter originally had a lease that said you can extend your lease at any\n",
      "time, I don't think it would work to come back five years later and ask for an extension. I think, as my friend said, the landlord would still scratch his or\n",
      "her head. So I think, although I take your point that --</turn>\n",
      "<turn>Justice Brett M. Kavanaugh: How about 10 days later?</turn>\n",
      "<turn>Christopher G. Michel: So I -- I -- I do think 10 days later would be --</turn>\n",
      "<turn>Justice Brett M. Kavanaugh: I don't think we should base our decision here on absurd -- not absurd but extreme hypotheticals or -- or they're not absurd,\n",
      "they're extreme, though, but, like, a few days later you would call that an extension?</turn>\n",
      "<turn>Christopher G. Michel: I -- I -- I think you might, but I think that would be because you were running it back in a sort of nunc pro tunc sense to the\n",
      "prior.</turn>\n",
      "<turn>Justice Brett M. Kavanaugh: Exactly, exactly.</turn>\n",
      "<turn>Christopher G. Michel: Sure. And -- but I -- I want to make very clear that's not what the small refineries are asking for here. They had extent --\n",
      "exemptions through 2011 or 2013 respectively.</turn>\n",
      "<turn>Justice Brett M. Kavanaugh: Right.</turn>\n",
      "<turn>Christopher G. Michel: And they're asking now for an extension into 2016 or 2017. So it really is Justice Kagan's hypothetical and not the nunc pro tunc\n",
      "extension. On the purpose and context, I -- I think, if you thought they were going to go out of business, this would be a tougher case. They haven't gone out\n",
      "of business in the past when many small refineries have complied, but, of course, the -- the purpose of this program was to drive change in the -- in the fuel\n",
      "market.</turn>\n",
      "<turn>Justice Brett M. Kavanaugh: Drive change --</turn>\n",
      "<turn>Justice John G. Roberts, Jr.: Justice Barrett.</turn>\n",
      "<turn>Justice Brett M. Kavanaugh: -- to the point of driving small refineries out of business? I don't see that anywhere in the -- in the text or -- or\n",
      "history.</turn>\n",
      "<turn>Justice John G. Roberts, Jr.: Justice Barrett.</turn>\n",
      "</context>\n",
      "<justice>Justice Amy Coney Barrett</justice>\n",
      "Generate a question that Justice Amy Coney Barrett is likely to ask next.\n"
     ]
    },
    {
     "data": {
      "text/html": [
       "<pre style=\"white-space:pre;overflow-x:auto;line-height:normal;font-family:Menlo,'DejaVu Sans Mono',consolas,'Courier New',monospace\">┏━━━━━━━━━━━━━━━━━━━━━━━━━━━━━━━━┳━━━━━━━━━━━━━━━━━━━━━━━━━━━━━━━━━━━━━━━━━━━━━━━━━━━━━━━━━━━━━━━━━━━━━━━━━━━━━━━━┓\n",
       "┃<span style=\"color: #800080; text-decoration-color: #800080; font-weight: bold\"> Field                          </span>┃<span style=\"color: #800080; text-decoration-color: #800080; font-weight: bold\"> Text                                                                           </span>┃\n",
       "┡━━━━━━━━━━━━━━━━━━━━━━━━━━━━━━━━╇━━━━━━━━━━━━━━━━━━━━━━━━━━━━━━━━━━━━━━━━━━━━━━━━━━━━━━━━━━━━━━━━━━━━━━━━━━━━━━━━┩\n",
       "│<span style=\"font-weight: bold\"> Ground Truth                   </span>│<span style=\"font-style: italic\"> Justice Amy Coney Barrett: Good morning, Mr. Michel. I want to make sure I     </span>│\n",
       "│<span style=\"font-weight: bold\">                                </span>│<span style=\"font-style: italic\"> have a handle on what you mean by \"ambiguous.\" You said a couple times that    </span>│\n",
       "│<span style=\"font-weight: bold\">                                </span>│<span style=\"font-style: italic\"> the word \"extension\" is ambiguous, and -- and I would have thought that by     </span>│\n",
       "│<span style=\"font-weight: bold\">                                </span>│<span style=\"font-style: italic\"> that, you mean that it does have several definitions which we've gone over     </span>│\n",
       "│<span style=\"font-weight: bold\">                                </span>│<span style=\"font-style: italic\"> during argument and in the briefs, if you look in a dictionary, but that in    </span>│\n",
       "│<span style=\"font-weight: bold\">                                </span>│<span style=\"font-style: italic\"> the context of this statute, it's clear which of those definitions -- or       </span>│\n",
       "│<span style=\"font-weight: bold\">                                </span>│<span style=\"font-style: italic\"> reasonably clear that there's a better indication of which of those            </span>│\n",
       "│<span style=\"font-weight: bold\">                                </span>│<span style=\"font-style: italic\"> definitions is the right one. Am I understanding your argument correctly?      </span>│\n",
       "│<span style=\"font-weight: bold\"> Finetuned Llama 70B Prediction </span>│<span style=\"font-style: italic\"> Justice Amy Coney Barrett: Good morning, Mr. Michel. I want to go back to      </span>│\n",
       "│<span style=\"font-weight: bold\">                                </span>│<span style=\"font-style: italic\"> Justice Kavanaugh's question about the use of the word \"extension\" and the     </span>│\n",
       "│<span style=\"font-weight: bold\">                                </span>│<span style=\"font-style: italic\"> fact that he gave you some examples of ordinary usage. I mean, I -- I think,   </span>│\n",
       "│<span style=\"font-weight: bold\">                                </span>│<span style=\"font-style: italic\"> you know, I agree with you that we don't normally think of extensions as being </span>│\n",
       "│<span style=\"font-weight: bold\">                                </span>│<span style=\"font-style: italic\"> discontinuous, but I think the problem is that there are examples, like the    </span>│\n",
       "│<span style=\"font-weight: bold\">                                </span>│<span style=\"font-style: italic\"> ones Justice Kavanaugh gave you, where we do. So what do we do with that? I    </span>│\n",
       "│<span style=\"font-weight: bold\">                                </span>│<span style=\"font-style: italic\"> mean, because I think you're right that -- that we don't normally think of     </span>│\n",
       "│<span style=\"font-weight: bold\">                                </span>│<span style=\"font-style: italic\"> extensions as discontinuous.                                                   </span>│\n",
       "└────────────────────────────────┴────────────────────────────────────────────────────────────────────────────────┘\n",
       "</pre>\n"
      ],
      "text/plain": [
       "┏━━━━━━━━━━━━━━━━━━━━━━━━━━━━━━━━┳━━━━━━━━━━━━━━━━━━━━━━━━━━━━━━━━━━━━━━━━━━━━━━━━━━━━━━━━━━━━━━━━━━━━━━━━━━━━━━━━┓\n",
       "┃\u001b[1;35m \u001b[0m\u001b[1;35mField                         \u001b[0m\u001b[1;35m \u001b[0m┃\u001b[1;35m \u001b[0m\u001b[1;35mText                                                                          \u001b[0m\u001b[1;35m \u001b[0m┃\n",
       "┡━━━━━━━━━━━━━━━━━━━━━━━━━━━━━━━━╇━━━━━━━━━━━━━━━━━━━━━━━━━━━━━━━━━━━━━━━━━━━━━━━━━━━━━━━━━━━━━━━━━━━━━━━━━━━━━━━━┩\n",
       "│\u001b[1m \u001b[0m\u001b[1mGround Truth                  \u001b[0m\u001b[1m \u001b[0m│\u001b[3m \u001b[0m\u001b[3mJustice Amy Coney Barrett: Good morning, Mr. Michel. I want to make sure I    \u001b[0m\u001b[3m \u001b[0m│\n",
       "│\u001b[1m                                \u001b[0m│\u001b[3m \u001b[0m\u001b[3mhave a handle on what you mean by \"ambiguous.\" You said a couple times that   \u001b[0m\u001b[3m \u001b[0m│\n",
       "│\u001b[1m                                \u001b[0m│\u001b[3m \u001b[0m\u001b[3mthe word \"extension\" is ambiguous, and -- and I would have thought that by    \u001b[0m\u001b[3m \u001b[0m│\n",
       "│\u001b[1m                                \u001b[0m│\u001b[3m \u001b[0m\u001b[3mthat, you mean that it does have several definitions which we've gone over    \u001b[0m\u001b[3m \u001b[0m│\n",
       "│\u001b[1m                                \u001b[0m│\u001b[3m \u001b[0m\u001b[3mduring argument and in the briefs, if you look in a dictionary, but that in   \u001b[0m\u001b[3m \u001b[0m│\n",
       "│\u001b[1m                                \u001b[0m│\u001b[3m \u001b[0m\u001b[3mthe context of this statute, it's clear which of those definitions -- or      \u001b[0m\u001b[3m \u001b[0m│\n",
       "│\u001b[1m                                \u001b[0m│\u001b[3m \u001b[0m\u001b[3mreasonably clear that there's a better indication of which of those           \u001b[0m\u001b[3m \u001b[0m│\n",
       "│\u001b[1m                                \u001b[0m│\u001b[3m \u001b[0m\u001b[3mdefinitions is the right one. Am I understanding your argument correctly?     \u001b[0m\u001b[3m \u001b[0m│\n",
       "│\u001b[1m \u001b[0m\u001b[1mFinetuned Llama 70B Prediction\u001b[0m\u001b[1m \u001b[0m│\u001b[3m \u001b[0m\u001b[3mJustice Amy Coney Barrett: Good morning, Mr. Michel. I want to go back to     \u001b[0m\u001b[3m \u001b[0m│\n",
       "│\u001b[1m                                \u001b[0m│\u001b[3m \u001b[0m\u001b[3mJustice Kavanaugh's question about the use of the word \"extension\" and the    \u001b[0m\u001b[3m \u001b[0m│\n",
       "│\u001b[1m                                \u001b[0m│\u001b[3m \u001b[0m\u001b[3mfact that he gave you some examples of ordinary usage. I mean, I -- I think,  \u001b[0m\u001b[3m \u001b[0m│\n",
       "│\u001b[1m                                \u001b[0m│\u001b[3m \u001b[0m\u001b[3myou know, I agree with you that we don't normally think of extensions as being\u001b[0m\u001b[3m \u001b[0m│\n",
       "│\u001b[1m                                \u001b[0m│\u001b[3m \u001b[0m\u001b[3mdiscontinuous, but I think the problem is that there are examples, like the   \u001b[0m\u001b[3m \u001b[0m│\n",
       "│\u001b[1m                                \u001b[0m│\u001b[3m \u001b[0m\u001b[3mones Justice Kavanaugh gave you, where we do. So what do we do with that? I   \u001b[0m\u001b[3m \u001b[0m│\n",
       "│\u001b[1m                                \u001b[0m│\u001b[3m \u001b[0m\u001b[3mmean, because I think you're right that -- that we don't normally think of    \u001b[0m\u001b[3m \u001b[0m│\n",
       "│\u001b[1m                                \u001b[0m│\u001b[3m \u001b[0m\u001b[3mextensions as discontinuous.                                                  \u001b[0m\u001b[3m \u001b[0m│\n",
       "└────────────────────────────────┴────────────────────────────────────────────────────────────────────────────────┘\n"
      ]
     },
     "metadata": {},
     "output_type": "display_data"
    },
    {
     "data": {
      "text/html": [
       "<pre style=\"white-space:pre;overflow-x:auto;line-height:normal;font-family:Menlo,'DejaVu Sans Mono',consolas,'Courier New',monospace\">\n",
       "--------------------------------------------------------------------------------\n",
       "\n",
       "</pre>\n"
      ],
      "text/plain": [
       "\n",
       "--------------------------------------------------------------------------------\n",
       "\n"
      ]
     },
     "metadata": {},
     "output_type": "display_data"
    },
    {
     "name": "stdout",
     "output_type": "stream",
     "text": [
      "#### CONTEXT: \n",
      "<context>\n",
      "<turn>Justice Brett M. Kavanaugh:  And are you looking at the  --I mean, now we're going back to the law in question rather than the facts, but I think the idea\n",
      "was someone who committed these facts  -- who engaged in these activities would not be prosecuted but for their speech. And if they could  -- they're prosecuted\n",
      "under the general intent, but if their activities, if the police officer believes this was done to prevent inquiries into which names were on the petition\n",
      "because there were allegations the day before that she had coerced or misled people into signing the petition -- again, I'm not taking a position on any of\n",
      "that. I mean, I don't know that you wouldn't be the -- the inference would be you would be prosecuted under some statute, even if it is \"a general intent\"\n",
      "statute, isn't that right?</turn>\n",
      "<turn>Nicole F. Reaves:  So I think  -- and, again, I think this is counterfactual here potentially, but I agree that if the facts are more serious than the\n",
      "potential charge, the relevant comparator would be other similarly situated persons and whether there was probable cause.</turn>\n",
      "<turn>Justice Brett M. Kavanaugh:  Who engaged in those facts?</turn>\n",
      "<turn>Nicole F. Reaves:  Who engaged in the same activity, yes. I do think that's the relevant inquiry. Just because someone is charged with a lower crime or\n",
      "arrested for a lower crime, you know, doesn't kind of change the analysis as far as similarly situated goes.</turn>\n",
      "<turn>Justice Brett M. Kavanaugh:  Right. And the whole case here -- yeah. Okay. Thank you.</turn>\n",
      "<turn>Justice Amy Coney Barrett:  I'd like to pick up there. So how important is the seriousness of the crime?  I said before, and I think Justice Kavanaugh is\n",
      "right to be more precise about this, so this is kind of a random crime, but it's random because of the facts of the case and it was a misdemeanor. So, you know,\n",
      "jaywalking, the example in Nieves for the exception, I mean, jaywalking, I think everybody agrees that absent some circumstance, you know, where you endangered\n",
      "someone or darted in front of a car, jaywalking is not serious. Does it matter at all?  I mean, do we look at the facts?  Do we look at the crime? And before we\n",
      "even get into the Nieves exception and looking at the kind of evidence that you're proposing, do we do some sort of threshold analysis about whether the facts\n",
      "or the crime or both are actually serious?</turn>\n",
      "<turn>Nicole F. Reaves:  So I think, under the Nieves exception, I do think it's similarly situated persons would have been arrested. I don't think it\n",
      "necessarily matters what crime or what level of seriousness of crime was listed on  the warrant or was listed on, you know, the officer's notes. So I do think\n",
      "it's a  conduct-based comparison. I don't think the Court needs to address the seriousness question here necessarily because this is a misdemeanor crime, but we\n",
      "would have no objection to the Court drawing a felony/misdemeanor distinction and just saying that Nieves doesn't apply outside of that, and I think that's\n",
      "because -- and that could be appropriate because Nieves did seem to be concerned about endemic crimes that are infrequently prosecuted, where there's a large\n",
      "amount of discretion. And from the federal government's perspective, where we see the most types of problematic and potentially retaliatory arrests are in\n",
      "situations like unlawful assembly, blocking a sidewalk, disorderly conduct, trespassing on government property, and those things tend to be low-level endemic\n",
      "offenses where there's a lot of discretion.</turn>\n",
      "<turn>Justice Amy Coney Barrett:  That's true, although the line between misdemeanor and felony is drawn in different places in different jurisdictions, and it\n",
      "would be pretty hard, I think, to -- to hold that as a consistent line. So, when you say similarly situated, you're saying that you look both at conduct and at\n",
      "crime, but the federal government doesn't have a position about whether we look at the seriousness of the crime?</turn>\n",
      "<turn>Nicole F. Reaves:  So, as far as the seriousness of the crime goes, even if you don't</turn>\n",
      "<turn>Justice Amy Coney Barrett:  Felony versus  --</turn>\n",
      "<turn>Nicole F. Reaves:  So I think, if you --</turn>\n",
      "<turn>Justice Amy Coney Barrett:  -- misdemeanor or whatever.</turn>\n",
      "<turn>Nicole F. Reaves:  Yeah, I don't  -- I think, if you decide not to draw some sort of strong line between those two, I think how that would generally play\n",
      "out is, when you have a felony or a more serious crime, there's going to be a presumption that people are regularly prosecuted for that, and it's going to be\n",
      "very easy to find examples of people who engaged in the s ame conduct and were, in fact, prosecuted but didn't have the same speech.</turn>\n",
      "<turn>Justice Amy Coney Barrett:  Thank you.</turn>\n",
      "<turn>Justice John G. Roberts, Jr.:  Justice Jackson?</turn>\n",
      "</context>\n",
      "<justice>Justice Ketanji Brown Jackson</justice>\n",
      "Generate a question that Justice Ketanji Brown Jackson is likely to ask next.\n"
     ]
    },
    {
     "data": {
      "text/html": [
       "<pre style=\"white-space:pre;overflow-x:auto;line-height:normal;font-family:Menlo,'DejaVu Sans Mono',consolas,'Courier New',monospace\">┏━━━━━━━━━━━━━━━━━━━━━━━━━━━━━━━━┳━━━━━━━━━━━━━━━━━━━━━━━━━━━━━━━━━━━━━━━━━━━━━━━━━━━━━━━━━━━━━━━━━━━━━━━━━━━━━━━━┓\n",
       "┃<span style=\"color: #800080; text-decoration-color: #800080; font-weight: bold\"> Field                          </span>┃<span style=\"color: #800080; text-decoration-color: #800080; font-weight: bold\"> Text                                                                           </span>┃\n",
       "┡━━━━━━━━━━━━━━━━━━━━━━━━━━━━━━━━╇━━━━━━━━━━━━━━━━━━━━━━━━━━━━━━━━━━━━━━━━━━━━━━━━━━━━━━━━━━━━━━━━━━━━━━━━━━━━━━━━┩\n",
       "│<span style=\"font-weight: bold\"> Ground Truth                   </span>│<span style=\"font-style: italic\"> Justice Ketanji Brown Jackson:  So I guess I'm going back to Justice Kagan's   </span>│\n",
       "│<span style=\"font-weight: bold\">                                </span>│<span style=\"font-style: italic\"> helpful dynamic in terms of figuring out the types of evidence, and I'm still  </span>│\n",
       "│<span style=\"font-weight: bold\">                                </span>│<span style=\"font-style: italic\"> a little bit confused about the government's position that, really, what is at </span>│\n",
       "│<span style=\"font-weight: bold\">                                </span>│<span style=\"font-style: italic\"> issue here is a determination of the treatment of similarly situated persons,  </span>│\n",
       "│<span style=\"font-weight: bold\">                                </span>│<span style=\"font-style: italic\"> that that provides, I think you say in your brief, the compelling objective    </span>│\n",
       "│<span style=\"font-weight: bold\">                                </span>│<span style=\"font-style: italic\"> basis for inferring that the arrest was retaliatory. But then you seem to      </span>│\n",
       "│<span style=\"font-weight: bold\">                                </span>│<span style=\"font-style: italic\"> accept numbers or different kinds of forms of evidence that don't in my view   </span>│\n",
       "│<span style=\"font-weight: bold\">                                </span>│<span style=\"font-style: italic\"> necessarily go directly to determining that a similarly situated person was    </span>│\n",
       "│<span style=\"font-weight: bold\">                                </span>│<span style=\"font-style: italic\"> treated differently. So how --I guess Justice Kagan put it that there are sort </span>│\n",
       "│<span style=\"font-weight: bold\">                                </span>│<span style=\"font-style: italic\"> of several inferences to get you from certain kinds of evidence to a similarly </span>│\n",
       "│<span style=\"font-weight: bold\">                                </span>│<span style=\"font-style: italic\"> situated person. So can you say more about why, for example, the government    </span>│\n",
       "│<span style=\"font-weight: bold\">                                </span>│<span style=\"font-style: italic\"> wouldn't be insisting that the plaintiff in this case at least say something   </span>│\n",
       "│<span style=\"font-weight: bold\">                                </span>│<span style=\"font-style: italic\"> about this having happened before, that there are similarly situated people?   </span>│\n",
       "│<span style=\"font-weight: bold\">                                </span>│<span style=\"font-style: italic\"> I mean, I find it difficult  --and I'm not saying you're wrong. I'm just       </span>│\n",
       "│<span style=\"font-weight: bold\">                                </span>│<span style=\"font-style: italic\"> trying to puzzle it out. You say, you know, evidence that an arrest has never  </span>│\n",
       "│<span style=\"font-weight: bold\">                                </span>│<span style=\"font-style: italic\"> happened before. I mean, surely that's common sense. But I guess I'm trying to </span>│\n",
       "│<span style=\"font-weight: bold\">                                </span>│<span style=\"font-style: italic\"> understand how, unless we have evidence that this same kind of thing happened  </span>│\n",
       "│<span style=\"font-weight: bold\">                                </span>│<span style=\"font-style: italic\"> before, we can take that evidence and say that's an inference that  -- of the  </span>│\n",
       "│<span style=\"font-weight: bold\">                                </span>│<span style=\"font-style: italic\"> kind that you're trying to draw.                                               </span>│\n",
       "│<span style=\"font-weight: bold\"> Finetuned Llama 70B Prediction </span>│<span style=\"font-style: italic\"> Justice Ketanji Brown Jackson:  Yes. I'm still a little bit confused about how </span>│\n",
       "│<span style=\"font-weight: bold\">                                </span>│<span style=\"font-style: italic\"> you're using similarly situated. So you say that we look at the conduct of the </span>│\n",
       "│<span style=\"font-weight: bold\">                                </span>│<span style=\"font-style: italic\"> person who is being charged. And I appreciate that you're saying, you know,    </span>│\n",
       "│<span style=\"font-weight: bold\">                                </span>│<span style=\"font-style: italic\"> it's not just the elements of the crime, it's the conduct. But then you say    </span>│\n",
       "│<span style=\"font-weight: bold\">                                </span>│<span style=\"font-style: italic\"> that we look at the conduct of other people who are similarly situated, and I  </span>│\n",
       "│<span style=\"font-weight: bold\">                                </span>│<span style=\"font-style: italic\"> guess I don't understand why that's necessary. Why couldn't we just look at    </span>│\n",
       "│<span style=\"font-weight: bold\">                                </span>│<span style=\"font-style: italic\"> the conduct of the person who is being charged and ask the question, was that  </span>│\n",
       "│<span style=\"font-weight: bold\">                                </span>│<span style=\"font-style: italic\"> person arrested in retaliation for their speech?  I mean, that's what we're    </span>│\n",
       "│<span style=\"font-weight: bold\">                                </span>│<span style=\"font-style: italic\"> trying to determine.                                                           </span>│\n",
       "└────────────────────────────────┴────────────────────────────────────────────────────────────────────────────────┘\n",
       "</pre>\n"
      ],
      "text/plain": [
       "┏━━━━━━━━━━━━━━━━━━━━━━━━━━━━━━━━┳━━━━━━━━━━━━━━━━━━━━━━━━━━━━━━━━━━━━━━━━━━━━━━━━━━━━━━━━━━━━━━━━━━━━━━━━━━━━━━━━┓\n",
       "┃\u001b[1;35m \u001b[0m\u001b[1;35mField                         \u001b[0m\u001b[1;35m \u001b[0m┃\u001b[1;35m \u001b[0m\u001b[1;35mText                                                                          \u001b[0m\u001b[1;35m \u001b[0m┃\n",
       "┡━━━━━━━━━━━━━━━━━━━━━━━━━━━━━━━━╇━━━━━━━━━━━━━━━━━━━━━━━━━━━━━━━━━━━━━━━━━━━━━━━━━━━━━━━━━━━━━━━━━━━━━━━━━━━━━━━━┩\n",
       "│\u001b[1m \u001b[0m\u001b[1mGround Truth                  \u001b[0m\u001b[1m \u001b[0m│\u001b[3m \u001b[0m\u001b[3mJustice Ketanji Brown Jackson:  So I guess I'm going back to Justice Kagan's  \u001b[0m\u001b[3m \u001b[0m│\n",
       "│\u001b[1m                                \u001b[0m│\u001b[3m \u001b[0m\u001b[3mhelpful dynamic in terms of figuring out the types of evidence, and I'm still \u001b[0m\u001b[3m \u001b[0m│\n",
       "│\u001b[1m                                \u001b[0m│\u001b[3m \u001b[0m\u001b[3ma little bit confused about the government's position that, really, what is at\u001b[0m\u001b[3m \u001b[0m│\n",
       "│\u001b[1m                                \u001b[0m│\u001b[3m \u001b[0m\u001b[3missue here is a determination of the treatment of similarly situated persons, \u001b[0m\u001b[3m \u001b[0m│\n",
       "│\u001b[1m                                \u001b[0m│\u001b[3m \u001b[0m\u001b[3mthat that provides, I think you say in your brief, the compelling objective   \u001b[0m\u001b[3m \u001b[0m│\n",
       "│\u001b[1m                                \u001b[0m│\u001b[3m \u001b[0m\u001b[3mbasis for inferring that the arrest was retaliatory. But then you seem to     \u001b[0m\u001b[3m \u001b[0m│\n",
       "│\u001b[1m                                \u001b[0m│\u001b[3m \u001b[0m\u001b[3maccept numbers or different kinds of forms of evidence that don't in my view  \u001b[0m\u001b[3m \u001b[0m│\n",
       "│\u001b[1m                                \u001b[0m│\u001b[3m \u001b[0m\u001b[3mnecessarily go directly to determining that a similarly situated person was   \u001b[0m\u001b[3m \u001b[0m│\n",
       "│\u001b[1m                                \u001b[0m│\u001b[3m \u001b[0m\u001b[3mtreated differently. So how --I guess Justice Kagan put it that there are sort\u001b[0m\u001b[3m \u001b[0m│\n",
       "│\u001b[1m                                \u001b[0m│\u001b[3m \u001b[0m\u001b[3mof several inferences to get you from certain kinds of evidence to a similarly\u001b[0m\u001b[3m \u001b[0m│\n",
       "│\u001b[1m                                \u001b[0m│\u001b[3m \u001b[0m\u001b[3msituated person. So can you say more about why, for example, the government   \u001b[0m\u001b[3m \u001b[0m│\n",
       "│\u001b[1m                                \u001b[0m│\u001b[3m \u001b[0m\u001b[3mwouldn't be insisting that the plaintiff in this case at least say something  \u001b[0m\u001b[3m \u001b[0m│\n",
       "│\u001b[1m                                \u001b[0m│\u001b[3m \u001b[0m\u001b[3mabout this having happened before, that there are similarly situated people?  \u001b[0m\u001b[3m \u001b[0m│\n",
       "│\u001b[1m                                \u001b[0m│\u001b[3m \u001b[0m\u001b[3mI mean, I find it difficult  --and I'm not saying you're wrong. I'm just      \u001b[0m\u001b[3m \u001b[0m│\n",
       "│\u001b[1m                                \u001b[0m│\u001b[3m \u001b[0m\u001b[3mtrying to puzzle it out. You say, you know, evidence that an arrest has never \u001b[0m\u001b[3m \u001b[0m│\n",
       "│\u001b[1m                                \u001b[0m│\u001b[3m \u001b[0m\u001b[3mhappened before. I mean, surely that's common sense. But I guess I'm trying to\u001b[0m\u001b[3m \u001b[0m│\n",
       "│\u001b[1m                                \u001b[0m│\u001b[3m \u001b[0m\u001b[3munderstand how, unless we have evidence that this same kind of thing happened \u001b[0m\u001b[3m \u001b[0m│\n",
       "│\u001b[1m                                \u001b[0m│\u001b[3m \u001b[0m\u001b[3mbefore, we can take that evidence and say that's an inference that  -- of the \u001b[0m\u001b[3m \u001b[0m│\n",
       "│\u001b[1m                                \u001b[0m│\u001b[3m \u001b[0m\u001b[3mkind that you're trying to draw.                                              \u001b[0m\u001b[3m \u001b[0m│\n",
       "│\u001b[1m \u001b[0m\u001b[1mFinetuned Llama 70B Prediction\u001b[0m\u001b[1m \u001b[0m│\u001b[3m \u001b[0m\u001b[3mJustice Ketanji Brown Jackson:  Yes. I'm still a little bit confused about how\u001b[0m\u001b[3m \u001b[0m│\n",
       "│\u001b[1m                                \u001b[0m│\u001b[3m \u001b[0m\u001b[3myou're using similarly situated. So you say that we look at the conduct of the\u001b[0m\u001b[3m \u001b[0m│\n",
       "│\u001b[1m                                \u001b[0m│\u001b[3m \u001b[0m\u001b[3mperson who is being charged. And I appreciate that you're saying, you know,   \u001b[0m\u001b[3m \u001b[0m│\n",
       "│\u001b[1m                                \u001b[0m│\u001b[3m \u001b[0m\u001b[3mit's not just the elements of the crime, it's the conduct. But then you say   \u001b[0m\u001b[3m \u001b[0m│\n",
       "│\u001b[1m                                \u001b[0m│\u001b[3m \u001b[0m\u001b[3mthat we look at the conduct of other people who are similarly situated, and I \u001b[0m\u001b[3m \u001b[0m│\n",
       "│\u001b[1m                                \u001b[0m│\u001b[3m \u001b[0m\u001b[3mguess I don't understand why that's necessary. Why couldn't we just look at   \u001b[0m\u001b[3m \u001b[0m│\n",
       "│\u001b[1m                                \u001b[0m│\u001b[3m \u001b[0m\u001b[3mthe conduct of the person who is being charged and ask the question, was that \u001b[0m\u001b[3m \u001b[0m│\n",
       "│\u001b[1m                                \u001b[0m│\u001b[3m \u001b[0m\u001b[3mperson arrested in retaliation for their speech?  I mean, that's what we're   \u001b[0m\u001b[3m \u001b[0m│\n",
       "│\u001b[1m                                \u001b[0m│\u001b[3m \u001b[0m\u001b[3mtrying to determine.                                                          \u001b[0m\u001b[3m \u001b[0m│\n",
       "└────────────────────────────────┴────────────────────────────────────────────────────────────────────────────────┘\n"
      ]
     },
     "metadata": {},
     "output_type": "display_data"
    },
    {
     "data": {
      "text/html": [
       "<pre style=\"white-space:pre;overflow-x:auto;line-height:normal;font-family:Menlo,'DejaVu Sans Mono',consolas,'Courier New',monospace\">\n",
       "--------------------------------------------------------------------------------\n",
       "\n",
       "</pre>\n"
      ],
      "text/plain": [
       "\n",
       "--------------------------------------------------------------------------------\n",
       "\n"
      ]
     },
     "metadata": {},
     "output_type": "display_data"
    },
    {
     "name": "stdout",
     "output_type": "stream",
     "text": [
      "#### CONTEXT: \n",
      "<context>\n",
      "<turn>Justice Clarence Thomas: Mr. McCloud, if you are going to make the \"must\" or \"mandatory\" argument, on what language do -- do you rely?</turn>\n",
      "<turn>Charles L. McCloud: Justice Thomas, we have two textual bases for the \"must consider\" argument. The first is Congress's use of the phrase \"impose a\n",
      "reduced sentence.\" We think that that's a clear textual indication that what Congress wanted courts to do is to apply the Section 3553(a) factors, the factors\n",
      "that courts consider when they impose a sentence more generally. And many of those factors incorporate consideration of intervening legal and factual\n",
      "developments because they go to things like the history and characteristics of the defendant and the severity of the defense -- of the offense. The alternative\n",
      "textual basis we would say for the \"must consider\" rule is that Section 404 clearly sets up a statutory scheme where district courts are supposed to exercise\n",
      "their discretion. And in the sentencing context, courts, of course, must be reasonable in exercising their discretion, and the way that Congress has established\n",
      "for courts to be reasonable is to apply the 3553(a) factors.</turn>\n",
      "<turn>Justice Clarence Thomas: Don't -- do you think that your discretionary or \"may\" permissive argument is a better -- stronger argument than the \"mandatory\"\n",
      "argument?</turn>\n",
      "<turn>Charles L. McCloud: Your Honor, I think that they're -- they're both strong arguments. I guess the one advantage I would say that the \"must consider\"\n",
      "argument has is that we think it would be more predictable for district courts because the parties will know that the court is going to pay attention to\n",
      "arguments about intervening developments. And I think the same is probably true for appellate courts. They will have the hook of the 3553(a) factors when they\n",
      "review the case. But just to be clear, Your Honor, we would be perfectly happy with an opinion that said courts may consider these developments. That's\n",
      "certainly better than the First Circuit's rule.</turn>\n",
      "<turn>Justice Clarence Thomas: Thank you.</turn>\n",
      "<turn>Justice John G. Roberts, Jr.: I don't really understand, either through your presentation or the government's, what this \"may\" argument is. I understand\n",
      "the idea that you must consider the different things, and at the end of the day, you can come out and say, well, I'm not going to change anything. Judge --\n",
      "judges now do that all the time. And I understand the argument that you can't look at the things and change it, but what is -- what is the \"may\"? You've already\n",
      "got the \"may\" in the \"must\" part. You have to consider it, but you don't have to do anything. It -- it sounds to me like we're delegating to -- or Congress or\n",
      "somebody's delegating to individual district judges the authority to determine what the law is. It's like a police officer -- you know, you can't park here or\n",
      "you pay -- you have to pay, you know, $20. You know, it's one thing to say, yeah, the officer can say, you know, I'm not going to give you a ticket, I see\n",
      "you're coming down the street or whatever it is. Doesn't have to, you know, enforce whatever discretion he has. But the officer can't say I think people ought\n",
      "to be able to park here, so I'm never going to give anybody a ticket for that. What is -- what is this \"may\" argument?</turn>\n",
      "<turn>Charles L. McCloud: Well, Mr. Chief Justice, I think it stems from the fact that Congress clearly has set up a discretionary scheme in this statute.\n",
      "Courts have discretion to decide whether to impose a reduced sentence or not. And so, when they're making that decision, we don't see anything in the text of\n",
      "the statute or in sentencing practice more generally that would suggest that courts are required to put certain information off limits.</turn>\n",
      "<turn>Justice John G. Roberts, Jr.: Well, right, but what you're saying is Congress passed this discretionary rule, but the people in this \"may\" category are\n",
      "saying I'm not going to exercise my discretion, I am never going to give a -- a reduction to the sentence. Is that all right? That's -- that's -- I don't think\n",
      "that would be something that we would accept in any other area of the law where people have discretion. You would say, yes, in this particular case, you don't\n",
      "have to give a discretion -- an adjustment. You have discretion not to do that. But the idea for somebody to decide I -- I am not going to exercise discretion,\n",
      "I'm just not going to look at it, I don't understand what -- where that authority comes from.</turn>\n",
      "<turn>Charles L. McCloud: So, Mr. Chief Justice, I would agree with you that district courts do not have that authority. I think that courts could not erect\n",
      "categorical rules that they would never look at intervening developments or that they would never reduce a sentence under the First Step Act. I think it has to\n",
      "be an individualized defendant-by-defendant determination that may --</turn>\n",
      "</context>\n",
      "<justice>Justice Neil Gorsuch</justice>\n",
      "Generate a question that Justice Neil Gorsuch is likely to ask next.\n"
     ]
    },
    {
     "data": {
      "text/html": [
       "<pre style=\"white-space:pre;overflow-x:auto;line-height:normal;font-family:Menlo,'DejaVu Sans Mono',consolas,'Courier New',monospace\">┏━━━━━━━━━━━━━━━━━━━━━━━━━━━━━━━━┳━━━━━━━━━━━━━━━━━━━━━━━━━━━━━━━━━━━━━━━━━━━━━━━━━━━━━━━━━━━━━━━━━━━━━━━━━━━━━━━━┓\n",
       "┃<span style=\"color: #800080; text-decoration-color: #800080; font-weight: bold\"> Field                          </span>┃<span style=\"color: #800080; text-decoration-color: #800080; font-weight: bold\"> Text                                                                           </span>┃\n",
       "┡━━━━━━━━━━━━━━━━━━━━━━━━━━━━━━━━╇━━━━━━━━━━━━━━━━━━━━━━━━━━━━━━━━━━━━━━━━━━━━━━━━━━━━━━━━━━━━━━━━━━━━━━━━━━━━━━━━┩\n",
       "│<span style=\"font-weight: bold\"> Ground Truth                   </span>│<span style=\"font-style: italic\"> Justice Neil Gorsuch: But, counsel, where does that come from? I mean, if it's </span>│\n",
       "│<span style=\"font-weight: bold\">                                </span>│<span style=\"font-style: italic\"> \"may\" and it is divorced and free-floating from 3553 and anything goes, I      </span>│\n",
       "│<span style=\"font-weight: bold\">                                </span>│<span style=\"font-style: italic\"> don't know on what basis this or any court would find an abuse of discretion   </span>│\n",
       "│<span style=\"font-weight: bold\">                                </span>│<span style=\"font-style: italic\"> under that standard that you're proposing.                                     </span>│\n",
       "│<span style=\"font-weight: bold\"> Finetuned Llama 70B Prediction </span>│<span style=\"font-style: italic\"> Justice Neil Gorsuch: Counsel, I'm not sure I understood your answer to the    </span>│\n",
       "│<span style=\"font-weight: bold\">                                </span>│<span style=\"font-style: italic\"> Chief Justice. You -- you -- you've indicated that a categorical rule against  </span>│\n",
       "│<span style=\"font-weight: bold\">                                </span>│<span style=\"font-style: italic\"> consideration of intervening developments would be impermissible, but a        </span>│\n",
       "│<span style=\"font-weight: bold\">                                </span>│<span style=\"font-style: italic\"> district court judge could do it in individual cases, right?                   </span>│\n",
       "└────────────────────────────────┴────────────────────────────────────────────────────────────────────────────────┘\n",
       "</pre>\n"
      ],
      "text/plain": [
       "┏━━━━━━━━━━━━━━━━━━━━━━━━━━━━━━━━┳━━━━━━━━━━━━━━━━━━━━━━━━━━━━━━━━━━━━━━━━━━━━━━━━━━━━━━━━━━━━━━━━━━━━━━━━━━━━━━━━┓\n",
       "┃\u001b[1;35m \u001b[0m\u001b[1;35mField                         \u001b[0m\u001b[1;35m \u001b[0m┃\u001b[1;35m \u001b[0m\u001b[1;35mText                                                                          \u001b[0m\u001b[1;35m \u001b[0m┃\n",
       "┡━━━━━━━━━━━━━━━━━━━━━━━━━━━━━━━━╇━━━━━━━━━━━━━━━━━━━━━━━━━━━━━━━━━━━━━━━━━━━━━━━━━━━━━━━━━━━━━━━━━━━━━━━━━━━━━━━━┩\n",
       "│\u001b[1m \u001b[0m\u001b[1mGround Truth                  \u001b[0m\u001b[1m \u001b[0m│\u001b[3m \u001b[0m\u001b[3mJustice Neil Gorsuch: But, counsel, where does that come from? I mean, if it's\u001b[0m\u001b[3m \u001b[0m│\n",
       "│\u001b[1m                                \u001b[0m│\u001b[3m \u001b[0m\u001b[3m\"may\" and it is divorced and free-floating from 3553 and anything goes, I     \u001b[0m\u001b[3m \u001b[0m│\n",
       "│\u001b[1m                                \u001b[0m│\u001b[3m \u001b[0m\u001b[3mdon't know on what basis this or any court would find an abuse of discretion  \u001b[0m\u001b[3m \u001b[0m│\n",
       "│\u001b[1m                                \u001b[0m│\u001b[3m \u001b[0m\u001b[3munder that standard that you're proposing.                                    \u001b[0m\u001b[3m \u001b[0m│\n",
       "│\u001b[1m \u001b[0m\u001b[1mFinetuned Llama 70B Prediction\u001b[0m\u001b[1m \u001b[0m│\u001b[3m \u001b[0m\u001b[3mJustice Neil Gorsuch: Counsel, I'm not sure I understood your answer to the   \u001b[0m\u001b[3m \u001b[0m│\n",
       "│\u001b[1m                                \u001b[0m│\u001b[3m \u001b[0m\u001b[3mChief Justice. You -- you -- you've indicated that a categorical rule against \u001b[0m\u001b[3m \u001b[0m│\n",
       "│\u001b[1m                                \u001b[0m│\u001b[3m \u001b[0m\u001b[3mconsideration of intervening developments would be impermissible, but a       \u001b[0m\u001b[3m \u001b[0m│\n",
       "│\u001b[1m                                \u001b[0m│\u001b[3m \u001b[0m\u001b[3mdistrict court judge could do it in individual cases, right?                  \u001b[0m\u001b[3m \u001b[0m│\n",
       "└────────────────────────────────┴────────────────────────────────────────────────────────────────────────────────┘\n"
      ]
     },
     "metadata": {},
     "output_type": "display_data"
    },
    {
     "data": {
      "text/html": [
       "<pre style=\"white-space:pre;overflow-x:auto;line-height:normal;font-family:Menlo,'DejaVu Sans Mono',consolas,'Courier New',monospace\">\n",
       "--------------------------------------------------------------------------------\n",
       "\n",
       "</pre>\n"
      ],
      "text/plain": [
       "\n",
       "--------------------------------------------------------------------------------\n",
       "\n"
      ]
     },
     "metadata": {},
     "output_type": "display_data"
    },
    {
     "name": "stdout",
     "output_type": "stream",
     "text": [
      "#### CONTEXT: \n",
      "<context>\n",
      "<turn>Justice Samuel A. Alito, Jr.:  So the point is that the connection between drug addiction and drug usage is more tenuous than the connection between\n",
      "absolute homelessness and sleeping outside.</turn>\n",
      "<turn>Theane D. Evangelis:  Well, I -- I think, in  -- in Robinson, again, the Court did draw that line, but, here, the Respondents are saying that the two are\n",
      "really the same, that camping outside, sleeping outside, and being homeless are  two sides of the same coin. We think that that's wrong. It's collapsing the\n",
      "status that they claim into the conduct. So we think the conduct here is very clear because it applies generally to everyone. The law does not say on its face\n",
      "it is a crime to be homeless. I just want to --</turn>\n",
      "<turn>Justice Samuel A. Alito, Jr.:  All right.</turn>\n",
      "<turn>Theane D. Evangelis:  -- make that --</turn>\n",
      "<turn>Justice Samuel A. Alito, Jr.:  Thank you.</turn>\n",
      "<turn>Theane D. Evangelis:  -- very clear. Thank you.</turn>\n",
      "<turn>Justice John G. Roberts, Jr.:  Justice Sotomayor?</turn>\n",
      "<turn>Justice Sonia Sotomayor:  It was the brief of Criminal Law and Punishment Scholars that I was referencing earlier. I want to go back to Justice Thomas's\n",
      "beginning question. As I understood it, the Ninth Circuit never reached the excessive fines question presented by this case, correct?</turn>\n",
      "<turn>Theane D. Evangelis:  That's correct.</turn>\n",
      "<turn>Justice Sonia Sotomayor:  So that's still open. And you didn't seek cert on that issue?</turn>\n",
      "<turn>Theane D. Evangelis:  That's correct.</turn>\n",
      "<turn>Justice Sonia Sotomayor:  All right. Assuming that there is no standing, I understand one of the appellees died, the one who was camping outside died\n",
      "during the pendency of this appeal. And there are two other named plaintiffs. I know they have fines on them. I'm not sure that either of them has any criminal\n",
      "--crimes charged against them. Where does that put this appeal? Where does that put this case?</turn>\n",
      "<turn>Theane D. Evangelis:  Sure. Well, the case  --</turn>\n",
      "<turn>Justice Sonia Sotomayor:  Should we be vacating and remanding to see if there is  --</turn>\n",
      "<turn>Theane D. Evangelis:  No.</turn>\n",
      "<turn>Justice Sonia Sotomayor:  -- a live plaintiff -- a plaintiff, a named plaintiff who is still suffering injury?</turn>\n",
      "<turn>Theane D. Evangelis:  No. So, here, the  -- the sleeping ordinance, which is the one that Ms. Blake challenged, that is no longer in the case. That\n",
      "ordinance limited only sleeping in certain rights -of -way and sidewalks in the city, 43 and it was a different law, and that's not at issue here. So sleeping\n",
      "is not at issue. It's about the camping ordinance. And we very much  have a live case because we are under the Ninth Circuit's injunction, and the named\n",
      "plaintiffs have  --</turn>\n",
      "<turn>Justice Sonia Sotomayor:  No, the question is, could it give an injunction?  Do  -- are these people  --well, I guess, if they are not permitted to park\n",
      "--</turn>\n",
      "<turn>Theane D. Evangelis:  That's correct.</turn>\n",
      "<turn>Justice Sonia Sotomayor:  So it's not the camping, it's the parking, isn't it?</turn>\n",
      "<turn>Theane D. Evangelis:  Well, and the camping. So we -- we intend to  -- and --to rely on these laws. We want to be able to rely on these laws. They are\n",
      "very important and  --</turn>\n",
      "<turn>Justice Sonia Sotomayor:  You're not answering -- just focus on my question.</turn>\n",
      "<turn>Theane D. Evangelis:  Yes.</turn>\n",
      "<turn>Justice Sonia Sotomayor:  Both these people sleep in cars. Both of them sleep in cars outside of the town. So they're not seeking camping permission. Is\n",
      "your city not provide for overnight parking in any location at night except in private homes?</turn>\n",
      "<turn>Theane D. Evangelis:  Camping in a vehicle is included in the camping ordinance.</turn>\n",
      "<turn>Justice Sonia Sotomayor:  Well, that's going into a camp. How do you define \"camp\"?</turn>\n",
      "<turn>Theane D. Evangelis:  Again, it is a place where someone has laid down without any more, has  --</turn>\n",
      "<turn>Justice Sonia Sotomayor:  So, if they go into  --if there's a line of cars and they want to  -- and the cars can stay overnight --</turn>\n",
      "<turn>Theane D. Evangelis:  So --</turn>\n",
      "<turn>Justice Sonia Sotomayor:  -- and they want to park in one of those spaces, if they fall asleep in the car, they're guilty of violating the camping\n",
      "law?</turn>\n",
      "<turn>Theane D. Evangelis:  No. Justice Sotomayor, Ms. Johnson par ks her car oftentimes at a friend's, so she is not violating the law at those times. So\n",
      "--</turn>\n",
      "<turn>Justice Sonia Sotomayor:  Just answer my question.</turn>\n",
      "<turn>Theane D. Evangelis:  -- parking everywhere is not prohibited. In certain areas, private areas, you can.</turn>\n",
      "<turn>Justice Sonia Sotomayor:  Is sleeping in your car prohibited?</turn>\n",
      "<turn>Theane D. Evangelis:  If you are sleeping in your car in a park, where you're not allowed to park overnight - -</turn>\n",
      "<turn>Justice Sonia Sotomayor:  Have any of them  --</turn>\n",
      "<turn>Theane D. Evangelis:  -- then yes.</turn>\n",
      "<turn>Justice Sonia Sotomayor:  -- indicated intent to sleep in a park, or have they just said they want to park somewhere in the city? And can they park\n",
      "somewhere in the city and sleep?</turn>\n",
      "<turn>Theane D. Evangelis:  Yes, they have said that they have the intent to continue their conduct and that they will be, therefore, subject to the city's laws\n",
      "and subject to  --</turn>\n",
      "<turn>Justice Sonia Sotomayor:  I don't understand that answer. Okay.</turn>\n",
      "<turn>Justice John G. Roberts, Jr.:  Justice Kagan?</turn>\n",
      "</context>\n",
      "<justice>Justice Elena Kagan</justice>\n",
      "Generate a question that Justice Elena Kagan is likely to ask next.\n"
     ]
    },
    {
     "data": {
      "text/html": [
       "<pre style=\"white-space:pre;overflow-x:auto;line-height:normal;font-family:Menlo,'DejaVu Sans Mono',consolas,'Courier New',monospace\">┏━━━━━━━━━━━━━━━━━━━━━━━━━━━━━━━━┳━━━━━━━━━━━━━━━━━━━━━━━━━━━━━━━━━━━━━━━━━━━━━━━━━━━━━━━━━━━━━━━━━━━━━━━━━━━━━━━━┓\n",
       "┃<span style=\"color: #800080; text-decoration-color: #800080; font-weight: bold\"> Field                          </span>┃<span style=\"color: #800080; text-decoration-color: #800080; font-weight: bold\"> Text                                                                           </span>┃\n",
       "┡━━━━━━━━━━━━━━━━━━━━━━━━━━━━━━━━╇━━━━━━━━━━━━━━━━━━━━━━━━━━━━━━━━━━━━━━━━━━━━━━━━━━━━━━━━━━━━━━━━━━━━━━━━━━━━━━━━┩\n",
       "│<span style=\"font-weight: bold\"> Ground Truth                   </span>│<span style=\"font-style: italic\"> Justice Elena Kagan:  You've referred a couple of times to the necessity       </span>│\n",
       "│<span style=\"font-weight: bold\">                                </span>│<span style=\"font-style: italic\"> defense, so could you tell me how that would work?                             </span>│\n",
       "│<span style=\"font-weight: bold\"> Finetuned Llama 70B Prediction </span>│<span style=\"font-style: italic\"> Justice Elena Kagan:  Ms. Evangelis, I'm wondering if you could talk a little  </span>│\n",
       "│<span style=\"font-weight: bold\">                                </span>│<span style=\"font-style: italic\"> bit more about what the city is doing to address this problem. You know, the   </span>│\n",
       "│<span style=\"font-weight: bold\">                                </span>│<span style=\"font-style: italic\"> city has been under the Ninth Circuit's injunction for some time now. What is  </span>│\n",
       "│<span style=\"font-weight: bold\">                                </span>│<span style=\"font-style: italic\"> the city doing to address this problem of the number of people who are         </span>│\n",
       "│<span style=\"font-weight: bold\">                                </span>│<span style=\"font-style: italic\"> homeless and who need shelter?                                                 </span>│\n",
       "└────────────────────────────────┴────────────────────────────────────────────────────────────────────────────────┘\n",
       "</pre>\n"
      ],
      "text/plain": [
       "┏━━━━━━━━━━━━━━━━━━━━━━━━━━━━━━━━┳━━━━━━━━━━━━━━━━━━━━━━━━━━━━━━━━━━━━━━━━━━━━━━━━━━━━━━━━━━━━━━━━━━━━━━━━━━━━━━━━┓\n",
       "┃\u001b[1;35m \u001b[0m\u001b[1;35mField                         \u001b[0m\u001b[1;35m \u001b[0m┃\u001b[1;35m \u001b[0m\u001b[1;35mText                                                                          \u001b[0m\u001b[1;35m \u001b[0m┃\n",
       "┡━━━━━━━━━━━━━━━━━━━━━━━━━━━━━━━━╇━━━━━━━━━━━━━━━━━━━━━━━━━━━━━━━━━━━━━━━━━━━━━━━━━━━━━━━━━━━━━━━━━━━━━━━━━━━━━━━━┩\n",
       "│\u001b[1m \u001b[0m\u001b[1mGround Truth                  \u001b[0m\u001b[1m \u001b[0m│\u001b[3m \u001b[0m\u001b[3mJustice Elena Kagan:  You've referred a couple of times to the necessity      \u001b[0m\u001b[3m \u001b[0m│\n",
       "│\u001b[1m                                \u001b[0m│\u001b[3m \u001b[0m\u001b[3mdefense, so could you tell me how that would work?                            \u001b[0m\u001b[3m \u001b[0m│\n",
       "│\u001b[1m \u001b[0m\u001b[1mFinetuned Llama 70B Prediction\u001b[0m\u001b[1m \u001b[0m│\u001b[3m \u001b[0m\u001b[3mJustice Elena Kagan:  Ms. Evangelis, I'm wondering if you could talk a little \u001b[0m\u001b[3m \u001b[0m│\n",
       "│\u001b[1m                                \u001b[0m│\u001b[3m \u001b[0m\u001b[3mbit more about what the city is doing to address this problem. You know, the  \u001b[0m\u001b[3m \u001b[0m│\n",
       "│\u001b[1m                                \u001b[0m│\u001b[3m \u001b[0m\u001b[3mcity has been under the Ninth Circuit's injunction for some time now. What is \u001b[0m\u001b[3m \u001b[0m│\n",
       "│\u001b[1m                                \u001b[0m│\u001b[3m \u001b[0m\u001b[3mthe city doing to address this problem of the number of people who are        \u001b[0m\u001b[3m \u001b[0m│\n",
       "│\u001b[1m                                \u001b[0m│\u001b[3m \u001b[0m\u001b[3mhomeless and who need shelter?                                                \u001b[0m\u001b[3m \u001b[0m│\n",
       "└────────────────────────────────┴────────────────────────────────────────────────────────────────────────────────┘\n"
      ]
     },
     "metadata": {},
     "output_type": "display_data"
    },
    {
     "data": {
      "text/html": [
       "<pre style=\"white-space:pre;overflow-x:auto;line-height:normal;font-family:Menlo,'DejaVu Sans Mono',consolas,'Courier New',monospace\">\n",
       "--------------------------------------------------------------------------------\n",
       "\n",
       "</pre>\n"
      ],
      "text/plain": [
       "\n",
       "--------------------------------------------------------------------------------\n",
       "\n"
      ]
     },
     "metadata": {},
     "output_type": "display_data"
    },
    {
     "name": "stdout",
     "output_type": "stream",
     "text": [
      "#### CONTEXT: \n",
      "<context>\n",
      "<turn>Joseph R. Guerra: Justice Ginsburg, the language \"as applicable\" I submit has to be referring to whether the case itself would implicate the need for that\n",
      "remedy. In other words, it would not be applicable to have a reinstatement remedy in a case where there was no discharge. But the reading that you have\n",
      "suggested assumes that Congress didn't know what it was... the scope of the prohibition it enacted in Section 717(a) and was effectively saying: Here are some\n",
      "remedies; we don't know whether they apply or not, but if they do, go ahead and use them. And I submit that is an improper assumption about congressional\n",
      "understanding of its own legislation. The proper assumption is that Congress understood 717(a) to bar retaliation. That's why it provided a retaliation remedy,\n",
      "and that assumption is buttressed by the fact that, as this Court explained in the Brown v. GSA case, Congress adopted Title VII precisely because it found that\n",
      "fear of reprisal had made the old scheme ineffective. So it makes perfect sense that it would want to prohibit retaliation under Title VII in the Federal sector\n",
      "because reprisals had rendered the old protections useless.</turn>\n",
      "<turn>Justice Stephen G. Breyer: --Well, could you proceed with that? That is, a very simple way of thinking of this as one possible way of reading it is that\n",
      "Congress says: When private employers discriminate, there can be whistleblower's, and they need protection; so let's put some in. When State officials\n",
      "discriminate, say, on the basis of race, there can be some whistleblower's. Maybe they protect them in some States; maybe they don't protect them in others. We\n",
      "better put some in. When Federal Government officials discriminate against on the basis of race, whistleblower's should be protected. But we have a whole system\n",
      "here to protect them. And so let's just use that system and treat all whistleblower's alike, and that's the end of the matter. We don't need any special\n",
      "protection for whistleblower's here. Now, the answer to that is what?</turn>\n",
      "<turn>Joseph R. Guerra: That is the very system that Congress had deemed ineffective to prevent retaliation for the very claims you're talking about in... and\n",
      "that's why it chose to adopt the amendments to Title VII in 1972. That's what the Brown case canvasses; and, in fact--</turn>\n",
      "<turn>Justice Antonin Scalia: --Well, that's sort of begging the question. I mean, you're saying it's not true because our interpretation of Title VII is true.\n",
      "But the point goes to how you ought to interpret Title VII. That is, it makes more sense to say when it's retaliatory action you use your Federally prescribed\n",
      "remedies within the agency. I mean, it doesn't answer the point that Justice Breyer made to say, because we want to interpret Title VII the way we want to\n",
      "interpret it. His point is: One reason to interpret it the way you do want to interpret it is that it makes more sense to have all of the Federal remedies\n",
      "applied through the agency, through the agency mechanism, rather than in court.</turn>\n",
      "<turn>Joseph R. Guerra: --Justice Scalia, I apologize if I wasn't clear in my response, but what I'm saying is that in the Brown case this Court looked at the\n",
      "legislative history of Title VII... excuse me... yes, in 1972 and 1977... and said that the reason Congress adopted these, this new prohibition, was because the\n",
      "very scheme that Justice Breyer is suggesting would have been a fix for whistle blowing was ineffective. That--</turn>\n",
      "<turn>Justice David H. Souter: Then it's ineffective here.</turn>\n",
      "<turn>Joseph R. Guerra: --And it is ineffective here.</turn>\n",
      "<turn>Justice David H. Souter: And if it's ineffective here and Congress has made it clear that the only way to cure the ineffectiveness is with a separate\n",
      "provision and you don't have a separate provision, you're out.</turn>\n",
      "<turn>Joseph R. Guerra: That's correct. And the ineffectiveness here is because of the extraordinarily limited nature of the types of conduct that would trigger\n",
      "any rights that the employee could control under the CSRA. Retaliation rarely takes the form of a removal from position or a suspension of more than 14 days.\n",
      "The most typical things are poor performance evaluations, what we have in this case, allegations of groundless charges of misconduct.</turn>\n",
      "<turn>Justice John G. Roberts, Jr.: When you qualified your answer by saying that the employee can control, was that a way to dismiss the collective bargaining\n",
      "rights?</turn>\n",
      "<turn>Joseph R. Guerra: Well, I was talking about actually the... the... you can complain about non adverse actions under the CSRA, but all you can do is ask\n",
      "the Office of Special Counsel to investigate. And then you have no right to compel any further action at any step of the process. So if the counsel decides not\n",
      "to investigate, that's the end of the matter. If they do and the agency refuses to take their advice, that's the end of the matter. There's no judicial remedy\n",
      "for the vast majority of retaliatory actions that a Federal employee could suffer under the CSRA.</turn>\n",
      "</context>\n",
      "<justice>Justice John G. Roberts, Jr.</justice>\n",
      "Generate a question that Justice John G. Roberts, Jr. is likely to ask next.\n"
     ]
    },
    {
     "data": {
      "text/html": [
       "<pre style=\"white-space:pre;overflow-x:auto;line-height:normal;font-family:Menlo,'DejaVu Sans Mono',consolas,'Courier New',monospace\">┏━━━━━━━━━━━━━━━━━━━━━━━━━━━━━━━━┳━━━━━━━━━━━━━━━━━━━━━━━━━━━━━━━━━━━━━━━━━━━━━━━━━━━━━━━━━━━━━━━━━━━━━━━━━━━━━━━━┓\n",
       "┃<span style=\"color: #800080; text-decoration-color: #800080; font-weight: bold\"> Field                          </span>┃<span style=\"color: #800080; text-decoration-color: #800080; font-weight: bold\"> Text                                                                           </span>┃\n",
       "┡━━━━━━━━━━━━━━━━━━━━━━━━━━━━━━━━╇━━━━━━━━━━━━━━━━━━━━━━━━━━━━━━━━━━━━━━━━━━━━━━━━━━━━━━━━━━━━━━━━━━━━━━━━━━━━━━━━┩\n",
       "│<span style=\"font-weight: bold\"> Ground Truth                   </span>│<span style=\"font-style: italic\"> Justice John G. Roberts, Jr.: What about review under... by the Merit Systems  </span>│\n",
       "│<span style=\"font-weight: bold\">                                </span>│<span style=\"font-style: italic\"> Protection Board?                                                              </span>│\n",
       "│<span style=\"font-weight: bold\"> Finetuned Llama 70B Prediction </span>│<span style=\"font-style: italic\"> Justice John G. Roberts, Jr.: So what if the union in this case, the union for </span>│\n",
       "│<span style=\"font-weight: bold\">                                </span>│<span style=\"font-style: italic\"> the Federal employees, had brought a grievance about the way that the employee </span>│\n",
       "│<span style=\"font-weight: bold\">                                </span>│<span style=\"font-style: italic\"> was treated?                                                                   </span>│\n",
       "└────────────────────────────────┴────────────────────────────────────────────────────────────────────────────────┘\n",
       "</pre>\n"
      ],
      "text/plain": [
       "┏━━━━━━━━━━━━━━━━━━━━━━━━━━━━━━━━┳━━━━━━━━━━━━━━━━━━━━━━━━━━━━━━━━━━━━━━━━━━━━━━━━━━━━━━━━━━━━━━━━━━━━━━━━━━━━━━━━┓\n",
       "┃\u001b[1;35m \u001b[0m\u001b[1;35mField                         \u001b[0m\u001b[1;35m \u001b[0m┃\u001b[1;35m \u001b[0m\u001b[1;35mText                                                                          \u001b[0m\u001b[1;35m \u001b[0m┃\n",
       "┡━━━━━━━━━━━━━━━━━━━━━━━━━━━━━━━━╇━━━━━━━━━━━━━━━━━━━━━━━━━━━━━━━━━━━━━━━━━━━━━━━━━━━━━━━━━━━━━━━━━━━━━━━━━━━━━━━━┩\n",
       "│\u001b[1m \u001b[0m\u001b[1mGround Truth                  \u001b[0m\u001b[1m \u001b[0m│\u001b[3m \u001b[0m\u001b[3mJustice John G. Roberts, Jr.: What about review under... by the Merit Systems \u001b[0m\u001b[3m \u001b[0m│\n",
       "│\u001b[1m                                \u001b[0m│\u001b[3m \u001b[0m\u001b[3mProtection Board?                                                             \u001b[0m\u001b[3m \u001b[0m│\n",
       "│\u001b[1m \u001b[0m\u001b[1mFinetuned Llama 70B Prediction\u001b[0m\u001b[1m \u001b[0m│\u001b[3m \u001b[0m\u001b[3mJustice John G. Roberts, Jr.: So what if the union in this case, the union for\u001b[0m\u001b[3m \u001b[0m│\n",
       "│\u001b[1m                                \u001b[0m│\u001b[3m \u001b[0m\u001b[3mthe Federal employees, had brought a grievance about the way that the employee\u001b[0m\u001b[3m \u001b[0m│\n",
       "│\u001b[1m                                \u001b[0m│\u001b[3m \u001b[0m\u001b[3mwas treated?                                                                  \u001b[0m\u001b[3m \u001b[0m│\n",
       "└────────────────────────────────┴────────────────────────────────────────────────────────────────────────────────┘\n"
      ]
     },
     "metadata": {},
     "output_type": "display_data"
    },
    {
     "data": {
      "text/html": [
       "<pre style=\"white-space:pre;overflow-x:auto;line-height:normal;font-family:Menlo,'DejaVu Sans Mono',consolas,'Courier New',monospace\">\n",
       "--------------------------------------------------------------------------------\n",
       "\n",
       "</pre>\n"
      ],
      "text/plain": [
       "\n",
       "--------------------------------------------------------------------------------\n",
       "\n"
      ]
     },
     "metadata": {},
     "output_type": "display_data"
    }
   ],
   "source": [
    "display_comparison(data_test[:5])"
   ]
  },
  {
   "cell_type": "code",
   "execution_count": null,
   "metadata": {},
   "outputs": [],
   "source": []
  }
 ],
 "metadata": {
  "kernelspec": {
   "display_name": "research",
   "language": "python",
   "name": "python3"
  },
  "language_info": {
   "codemirror_mode": {
    "name": "ipython",
    "version": 3
   },
   "file_extension": ".py",
   "mimetype": "text/x-python",
   "name": "python",
   "nbconvert_exporter": "python",
   "pygments_lexer": "ipython3",
   "version": "3.12.3"
  }
 },
 "nbformat": 4,
 "nbformat_minor": 2
}
