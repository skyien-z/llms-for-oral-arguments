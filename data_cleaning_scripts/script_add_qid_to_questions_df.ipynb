{
 "cells": [
  {
   "cell_type": "markdown",
   "metadata": {},
   "source": [
    "## Add question_id column to the two main questions dataframe"
   ]
  },
  {
   "cell_type": "markdown",
   "metadata": {},
   "source": [
    "Add question ids to the three main question csvs for 2024:\n",
    "\n",
    "* Actual questions on 13 transcripts: `2024_all_questions_coherence_labeled_Meta-Llama-3.1-70B-Instruct.csv`\n",
    "* Llama generated questions on 13 transcripts: `2024_llm_questions_Meta-Llama-3.1-70B-Instruct.csv`\n",
    "* GPT4o generated questions on 13 transcripts: `2024_llm_questions_gpt-4o-2024-08-06.csv`"
   ]
  },
  {
   "cell_type": "code",
   "execution_count": 1,
   "metadata": {},
   "outputs": [],
   "source": [
    "import pandas as pd\n",
    "import hashlib"
   ]
  },
  {
   "cell_type": "code",
   "execution_count": 2,
   "metadata": {},
   "outputs": [],
   "source": [
    "# generate a unique question_id based on transcript_id and question_text\n",
    "def generate_question_id(row):\n",
    "    unique_string = f\"{row['transcript_id']}_{row['question_text']}\"\n",
    "    id_hash = hashlib.md5(unique_string.encode()).hexdigest()[:8] # use first 8 chars\n",
    "    return f'q_{id_hash}'\n",
    "\n",
    "def add_question_id_to_df(df):\n",
    "    df['question_id'] = df.apply(generate_question_id, axis=1)\n",
    "    df.insert(0, 'question_id', df.pop('question_id'))\n",
    "    return df"
   ]
  },
  {
   "cell_type": "code",
   "execution_count": 3,
   "metadata": {},
   "outputs": [],
   "source": [
    "# filepaths\n",
    "input_dir = '../datasets/2024_questions'\n",
    "# input_fp_actual = f'{input_dir}/2024_all_questions_coherence_labeled_Meta-Llama-3.1-70B-Instruct.csv'\n",
    "input_fp_llama = f'{input_dir}/2024_llm_questions_Meta-Llama-3.1-70B-Instruct.csv'\n",
    "# input_fp_gpt = f'{input_dir}/2024_llm_questions_gpt-4o-2024-08-06.csv'\n",
    "\n",
    "output_dir = '../datasets/2024_questions/with_qid'\n",
    "# out_fp_actual = f'{output_dir}/2024_all_questions_coherence_labeled_Meta-Llama-3.1-70B-Instruct_qid.csv'\n",
    "out_fp_llama = f'{output_dir}/2024_llm_questions_Meta-Llama-3.1-70B-Instruct_qid.csv'\n",
    "# out_fp_gpt = f'{output_dir}/2024_llm_questions_gpt-4o-2024-08-06_qid.csv'\n"
   ]
  },
  {
   "cell_type": "code",
   "execution_count": 5,
   "metadata": {},
   "outputs": [],
   "source": [
    "# # add question_id column\n",
    "# df_actual_questions = pd.read_csv(input_fp_actual)\n",
    "df_llama_questions = pd.read_csv(input_fp_llama)\n",
    "# df_gpt_questions = pd.read_csv(input_fp_gpt)\n",
    "\n",
    "\n",
    "# df_actual_questions = add_question_id_to_df(df_actual_questions)\n",
    "df_llama_questions = add_question_id_to_df(df_llama_questions)\n",
    "# df_gpt_questions = add_question_id_to_df(df_gpt_questions)"
   ]
  },
  {
   "cell_type": "code",
   "execution_count": 6,
   "metadata": {},
   "outputs": [],
   "source": [
    "# save \n",
    "# df_actual_questions.to_csv(out_fp_actual)\n",
    "df_llama_questions.to_csv(out_fp_llama)\n",
    "# df_gpt_questions.to_csv(out_fp_gpt)"
   ]
  },
  {
   "cell_type": "code",
   "execution_count": null,
   "metadata": {},
   "outputs": [],
   "source": []
  }
 ],
 "metadata": {
  "kernelspec": {
   "display_name": "Python 3 (ipykernel)",
   "language": "python",
   "name": "python3"
  },
  "language_info": {
   "codemirror_mode": {
    "name": "ipython",
    "version": 3
   },
   "file_extension": ".py",
   "mimetype": "text/x-python",
   "name": "python",
   "nbconvert_exporter": "python",
   "pygments_lexer": "ipython3",
   "version": "3.9.7"
  }
 },
 "nbformat": 4,
 "nbformat_minor": 4
}
