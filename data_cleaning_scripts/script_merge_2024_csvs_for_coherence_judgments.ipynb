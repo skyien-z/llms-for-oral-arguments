{
 "cells": [
  {
   "cell_type": "markdown",
   "metadata": {},
   "source": [
    "## Generate csv for question coherence judgments"
   ]
  },
  {
   "cell_type": "markdown",
   "metadata": {},
   "source": [
    "Merge the following two csvs for 2024 transcripts to get a single csv for easy coherence judgment generation:\n",
    "* `2024_all_questions.csv` (questions)\n",
    "* `2024_full_text_transcripts.csv` (full_text)\n",
    "\n",
    "In the merged csv, each row corresponds to a single question and we have the following columns:\n",
    "\n",
    "* `transcript_id` - same as questions/full_text\n",
    "* `question_addressee` - same as questions\n",
    "* `justice` - same as questions\n",
    "* `question_text` - same as questions\n",
    "* `opening_statement` - same as either petitioner_opening_text or respondent_opening_statement in full_text\n",
    "* `full_text` - same as either petitioner_full_text or respondent_full_text in full_text"
   ]
  },
  {
   "cell_type": "code",
   "execution_count": null,
   "metadata": {},
   "outputs": [],
   "source": [
    "import pandas as pd\n",
    "\n",
    "def get_full_text(row):\n",
    "    \"\"\"\n",
    "    Add a column for the full text corresponding to the addressee for each item in dataframe.\n",
    "    \"\"\"\n",
    "    if row['question_addressee'] == 'petitioner':\n",
    "        return row['petitioner_full_text']\n",
    "    elif row['question_addressee'] == 'respondent':\n",
    "        return row['respondent_full_text']\n",
    "    return None\n",
    "\n",
    "def get_opening_text(row):\n",
    "    \"\"\"\n",
    "    Add a column for the opening statement corresponding to the addressee for each item in dataframe.\n",
    "    \"\"\"\n",
    "    if row['question_addressee'] == 'petitioner':\n",
    "        return row['petitioner_opening_text']\n",
    "    elif row['question_addressee'] == 'respondent':\n",
    "        return row['respondent_opening_statement']\n",
    "    return None\n",
    "\n",
    "# get csvs and merge\n",
    "all_qs_24_df = pd.read_csv('../datasets/2024_all_questions.csv')\n",
    "full_text_df = pd.read_csv('../datasets/2024_full_text_transcripts.csv')\n",
    "merged_df = all_qs_24_df.merge(full_text_df, on=\"transcript_id\")\n",
    "\n",
    "# choose proper opening statement and full text depending on if petitioner or respondent is presenting\n",
    "merged_df['opening_statement'] = merged_df.apply(get_opening_text, axis=1)\n",
    "merged_df['full_text'] = merged_df.apply(get_full_text, axis=1)\n",
    "\n",
    "# drop extraneous columns from the merging step\n",
    "columns = ['transcript_id', 'question_addressee', 'justice', 'question_text', 'opening_statement', 'full_text']\n",
    "merged_df_questions = merged_df[columns]\n",
    "\n",
    "# output merged csv\n",
    "out_fp = '2024_all_questions_full_text_merged.csv'\n",
    "merged_df_questions.to_csv(out_fp, index=False)"
   ]
  }
 ],
 "metadata": {
  "kernelspec": {
   "display_name": "Python 3",
   "language": "python",
   "name": "python3"
  },
  "language_info": {
   "codemirror_mode": {
    "name": "ipython",
    "version": 3
   },
   "file_extension": ".py",
   "mimetype": "text/x-python",
   "name": "python",
   "nbconvert_exporter": "python",
   "pygments_lexer": "ipython3",
   "version": "3.12.7"
  }
 },
 "nbformat": 4,
 "nbformat_minor": 2
}
