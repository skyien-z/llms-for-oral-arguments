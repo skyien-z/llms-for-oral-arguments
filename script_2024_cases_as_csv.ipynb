{
 "cells": [
  {
   "cell_type": "code",
   "execution_count": null,
   "metadata": {},
   "outputs": [],
   "source": [
    "import json\n",
    "import os\n",
    "import pandas as pd\n",
    "\n",
    "TRANSCRIPTS_DIR = \"2024_cases_json/\"      # directory of JSONs of oral arguments\n",
    "CSV_DIR = \"2024_cases_csv\"         # directory in which to store csv of aggregated oral arguments\n",
    "\n",
    "def get_formatted_text_of_turn(turn):\n",
    "    speaker_in_turn = \"<speaker>\" + turn[\"speaker\"][\"name\"] + \"</speaker>\"\n",
    "    all_text_in_turn = \"<text>\" + \" \".join([block[\"text\"] for block in turn[\"text_blocks\"]]) + \"</text>\"\n",
    "    return speaker_in_turn + all_text_in_turn\n",
    "\n",
    "def get_section_full_text(section_json):\n",
    "    turns = section_json[\"turns\"]\n",
    "    full_text = \"\"\n",
    "    for turn in turns:\n",
    "        full_text += get_formatted_text_of_turn(turn)\n",
    "    return full_text\n",
    "\n",
    "def get_transcript_dict(json_file_name):\n",
    "    transcript_info = {}\n",
    "    transcript_info[\"transcript_id\"] = json_file_name[:-5]\n",
    "\n",
    "    transcript_file_path = TRANSCRIPTS_DIR + json_file_name\n",
    "    with open(transcript_file_path) as json_file:\n",
    "        transcript_json = json.load(json_file)\n",
    "    \n",
    "    # parse petitioner opening statement and full text\n",
    "    petitioner_opening_turn = transcript_json[\"transcript\"][\"sections\"][0][\"turns\"][1]\n",
    "    transcript_info[\"petitioner_opening_text\"] = get_formatted_text_of_turn(petitioner_opening_turn)\n",
    "    petitioner_turns = transcript_json[\"transcript\"][\"sections\"][0]\n",
    "    transcript_info[\"petitioner_full_text\"] = get_section_full_text(petitioner_turns)\n",
    "    \n",
    "    # parse respondent opening statement and full text\n",
    "    respondent_opening_turn = transcript_json[\"transcript\"][\"sections\"][1][\"turns\"][0]\n",
    "    transcript_info[\"respondent_opening_statement\"] = get_formatted_text_of_turn(respondent_opening_turn)\n",
    "    respondent_turns = transcript_json[\"transcript\"][\"sections\"][1]\n",
    "    transcript_info[\"respondent_full_text\"] = get_section_full_text(respondent_turns)\n",
    "\n",
    "    return transcript_info\n",
    "    \n",
    "transcripts = []\n",
    "cases_dir = os.fsencode(TRANSCRIPTS_DIR)\n",
    "for json_file_name in os.listdir(TRANSCRIPTS_DIR):\n",
    "    # ignore hidden files\n",
    "    if json_file_name.startswith('.'):\n",
    "        continue\n",
    "    transcripts.append(get_transcript_dict(json_file_name))\n",
    "\n",
    "transcripts_df = pd.DataFrame(transcripts)\n",
    "transcripts_df.to_csv(CSV_DIR + \"/transcript_parsed\")"
   ]
  }
 ],
 "metadata": {
  "kernelspec": {
   "display_name": "oral-arg-env",
   "language": "python",
   "name": "python3"
  },
  "language_info": {
   "codemirror_mode": {
    "name": "ipython",
    "version": 3
   },
   "file_extension": ".py",
   "mimetype": "text/x-python",
   "name": "python",
   "nbconvert_exporter": "python",
   "pygments_lexer": "ipython3",
   "version": "3.13.0"
  }
 },
 "nbformat": 4,
 "nbformat_minor": 2
}
