{
 "cells": [
  {
   "cell_type": "markdown",
   "id": "23693d69-b821-48cd-8eaa-e5239499d70c",
   "metadata": {},
   "source": [
    "## Convert OS based questions to CB based Questions jsonl for finetuned model"
   ]
  },
  {
   "cell_type": "code",
   "execution_count": 1,
   "id": "70ed7c50-662b-4587-aa88-4c02be83c2b2",
   "metadata": {},
   "outputs": [],
   "source": [
    "import re\n",
    "import pandas as pd"
   ]
  },
  {
   "cell_type": "code",
   "execution_count": 2,
   "id": "9db97a7a",
   "metadata": {},
   "outputs": [],
   "source": [
    "IN_DIR = \"../../datasets/original\"\n",
    "OUT_DIR = \"../finetuning_datasets/eval_only\""
   ]
  },
  {
   "cell_type": "markdown",
   "id": "e57f29a1",
   "metadata": {},
   "source": [
    "## Generate jsonl for inference on finetuned model"
   ]
  },
  {
   "cell_type": "code",
   "execution_count": 3,
   "id": "ed742822",
   "metadata": {},
   "outputs": [],
   "source": [
    "input_fp = f'{IN_DIR}/2024_all_questions.csv'\n",
    "questions_df = pd.read_csv(input_fp)\n",
    "justices = list(questions_df['justice'].unique())"
   ]
  },
  {
   "cell_type": "code",
   "execution_count": 4,
   "id": "c32e710d",
   "metadata": {},
   "outputs": [],
   "source": [
    "justices = [\n",
    "    'Clarence Thomas',\n",
    "    'John G. Roberts, Jr.',\n",
    "    'Elena Kagan',\n",
    "    'Ketanji Brown Jackson',\n",
    "    'Sonia Sotomayor',\n",
    "    'Samuel A. Alito, Jr.',\n",
    "    'Amy Coney Barrett',\n",
    "    'Neil Gorsuch',\n",
    "    'Brett M. Kavanaugh'\n",
    " ]"
   ]
  },
  {
   "cell_type": "code",
   "execution_count": 5,
   "id": "4ee3d1ce",
   "metadata": {},
   "outputs": [],
   "source": [
    "input_fp = f'{IN_DIR}/2024_full_text_transcripts.csv'\n",
    "df = pd.read_csv(input_fp)\n",
    "\n",
    "\n",
    "def extract_speaker_and_text(input_string):\n",
    "    speaker_pattern = re.compile(r\"<speaker>(.*?)</speaker>\", re.DOTALL)\n",
    "    text_pattern = re.compile(r\"<text>(.*?)</text>\", re.DOTALL)\n",
    "\n",
    "    speaker_match = speaker_pattern.search(input_string)\n",
    "    text_match = text_pattern.search(input_string)\n",
    "\n",
    "    speaker = speaker_match.group(1)\n",
    "    text_content = text_match.group(1)\n",
    "\n",
    "    turn = f\"{speaker}: {text_content}\"\n",
    "\n",
    "    return turn\n",
    "\n",
    "df['petitioner_turn'] = df['petitioner_opening_text'].apply(extract_speaker_and_text)\n",
    "df['respondent_turn'] = df['respondent_opening_statement'].apply(extract_speaker_and_text)"
   ]
  },
  {
   "cell_type": "code",
   "execution_count": 6,
   "id": "65c599dd",
   "metadata": {},
   "outputs": [],
   "source": [
    "def get_question_generation_prompt(justice, opening_statement):\n",
    "    '''\n",
    "        Formats conversation context and the justice's response into fine-tuning format.\n",
    "    '''\n",
    "    formatted_data = {\n",
    "        \"system_prompt\": (\n",
    "            \"You are a Supreme Court Justice participating in oral arguments. \"\n",
    "            \"Given a transcript excerpt and a Justice's name, generate the Justice's next question in response to the conversation history.\"\n",
    "        ),\n",
    "        \"instruction\": (\n",
    "            \"<context>\\n\" +\n",
    "            f\"<turn>{opening_statement}</turn>\" +\n",
    "            \"\\n</context>\\n\" +\n",
    "            f\"<justice>{justice}</justice>\\n\" +\n",
    "            f\"Generate a question that {justice} is likely to ask next.\"\n",
    "        ),\n",
    "        \"justice\": justice,\n",
    "    }\n",
    "    \n",
    "    return formatted_data\n",
    "\n",
    "data = []\n",
    "for j in justices:\n",
    "    justice = f'Justice {j}'\n",
    "    for _, row in df.iterrows():\n",
    "        # petitioner opening statement \n",
    "        sample = get_question_generation_prompt(justice, row['petitioner_turn'])\n",
    "        sample.update({\n",
    "            'question_addressee': 'petitioner',\n",
    "            'opening_statement': row['petitioner_opening_text']\n",
    "        })\n",
    "        data.append(sample)\n",
    "\n",
    "        # respondent opening statement \n",
    "        sample = get_question_generation_prompt(justice, row['respondent_turn'])\n",
    "        sample.update({\n",
    "            'question_addressee': 'respondent',\n",
    "            'opening_statement': row['respondent_opening_statement']\n",
    "        })\n",
    "        data.append(sample)\n",
    "\n",
    "data_df = pd.DataFrame(data)"
   ]
  },
  {
   "cell_type": "code",
   "execution_count": 7,
   "id": "d22ff703",
   "metadata": {},
   "outputs": [],
   "source": [
    "out_fp = f'{OUT_DIR}/OS_to_CB_based_questions_test.jsonl'\n",
    "data_df.to_json(out_fp, orient='records', index=False, lines=True)"
   ]
  },
  {
   "cell_type": "code",
   "execution_count": 8,
   "id": "0a046a5e",
   "metadata": {},
   "outputs": [],
   "source": [
    "# data_df.info()"
   ]
  }
 ],
 "metadata": {
  "kernelspec": {
   "display_name": "Python 3 (ipykernel)",
   "language": "python",
   "name": "python3"
  },
  "language_info": {
   "codemirror_mode": {
    "name": "ipython",
    "version": 3
   },
   "file_extension": ".py",
   "mimetype": "text/x-python",
   "name": "python",
   "nbconvert_exporter": "python",
   "pygments_lexer": "ipython3",
   "version": "3.12.4"
  }
 },
 "nbformat": 4,
 "nbformat_minor": 5
}
