{
 "cells": [
  {
   "cell_type": "code",
   "execution_count": null,
   "metadata": {},
   "outputs": [],
   "source": [
    "##### Code forked from WalkerDB: https://github.com/walkerdb/supreme_court_transcripts/blob/master/update.py\n",
    "import json\n",
    "import requests\n",
    "from ratelimit import limits, sleep_and_retry\n",
    "\n",
    "@sleep_and_retry\n",
    "@limits(calls=10, period=10)  # no more than 1 call per second\n",
    "def get_http_json(url):\n",
    "    print(f\"Getting {url}\")\n",
    "    response = requests.get(url)\n",
    "    parsed = response.json()\n",
    "    return parsed\n",
    "\n",
    "\n",
    "def get_case(term, docket):\n",
    "    \"\"\"Get the info of the case and fetch all\n",
    "    transcripts that the info links to\"\"\"\n",
    "    url = f\"https://api.oyez.org/cases/{term}/{docket}\"\n",
    "    docket_data = get_http_json(url)\n",
    "\n",
    "    return docket_data\n",
    "\n",
    "\n",
    "def write_case(term, docket, docket_data):\n",
    "    \"\"\"\n",
    "    Writes term-docket.json file with docket_data\n",
    "    For each transcript, writes the term-docket-t##.json file\n",
    "    \"\"\"\n",
    "    with open(f\"case_briefs_up_to_2025/{term}.{docket}.json\", \"a\") as docket_file:\n",
    "        json.dump(docket_data, docket_file, indent=2)\n"
   ]
  },
  {
   "cell_type": "code",
   "execution_count": null,
   "metadata": {},
   "outputs": [],
   "source": [
    "import os\n",
    "\n",
    "transcripts_path = \"./transcripts_up_to_2024\"\n",
    "# for each transcript file, pull its corresponding brief from Oyez\n",
    "for filename in os.listdir(transcripts_path):\n",
    "    file_path = os.path.join(transcripts_path, filename)\n",
    "    if os.path.isfile(file_path):\n",
    "        term = filename[:4]\n",
    "        docket = filename[5:-9]\n",
    "        docket_data = get_case(term, docket)\n",
    "\n",
    "        write_case(term, docket, docket_data)\n",
    "        print(f\"{filename}\")"
   ]
  }
 ],
 "metadata": {
  "kernelspec": {
   "display_name": "gradio_env_1",
   "language": "python",
   "name": "python3"
  },
  "language_info": {
   "codemirror_mode": {
    "name": "ipython",
    "version": 3
   },
   "file_extension": ".py",
   "mimetype": "text/x-python",
   "name": "python",
   "nbconvert_exporter": "python",
   "pygments_lexer": "ipython3",
   "version": "undefined.undefined.undefined"
  }
 },
 "nbformat": 4,
 "nbformat_minor": 2
}
