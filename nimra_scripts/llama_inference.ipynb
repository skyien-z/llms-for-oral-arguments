{
 "cells": [
  {
   "cell_type": "markdown",
   "metadata": {},
   "source": [
    "# Try Llama Inference"
   ]
  },
  {
   "cell_type": "code",
   "execution_count": 1,
   "metadata": {},
   "outputs": [],
   "source": [
    "from transformers import AutoModelForCausalLM, AutoTokenizer\n",
    "import os\n",
    "import pandas as pd"
   ]
  },
  {
   "cell_type": "code",
   "execution_count": 2,
   "metadata": {},
   "outputs": [],
   "source": [
    "# model_name = \"meta-llama/Llama-2-7b-hf\"\n",
    "model_name = 'meta-llama/Llama-3.2-3B-Instruct'\n",
    "hf_token = os.getenv('HUGGINGFACE_TOKEN')\n",
    "hf_token"
   ]
  },
  {
   "cell_type": "code",
   "execution_count": 3,
   "metadata": {},
   "outputs": [
    {
     "data": {
      "application/vnd.jupyter.widget-view+json": {
       "model_id": "05958a17db6d4ff3947bf07827b2b0af",
       "version_major": 2,
       "version_minor": 0
      },
      "text/plain": [
       "Loading checkpoint shards:   0%|          | 0/2 [00:00<?, ?it/s]"
      ]
     },
     "metadata": {},
     "output_type": "display_data"
    },
    {
     "name": "stderr",
     "output_type": "stream",
     "text": [
      "Some parameters are on the meta device because they were offloaded to the disk.\n"
     ]
    }
   ],
   "source": [
    "tokenizer = AutoTokenizer.from_pretrained(model_name, use_auth_token=hf_token)\n",
    "model = AutoModelForCausalLM.from_pretrained(model_name, device_map=\"auto\", use_auth_token=hf_token)"
   ]
  },
  {
   "cell_type": "code",
   "execution_count": 4,
   "metadata": {},
   "outputs": [
    {
     "name": "stderr",
     "output_type": "stream",
     "text": [
      "Setting `pad_token_id` to `eos_token_id`:None for open-end generation.\n",
      "/Users/nnadeem/.virtualenvs/research/lib/python3.12/site-packages/transformers/generation/utils.py:2097: UserWarning: You are calling .generate() with the `input_ids` being on a device type different than your model's device. `input_ids` is on cpu, whereas the model is on mps. You may experience unexpected behaviors or slower generation. Please make sure that you have put `input_ids` to the correct device by calling for example input_ids = input_ids.to('mps') before running `.generate()`.\n",
      "  warnings.warn(\n"
     ]
    },
    {
     "name": "stdout",
     "output_type": "stream",
     "text": [
      "Why does the Supreme Court hold oral arguments? Oral arguments are a crucial part of the Supreme Court's decision-making process. They provide the Court with an opportunity to hear from the parties involved in a case, their lawyers, and other experts who can\n"
     ]
    }
   ],
   "source": [
    "# Test with a sample prompt\n",
    "input_text = \"Why does the Supreme Court hold oral arguments?\"\n",
    "inputs = tokenizer(input_text, return_tensors=\"pt\")\n",
    "outputs = model.generate(**inputs, max_length=50)\n",
    "\n",
    "response = tokenizer.decode(outputs[0], skip_special_tokens=True)\n",
    "print(response)"
   ]
  },
  {
   "cell_type": "code",
   "execution_count": 5,
   "metadata": {},
   "outputs": [],
   "source": [
    "def evaluate_question(question, opening_statement):\n",
    "    prompt = f\"\"\"\n",
    "    Opening Statement: {opening_statement}\n",
    "\n",
    "    Question: {question}\n",
    "\n",
    "    Does the question logically follow from the opening statement? Label it as 'coherent' if it makes sense based on the opening statement alone or 'incoherent' if additional context is needed.\n",
    "\n",
    "    Label: \"\"\"\n",
    "    # inputs = tokenizer(prompt, return_tensors=\"pt\").to(\"cuda\")  # use for cluster\n",
    "    inputs = tokenizer(prompt, return_tensors=\"pt\").to(\"mps\")   # use for mac\n",
    "    outputs = model.generate(**inputs,max_new_tokens=256)\n",
    "    response = tokenizer.decode(outputs[0], skip_special_tokens=True)\n",
    "    label = response.split(\"Label:\")[-1].strip().lower()\n",
    "    return label"
   ]
  },
  {
   "cell_type": "code",
   "execution_count": 6,
   "metadata": {},
   "outputs": [],
   "source": [
    "questions_df = pd.read_csv('2024_all_questions_full_text_merged.csv')\n"
   ]
  },
  {
   "cell_type": "code",
   "execution_count": 7,
   "metadata": {},
   "outputs": [
    {
     "data": {
      "text/html": [
       "<div>\n",
       "<style scoped>\n",
       "    .dataframe tbody tr th:only-of-type {\n",
       "        vertical-align: middle;\n",
       "    }\n",
       "\n",
       "    .dataframe tbody tr th {\n",
       "        vertical-align: top;\n",
       "    }\n",
       "\n",
       "    .dataframe thead th {\n",
       "        text-align: right;\n",
       "    }\n",
       "</style>\n",
       "<table border=\"1\" class=\"dataframe\">\n",
       "  <thead>\n",
       "    <tr style=\"text-align: right;\">\n",
       "      <th></th>\n",
       "      <th>transcript_id</th>\n",
       "      <th>question_addressee</th>\n",
       "      <th>justice</th>\n",
       "      <th>question_text</th>\n",
       "      <th>opening_statement</th>\n",
       "      <th>full_text</th>\n",
       "    </tr>\n",
       "  </thead>\n",
       "  <tbody>\n",
       "    <tr>\n",
       "      <th>354</th>\n",
       "      <td>2024.23-217-t01</td>\n",
       "      <td>petitioner</td>\n",
       "      <td>Clarence Thomas</td>\n",
       "      <td>Other than in the context of actual malice, c...</td>\n",
       "      <td>&lt;speaker&gt;Lisa S. Blatt&lt;/speaker&gt;&lt;text&gt; Mr. Chi...</td>\n",
       "      <td>&lt;speaker&gt;John G. Roberts, Jr.&lt;/speaker&gt;&lt;text&gt; ...</td>\n",
       "    </tr>\n",
       "    <tr>\n",
       "      <th>355</th>\n",
       "      <td>2024.23-217-t01</td>\n",
       "      <td>petitioner</td>\n",
       "      <td>Clarence Thomas</td>\n",
       "      <td>How would you respond -- what do you have to ...</td>\n",
       "      <td>&lt;speaker&gt;Lisa S. Blatt&lt;/speaker&gt;&lt;text&gt; Mr. Chi...</td>\n",
       "      <td>&lt;speaker&gt;John G. Roberts, Jr.&lt;/speaker&gt;&lt;text&gt; ...</td>\n",
       "    </tr>\n",
       "    <tr>\n",
       "      <th>356</th>\n",
       "      <td>2024.23-217-t01</td>\n",
       "      <td>petitioner</td>\n",
       "      <td>John G. Roberts, Jr.</td>\n",
       "      <td>How are we supposed to  -- you make the argum...</td>\n",
       "      <td>&lt;speaker&gt;Lisa S. Blatt&lt;/speaker&gt;&lt;text&gt; Mr. Chi...</td>\n",
       "      <td>&lt;speaker&gt;John G. Roberts, Jr.&lt;/speaker&gt;&lt;text&gt; ...</td>\n",
       "    </tr>\n",
       "    <tr>\n",
       "      <th>357</th>\n",
       "      <td>2024.23-217-t01</td>\n",
       "      <td>petitioner</td>\n",
       "      <td>Brett M. Kavanaugh</td>\n",
       "      <td>Well, how do we apply the particularly import...</td>\n",
       "      <td>&lt;speaker&gt;Lisa S. Blatt&lt;/speaker&gt;&lt;text&gt; Mr. Chi...</td>\n",
       "      <td>&lt;speaker&gt;John G. Roberts, Jr.&lt;/speaker&gt;&lt;text&gt; ...</td>\n",
       "    </tr>\n",
       "    <tr>\n",
       "      <th>358</th>\n",
       "      <td>2024.23-217-t01</td>\n",
       "      <td>petitioner</td>\n",
       "      <td>Brett M. Kavanaugh</td>\n",
       "      <td>Are you saying  -- and, relatedly, are you sa...</td>\n",
       "      <td>&lt;speaker&gt;Lisa S. Blatt&lt;/speaker&gt;&lt;text&gt; Mr. Chi...</td>\n",
       "      <td>&lt;speaker&gt;John G. Roberts, Jr.&lt;/speaker&gt;&lt;text&gt; ...</td>\n",
       "    </tr>\n",
       "  </tbody>\n",
       "</table>\n",
       "</div>"
      ],
      "text/plain": [
       "       transcript_id question_addressee               justice  \\\n",
       "354  2024.23-217-t01         petitioner       Clarence Thomas   \n",
       "355  2024.23-217-t01         petitioner       Clarence Thomas   \n",
       "356  2024.23-217-t01         petitioner  John G. Roberts, Jr.   \n",
       "357  2024.23-217-t01         petitioner    Brett M. Kavanaugh   \n",
       "358  2024.23-217-t01         petitioner    Brett M. Kavanaugh   \n",
       "\n",
       "                                         question_text  \\\n",
       "354   Other than in the context of actual malice, c...   \n",
       "355   How would you respond -- what do you have to ...   \n",
       "356   How are we supposed to  -- you make the argum...   \n",
       "357   Well, how do we apply the particularly import...   \n",
       "358   Are you saying  -- and, relatedly, are you sa...   \n",
       "\n",
       "                                     opening_statement  \\\n",
       "354  <speaker>Lisa S. Blatt</speaker><text> Mr. Chi...   \n",
       "355  <speaker>Lisa S. Blatt</speaker><text> Mr. Chi...   \n",
       "356  <speaker>Lisa S. Blatt</speaker><text> Mr. Chi...   \n",
       "357  <speaker>Lisa S. Blatt</speaker><text> Mr. Chi...   \n",
       "358  <speaker>Lisa S. Blatt</speaker><text> Mr. Chi...   \n",
       "\n",
       "                                             full_text  \n",
       "354  <speaker>John G. Roberts, Jr.</speaker><text> ...  \n",
       "355  <speaker>John G. Roberts, Jr.</speaker><text> ...  \n",
       "356  <speaker>John G. Roberts, Jr.</speaker><text> ...  \n",
       "357  <speaker>John G. Roberts, Jr.</speaker><text> ...  \n",
       "358  <speaker>John G. Roberts, Jr.</speaker><text> ...  "
      ]
     },
     "execution_count": 7,
     "metadata": {},
     "output_type": "execute_result"
    }
   ],
   "source": [
    "questions_df = questions_df[questions_df['transcript_id']  == '2024.23-217-t01']\n",
    "questions_df = questions_df[questions_df['question_addressee'] == 'petitioner']\n",
    "questions_df.head()"
   ]
  },
  {
   "cell_type": "code",
   "execution_count": 8,
   "metadata": {},
   "outputs": [
    {
     "data": {
      "text/html": [
       "<div>\n",
       "<style scoped>\n",
       "    .dataframe tbody tr th:only-of-type {\n",
       "        vertical-align: middle;\n",
       "    }\n",
       "\n",
       "    .dataframe tbody tr th {\n",
       "        vertical-align: top;\n",
       "    }\n",
       "\n",
       "    .dataframe thead th {\n",
       "        text-align: right;\n",
       "    }\n",
       "</style>\n",
       "<table border=\"1\" class=\"dataframe\">\n",
       "  <thead>\n",
       "    <tr style=\"text-align: right;\">\n",
       "      <th></th>\n",
       "      <th>transcript_id</th>\n",
       "      <th>question_addressee</th>\n",
       "      <th>justice</th>\n",
       "      <th>question_text</th>\n",
       "      <th>opening_statement</th>\n",
       "      <th>full_text</th>\n",
       "    </tr>\n",
       "  </thead>\n",
       "  <tbody>\n",
       "    <tr>\n",
       "      <th>354</th>\n",
       "      <td>2024.23-217-t01</td>\n",
       "      <td>petitioner</td>\n",
       "      <td>Clarence Thomas</td>\n",
       "      <td>Other than in the context of actual malice, c...</td>\n",
       "      <td>&lt;speaker&gt;Lisa S. Blatt&lt;/speaker&gt;&lt;text&gt; Mr. Chi...</td>\n",
       "      <td>&lt;speaker&gt;John G. Roberts, Jr.&lt;/speaker&gt;&lt;text&gt; ...</td>\n",
       "    </tr>\n",
       "    <tr>\n",
       "      <th>355</th>\n",
       "      <td>2024.23-217-t01</td>\n",
       "      <td>petitioner</td>\n",
       "      <td>Clarence Thomas</td>\n",
       "      <td>How would you respond -- what do you have to ...</td>\n",
       "      <td>&lt;speaker&gt;Lisa S. Blatt&lt;/speaker&gt;&lt;text&gt; Mr. Chi...</td>\n",
       "      <td>&lt;speaker&gt;John G. Roberts, Jr.&lt;/speaker&gt;&lt;text&gt; ...</td>\n",
       "    </tr>\n",
       "    <tr>\n",
       "      <th>356</th>\n",
       "      <td>2024.23-217-t01</td>\n",
       "      <td>petitioner</td>\n",
       "      <td>John G. Roberts, Jr.</td>\n",
       "      <td>How are we supposed to  -- you make the argum...</td>\n",
       "      <td>&lt;speaker&gt;Lisa S. Blatt&lt;/speaker&gt;&lt;text&gt; Mr. Chi...</td>\n",
       "      <td>&lt;speaker&gt;John G. Roberts, Jr.&lt;/speaker&gt;&lt;text&gt; ...</td>\n",
       "    </tr>\n",
       "  </tbody>\n",
       "</table>\n",
       "</div>"
      ],
      "text/plain": [
       "       transcript_id question_addressee               justice  \\\n",
       "354  2024.23-217-t01         petitioner       Clarence Thomas   \n",
       "355  2024.23-217-t01         petitioner       Clarence Thomas   \n",
       "356  2024.23-217-t01         petitioner  John G. Roberts, Jr.   \n",
       "\n",
       "                                         question_text  \\\n",
       "354   Other than in the context of actual malice, c...   \n",
       "355   How would you respond -- what do you have to ...   \n",
       "356   How are we supposed to  -- you make the argum...   \n",
       "\n",
       "                                     opening_statement  \\\n",
       "354  <speaker>Lisa S. Blatt</speaker><text> Mr. Chi...   \n",
       "355  <speaker>Lisa S. Blatt</speaker><text> Mr. Chi...   \n",
       "356  <speaker>Lisa S. Blatt</speaker><text> Mr. Chi...   \n",
       "\n",
       "                                             full_text  \n",
       "354  <speaker>John G. Roberts, Jr.</speaker><text> ...  \n",
       "355  <speaker>John G. Roberts, Jr.</speaker><text> ...  \n",
       "356  <speaker>John G. Roberts, Jr.</speaker><text> ...  "
      ]
     },
     "execution_count": 8,
     "metadata": {},
     "output_type": "execute_result"
    }
   ],
   "source": [
    "q_sample = questions_df.head(3).copy()\n",
    "q_sample"
   ]
  },
  {
   "cell_type": "code",
   "execution_count": null,
   "metadata": {},
   "outputs": [],
   "source": [
    "q_sample['label'] = q_sample.apply(\n",
    "    lambda row: evaluate_question(row['question_text'], row['opening_statement']), axis=1\n",
    ")\n",
    "q_sample"
   ]
  }
 ],
 "metadata": {
  "kernelspec": {
   "display_name": "research",
   "language": "python",
   "name": "python3"
  },
  "language_info": {
   "codemirror_mode": {
    "name": "ipython",
    "version": 3
   },
   "file_extension": ".py",
   "mimetype": "text/x-python",
   "name": "python",
   "nbconvert_exporter": "python",
   "pygments_lexer": "ipython3",
   "version": "3.12.3"
  }
 },
 "nbformat": 4,
 "nbformat_minor": 2
}
