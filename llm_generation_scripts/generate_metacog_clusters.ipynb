{
 "cells": [
  {
   "cell_type": "markdown",
   "id": "23693d69-b821-48cd-8eaa-e5239499d70c",
   "metadata": {},
   "source": [
    "## Cluster metacog labels using the Della-Inference API"
   ]
  },
  {
   "cell_type": "code",
   "execution_count": null,
   "id": "70ed7c50-662b-4587-aa88-4c02be83c2b2",
   "metadata": {},
   "outputs": [],
   "source": [
    "import requests\n",
    "import json\n",
    "import os\n",
    "import pandas as pd"
   ]
  },
  {
   "cell_type": "code",
   "execution_count": null,
   "id": "dce9f408-b45f-4931-ad60-6742bf290a63",
   "metadata": {},
   "outputs": [],
   "source": [
    "url = \"http://localhost:12257/v1/chat/completions\"\n",
    "\n",
    "headers={\n",
    "    \"Content-Type\": \"application/json\",\n",
    "    \"Authorization\": \"token-abc123\"\n",
    "}\n",
    "\n",
    "model_name = 'meta-llama/Meta-Llama-3.1-70B-Instruct'"
   ]
  },
  {
   "cell_type": "code",
   "execution_count": null,
   "id": "2e7a20db-ba35-4254-b174-e376059bd1e9",
   "metadata": {},
   "outputs": [],
   "source": [
    "def get_metacog_cluster_prompt(properties):\n",
    "    system_prompt = \"\"\"I have a list of properties describing questions asked during Supreme Court oral arguments. Your task is to group similar properties into broader categories and provide a descriptive name for each category. The category name should be lower case letters only. If the category name has multiple words, join them with an underscore. Basically, you should be able to use the category name as a dictionary key in python.\n",
    "    The output should be in JSON format for easy parsing. Each category should contain its name, a brief description and a list of the grouped properties in that category.\n",
    "    \n",
    "      ### Instructions:\n",
    "        1. Group similar properties together based on shared themes or purposes.\n",
    "        2. Name each category with a descriptive label.\n",
    "        3. Return the result in JSON format structured as follows:\n",
    "\n",
    "        {\n",
    "            \"category_name\": \"<Your Category Name>\",\n",
    "            \"description\": \"<A brief description of the category>\",\n",
    "            \"properties_in_category\": [\n",
    "                \"property_1\",\n",
    "                \"property_2\",\n",
    "                ...\n",
    "            ],\n",
    "            \"category_name\": \"<Your Category Name>\",\n",
    "            \"description\": \"<A brief description of the category>\",\n",
    "            \"properties_in_category\": [\n",
    "                \"property_1\",\n",
    "                \"property_2\",\n",
    "                ...\n",
    "            ],\n",
    "        }\n",
    "    \"\"\"\n",
    "    \n",
    "    user_prompt = f\"\"\"### Your Task:\n",
    "        Properties: \n",
    "        {properties}\n",
    "\n",
    "        ### Output:\n",
    "    \"\"\"\n",
    "\n",
    "    messages = [\n",
    "            {\n",
    "                \"role\": \"system\",\n",
    "                \"content\": system_prompt,\n",
    "            },\n",
    "            {\"role\": \"user\", \"content\": user_prompt}\n",
    "        ]\n",
    "    return messages"
   ]
  },
  {
   "cell_type": "code",
   "execution_count": null,
   "id": "28dba16f-6115-4450-8593-0c752d017240",
   "metadata": {},
   "outputs": [],
   "source": [
    "def get_model_response(messages):\n",
    "\n",
    "    payload = {\n",
    "        \"model\": model_name,\n",
    "        \"messages\": messages\n",
    "    }\n",
    "\n",
    "    response = requests.post(url, data=json.dumps(payload), headers=headers)\n",
    "    return response\n",
    "\n",
    "def parse_response(response):\n",
    "    decoded = response.content.decode('utf-8')\n",
    "    response_data = json.loads(decoded)\n",
    "    content = response_data['choices'][0]['message']['content']\n",
    "\n",
    "    # try:\n",
    "    #     tags = json.dumps(content)\n",
    "    # except Exception as e:\n",
    "    #     print(f\"Unable to jsonify response, saving string itself. ERROR: {e}\")\n",
    "    #     tags = str(content)\n",
    "    # return tags\n",
    "    return content"
   ]
  },
  {
   "cell_type": "markdown",
   "id": "693a45cc",
   "metadata": {},
   "source": [
    "## Call model"
   ]
  },
  {
   "cell_type": "code",
   "execution_count": null,
   "id": "c6bde122",
   "metadata": {},
   "outputs": [],
   "source": [
    "def generate_clusters(property_list):\n",
    "    messages = get_metacog_cluster_prompt(property_list)\n",
    "    response = get_model_response(messages)\n",
    "    tags = parse_response(response)\n",
    "    return tags"
   ]
  },
  {
   "cell_type": "code",
   "execution_count": null,
   "id": "8af2c801",
   "metadata": {},
   "outputs": [],
   "source": [
    "# Process each JSON file in the input directory\n",
    "def process_json_files(input_directory, output_directory):\n",
    "    for file_name in os.listdir(input_directory):\n",
    "        if file_name.endswith(\".json\"):\n",
    "            input_file_path = os.path.join(input_directory, file_name)\n",
    "            \n",
    "            # Read the JSON file\n",
    "            with open(input_file_path, 'r') as file:\n",
    "                properties = json.load(file)\n",
    "            \n",
    "            # Get the model response\n",
    "            # model_response = generate_clusters(properties)\n",
    "            model_response = ['']\n",
    "            \n",
    "            # Save the response to a new JSON file\n",
    "            output_file_path = os.path.join(output_directory, f\"cluster_raw_{file_name}\")\n",
    "            with open(output_file_path, 'w') as output_file:\n",
    "                json.dump(model_response, output_file, indent=4)\n",
    "            \n",
    "            print(f\"Processed and saved response for {file_name}\")\n",
    "\n"
   ]
  },
  {
   "cell_type": "code",
   "execution_count": null,
   "id": "2b2a4aa9",
   "metadata": {},
   "outputs": [],
   "source": [
    "input_directory = f'../analysis/metacog/label_jsons/'\n",
    "output_directory = \"../analysis/metacog/clustering_responses/\"\n",
    "\n",
    "# Run the processing\n",
    "process_json_files(input_directory, output_directory)\n"
   ]
  },
  {
   "cell_type": "code",
   "execution_count": null,
   "id": "3a1467cb",
   "metadata": {},
   "outputs": [],
   "source": []
  }
 ],
 "metadata": {
  "kernelspec": {
   "display_name": "research",
   "language": "python",
   "name": "python3"
  },
  "language_info": {
   "codemirror_mode": {
    "name": "ipython",
    "version": 3
   },
   "file_extension": ".py",
   "mimetype": "text/x-python",
   "name": "python",
   "nbconvert_exporter": "python",
   "pygments_lexer": "ipython3",
   "version": "3.12.3"
  }
 },
 "nbformat": 4,
 "nbformat_minor": 5
}
