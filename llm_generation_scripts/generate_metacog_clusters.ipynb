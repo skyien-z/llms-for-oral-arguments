{
 "cells": [
  {
   "cell_type": "markdown",
   "id": "23693d69-b821-48cd-8eaa-e5239499d70c",
   "metadata": {},
   "source": [
    "## Cluster metacog labels using the Della-Inference API"
   ]
  },
  {
   "cell_type": "code",
   "execution_count": 3,
   "id": "70ed7c50-662b-4587-aa88-4c02be83c2b2",
   "metadata": {},
   "outputs": [],
   "source": [
    "import requests\n",
    "import json\n",
    "import os\n",
    "import pandas as pd"
   ]
  },
  {
   "cell_type": "code",
   "execution_count": 4,
   "id": "dce9f408-b45f-4931-ad60-6742bf290a63",
   "metadata": {},
   "outputs": [],
   "source": [
    "# port = 12257 # CHANGE THIS TO THE PORT WHERE DELLA API SSH PORT FORWARDING IS SET UP\n",
    "port = 59967\n",
    "url = f\"http://localhost:{port}/v1/chat/completions\"\n",
    "\n",
    "headers={\n",
    "    \"Content-Type\": \"application/json\",\n",
    "    \"Authorization\": \"token-abc123\"\n",
    "}\n",
    "\n",
    "model_name = 'meta-llama/Meta-Llama-3.1-70B-Instruct'"
   ]
  },
  {
   "cell_type": "code",
   "execution_count": 5,
   "id": "2e7a20db-ba35-4254-b174-e376059bd1e9",
   "metadata": {},
   "outputs": [],
   "source": [
    "def get_metacog_cluster_prompt(properties):\n",
    "    system_prompt = \"\"\"I have a list of properties describing questions asked during Supreme Court oral arguments. Your task is to group similar properties into broader categories and provide a descriptive name for each category. The category name should be lower case letters only. If the category name has multiple words, join them with an underscore. Basically, you should be able to use the category name as a dictionary key in python.\n",
    "    The output should be in JSON format for easy parsing. Each category should contain its name, a brief description and a list of the grouped properties in that category.\n",
    "    \n",
    "      ### Instructions:\n",
    "        1. Group similar properties together based on shared themes or purposes.\n",
    "        2. Name each category with a descriptive label.\n",
    "        3. Return the result in JSON format structured as follows:\n",
    "\n",
    "        {\n",
    "            \"category_name\": \"<Your Category Name>\",\n",
    "            \"description\": \"<A brief description of the category>\",\n",
    "            \"properties_in_category\": [\n",
    "                \"property_1\",\n",
    "                \"property_2\",\n",
    "                ...\n",
    "            ],\n",
    "            \"category_name\": \"<Your Category Name>\",\n",
    "            \"description\": \"<A brief description of the category>\",\n",
    "            \"properties_in_category\": [\n",
    "                \"property_1\",\n",
    "                \"property_2\",\n",
    "                ...\n",
    "            ],\n",
    "        }\n",
    "    \"\"\"\n",
    "    \n",
    "    user_prompt = f\"\"\"### Your Task:\n",
    "        Properties: \n",
    "        {properties}\n",
    "\n",
    "        ### Output:\n",
    "    \"\"\"\n",
    "\n",
    "    messages = [\n",
    "            {\n",
    "                \"role\": \"system\",\n",
    "                \"content\": system_prompt,\n",
    "            },\n",
    "            {\"role\": \"user\", \"content\": user_prompt}\n",
    "        ]\n",
    "    return messages"
   ]
  },
  {
   "cell_type": "code",
   "execution_count": 6,
   "id": "28dba16f-6115-4450-8593-0c752d017240",
   "metadata": {},
   "outputs": [],
   "source": [
    "def get_model_response(messages):\n",
    "\n",
    "    payload = {\n",
    "        \"model\": model_name,\n",
    "        \"messages\": messages\n",
    "    }\n",
    "\n",
    "    response = requests.post(url, data=json.dumps(payload), headers=headers)\n",
    "    return response\n",
    "\n",
    "def parse_response(response):\n",
    "    decoded = response.content.decode('utf-8')\n",
    "    response_data = json.loads(decoded)\n",
    "    content = response_data['choices'][0]['message']['content']\n",
    "\n",
    "    # try:\n",
    "    #     tags = json.dumps(content)\n",
    "    # except Exception as e:\n",
    "    #     print(f\"Unable to jsonify response, saving string itself. ERROR: {e}\")\n",
    "    #     tags = str(content)\n",
    "    # return tags\n",
    "    return content"
   ]
  },
  {
   "cell_type": "markdown",
   "id": "693a45cc",
   "metadata": {},
   "source": [
    "## Call model"
   ]
  },
  {
   "cell_type": "code",
   "execution_count": 7,
   "id": "c6bde122",
   "metadata": {},
   "outputs": [],
   "source": [
    "def generate_clusters(property_list):\n",
    "    messages = get_metacog_cluster_prompt(property_list)\n",
    "    response = get_model_response(messages)\n",
    "    tags = parse_response(response)\n",
    "    return tags"
   ]
  },
  {
   "cell_type": "code",
   "execution_count": 21,
   "id": "8af2c801",
   "metadata": {},
   "outputs": [],
   "source": [
    "def process_json_files(input_dir, out_dir):\n",
    "    for file_name in os.listdir(input_dir):\n",
    "        input_fp = os.path.join(input_dir, file_name)\n",
    "\n",
    "        with open(input_fp, 'r') as f:\n",
    "            properties = json.load(f)\n",
    "        print(f\"Read and processing response for {file_name}\")\n",
    "\n",
    "\n",
    "        # print(type(properties))\n",
    "        # model_response = ['']\n",
    "        model_response = generate_clusters(properties)\n",
    "\n",
    "\n",
    "        out_fp = os.path.join(out_dir, f\"cluster_raw_{file_name}\")\n",
    "        with open(out_fp, 'w') as f:\n",
    "            json.dump(model_response, f, indent=4)\n",
    "\n",
    "        print(f\"Processed and saved response to {out_fp}\")\n",
    "\n"
   ]
  },
  {
   "cell_type": "code",
   "execution_count": 22,
   "id": "2b2a4aa9",
   "metadata": {},
   "outputs": [
    {
     "name": "stdout",
     "output_type": "stream",
     "text": [
      "Read and processing response for chunk_13.json\n",
      "Processed and saved response to ../analysis/metacog/clustering_responses/cluster_raw_chunk_13.json\n",
      "Read and processing response for chunk_11.json\n",
      "Processed and saved response to ../analysis/metacog/clustering_responses/cluster_raw_chunk_11.json\n",
      "Read and processing response for chunk_26.json\n",
      "Processed and saved response to ../analysis/metacog/clustering_responses/cluster_raw_chunk_26.json\n",
      "Read and processing response for chunk_29.json\n",
      "Processed and saved response to ../analysis/metacog/clustering_responses/cluster_raw_chunk_29.json\n",
      "Read and processing response for chunk_12.json\n",
      "Processed and saved response to ../analysis/metacog/clustering_responses/cluster_raw_chunk_12.json\n",
      "Read and processing response for chunk_2.json\n",
      "Processed and saved response to ../analysis/metacog/clustering_responses/cluster_raw_chunk_2.json\n",
      "Read and processing response for chunk_20.json\n",
      "Processed and saved response to ../analysis/metacog/clustering_responses/cluster_raw_chunk_20.json\n",
      "Read and processing response for chunk_28.json\n",
      "Processed and saved response to ../analysis/metacog/clustering_responses/cluster_raw_chunk_28.json\n",
      "Read and processing response for chunk_18.json\n",
      "Processed and saved response to ../analysis/metacog/clustering_responses/cluster_raw_chunk_18.json\n",
      "Read and processing response for chunk_16.json\n",
      "Processed and saved response to ../analysis/metacog/clustering_responses/cluster_raw_chunk_16.json\n",
      "Read and processing response for chunk_23.json\n",
      "Processed and saved response to ../analysis/metacog/clustering_responses/cluster_raw_chunk_23.json\n",
      "Read and processing response for chunk_8.json\n",
      "Processed and saved response to ../analysis/metacog/clustering_responses/cluster_raw_chunk_8.json\n",
      "Read and processing response for chunk_27.json\n",
      "Processed and saved response to ../analysis/metacog/clustering_responses/cluster_raw_chunk_27.json\n",
      "Read and processing response for chunk_3.json\n",
      "Processed and saved response to ../analysis/metacog/clustering_responses/cluster_raw_chunk_3.json\n",
      "Read and processing response for chunk_21.json\n",
      "Processed and saved response to ../analysis/metacog/clustering_responses/cluster_raw_chunk_21.json\n",
      "Read and processing response for chunk_10.json\n",
      "Processed and saved response to ../analysis/metacog/clustering_responses/cluster_raw_chunk_10.json\n",
      "Read and processing response for chunk_7.json\n",
      "Processed and saved response to ../analysis/metacog/clustering_responses/cluster_raw_chunk_7.json\n",
      "Read and processing response for chunk_14.json\n",
      "Processed and saved response to ../analysis/metacog/clustering_responses/cluster_raw_chunk_14.json\n",
      "Read and processing response for chunk_6.json\n",
      "Processed and saved response to ../analysis/metacog/clustering_responses/cluster_raw_chunk_6.json\n",
      "Read and processing response for chunk_15.json\n",
      "Processed and saved response to ../analysis/metacog/clustering_responses/cluster_raw_chunk_15.json\n",
      "Read and processing response for chunk_9.json\n",
      "Processed and saved response to ../analysis/metacog/clustering_responses/cluster_raw_chunk_9.json\n",
      "Read and processing response for chunk_24.json\n",
      "Processed and saved response to ../analysis/metacog/clustering_responses/cluster_raw_chunk_24.json\n",
      "Read and processing response for chunk_17.json\n",
      "Processed and saved response to ../analysis/metacog/clustering_responses/cluster_raw_chunk_17.json\n",
      "Read and processing response for chunk_22.json\n",
      "Processed and saved response to ../analysis/metacog/clustering_responses/cluster_raw_chunk_22.json\n",
      "Read and processing response for chunk_25.json\n",
      "Processed and saved response to ../analysis/metacog/clustering_responses/cluster_raw_chunk_25.json\n",
      "Read and processing response for chunk_4.json\n",
      "Processed and saved response to ../analysis/metacog/clustering_responses/cluster_raw_chunk_4.json\n",
      "Read and processing response for chunk_1.json\n",
      "Processed and saved response to ../analysis/metacog/clustering_responses/cluster_raw_chunk_1.json\n",
      "Read and processing response for chunk_5.json\n",
      "Processed and saved response to ../analysis/metacog/clustering_responses/cluster_raw_chunk_5.json\n",
      "Read and processing response for chunk_30.json\n",
      "Processed and saved response to ../analysis/metacog/clustering_responses/cluster_raw_chunk_30.json\n",
      "Read and processing response for chunk_19.json\n",
      "Processed and saved response to ../analysis/metacog/clustering_responses/cluster_raw_chunk_19.json\n"
     ]
    }
   ],
   "source": [
    "input_directory = f'../analysis/metacog/compiled_chunks/'\n",
    "output_directory = \"../analysis/metacog/clustering_responses/\"\n",
    "\n",
    "# Run the processing\n",
    "process_json_files(input_directory, output_directory)\n"
   ]
  },
  {
   "cell_type": "markdown",
   "id": "4216867d-3a44-4d15-8e93-0480b8186519",
   "metadata": {},
   "source": [
    "## Cluster chunk level clustered labels"
   ]
  },
  {
   "cell_type": "code",
   "execution_count": 9,
   "id": "af046e2e-8e7b-4b0e-a3c7-57fed96f7e3a",
   "metadata": {},
   "outputs": [],
   "source": [
    "input_fp = '../analysis/metacog/metacog_clusters_compiled.json'\n",
    "with open(input_fp, 'r') as f:\n",
    "    properties = json.load(f)"
   ]
  },
  {
   "cell_type": "code",
   "execution_count": 10,
   "id": "d1f6532e-d2bc-430f-b882-ae9d863711a7",
   "metadata": {},
   "outputs": [],
   "source": [
    "model_response = generate_clusters(properties)"
   ]
  },
  {
   "cell_type": "code",
   "execution_count": 12,
   "id": "43cd37ba-3bd4-4a3d-bfb1-2af61eb39982",
   "metadata": {},
   "outputs": [],
   "source": [
    "out_fp = '../analysis/metacog/metacog_clusters_all_data_raw.json'"
   ]
  },
  {
   "cell_type": "code",
   "execution_count": 13,
   "id": "c8143191-a6a8-4d0c-b3a7-e73ca520b9ac",
   "metadata": {},
   "outputs": [],
   "source": [
    "with open(out_fp, 'w') as f:\n",
    "    json.dump(model_response, f, indent=4)"
   ]
  }
 ],
 "metadata": {
  "kernelspec": {
   "display_name": "Python 3 (ipykernel)",
   "language": "python",
   "name": "python3"
  },
  "language_info": {
   "codemirror_mode": {
    "name": "ipython",
    "version": 3
   },
   "file_extension": ".py",
   "mimetype": "text/x-python",
   "name": "python",
   "nbconvert_exporter": "python",
   "pygments_lexer": "ipython3",
   "version": "3.9.7"
  }
 },
 "nbformat": 4,
 "nbformat_minor": 5
}
