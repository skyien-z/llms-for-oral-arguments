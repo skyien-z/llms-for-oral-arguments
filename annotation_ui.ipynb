{
 "cells": [
  {
   "cell_type": "markdown",
   "metadata": {},
   "source": [
    "Let's make this interface really simple for now and extensible for later. The main purpose of the interface is to make it easy to manually label our data. To this end, I will read in our JSON file continuously, record user information, and save it. There will be minimal error handling or edge case testing. We assume the user will select the proper results each time. User progress will not be saved. If overrides are needed, please override throught the interface code itself. This is be very jank, but should be fast, simple, and work for our very specific use case.\n",
    "\n",
    "Make continuous annotation_ui file stream. We will assume that the user is keeping track of which annotations they've already made on files."
   ]
  },
  {
   "cell_type": "code",
   "execution_count": 1,
   "metadata": {},
   "outputs": [
    {
     "name": "stderr",
     "output_type": "stream",
     "text": [
      "/Users/wfy/opt/anaconda3/envs/oral-arg-env/lib/python3.12/site-packages/tqdm/auto.py:21: TqdmWarning: IProgress not found. Please update jupyter and ipywidgets. See https://ipywidgets.readthedocs.io/en/stable/user_install.html\n",
      "  from .autonotebook import tqdm as notebook_tqdm\n"
     ]
    }
   ],
   "source": [
    "import gradio as gr\n",
    "import re\n",
    "import json\n",
    "import os"
   ]
  },
  {
   "cell_type": "code",
   "execution_count": 2,
   "metadata": {},
   "outputs": [],
   "source": [
    "def get_speaker(opening_statement):\n",
    "    return re.findall(r\"<speaker>(.*?)</speaker>\", opening_statement)[0]\n",
    "\n",
    "def get_opening_text(opening_statement):\n",
    "    return re.findall(r\"<text>(.*?)</text>\", opening_statement)[0]\n",
    "\n",
    "def get_text(case_metadata):\n",
    "    return case_metadata.replace(\"<p>\", \"\").replace(\"</p>\", \"\").replace(\"\\n\", \" \")\n",
    "\n",
    "def format_opening_statement(opening_statement):\n",
    "    return f\"**{get_speaker(opening_statement)}** {get_opening_text(opening_statement)}\"\n",
    "\n",
    "def get_year(transcript_id):\n",
    "    return transcript_id[:4]\n",
    "\n",
    "def get_docket(transcript_id):\n",
    "    return transcript_id[5:11]"
   ]
  },
  {
   "cell_type": "code",
   "execution_count": 3,
   "metadata": {},
   "outputs": [
    {
     "name": "stdout",
     "output_type": "stream",
     "text": [
      "* Running on local URL:  http://127.0.0.1:7860\n",
      "\n",
      "To create a public link, set `share=True` in `launch()`.\n"
     ]
    },
    {
     "data": {
      "text/html": [
       "<div><iframe src=\"http://127.0.0.1:7860/\" width=\"100%\" height=\"500\" allow=\"autoplay; camera; microphone; clipboard-read; clipboard-write;\" frameborder=\"0\" allowfullscreen></iframe></div>"
      ],
      "text/plain": [
       "<IPython.core.display.HTML object>"
      ]
     },
     "metadata": {},
     "output_type": "display_data"
    },
    {
     "data": {
      "text/plain": []
     },
     "execution_count": 3,
     "metadata": {},
     "output_type": "execute_result"
    }
   ],
   "source": [
    "BRIEF_TRANSCRIPTS_DIR = \"2023-2024_case_briefs/\"\n",
    "with open('datasets/2024_questions_for_eval.json') as f:\n",
    "    all_data_to_annotate = json.load(f)\n",
    "\n",
    "def get_brief_json(transcript_id):\n",
    "    brief_name = transcript_id[:11] + \".json\"\n",
    "    with open(BRIEF_TRANSCRIPTS_DIR + brief_name) as json_file:\n",
    "        brief_json = json.load(json_file)\n",
    "    return brief_json\n",
    "\n",
    "def generate_markdown(transcript_id, petitioner_or_respondent, justice_name):\n",
    "    selected_transcript = [x for x in all_data_to_annotate if x[\"transcript_id\"] == transcript_id][0]\n",
    "    advocate_side = selected_transcript[petitioner_or_respondent.lower()]\n",
    "    true_questions_to_advocate = advocate_side[(\"alito\" if justice_name == \"Samuel Alito\" else \"sotomayor\")][\"true_questions\"]\n",
    "    \n",
    "    opening_statement = advocate_side[\"opening_statement\"]\n",
    "    coherent_questions = true_questions_to_advocate[0][\"coherent\"]\n",
    "    brief_json = get_brief_json(transcript_id)\n",
    "\n",
    "    return f\"\"\"\n",
    "        # {brief_json[\"name\"]} (Docket {get_docket(transcript_id)}, {get_year(transcript_id)})\n",
    "        ### Facts of the Case\n",
    "        {get_text(brief_json[\"facts_of_the_case\"])}\n",
    "        ### Legal Question\n",
    "        {get_text(brief_json[\"question\"])}\n",
    "        ## {petitioner_or_respondent} {get_speaker(opening_statement)}'s Opening Statement\n",
    "        {get_opening_text(opening_statement)}\n",
    "        ## {justice_name}'s Questions (from the Oral Argument Transcripts)\n",
    "        {\"\\n\".join([f\"* {get_text(x)}'\" for x in coherent_questions])}\n",
    "        \"\"\"\n",
    "\n",
    "with gr.Blocks(theme=gr.themes.Ocean()) as annotation_ui:\n",
    "    with gr.Column() as config_setup_row:\n",
    "        # initial config set-up\n",
    "        transcript_select_dropdown = gr.Dropdown((x[\"transcript_id\"] for x in all_data_to_annotate), \n",
    "                                                label=\"Select Transcript to Annotate\", interactive=True)\n",
    "        petitioner_or_respondent_select = gr.Radio([\"Petitioner\", \"Respondent\"], label=\"Select Side\", interactive=True)\n",
    "        justice_select = gr.Radio([\"Sonia Sotomayor\", \"Samuel Alito\"], label=\"Select Justice\", interactive=True, visible=False)\n",
    "        question_select_button = gr.Button(value=\"Annotate!\")\n",
    "\n",
    "    with gr.Column() as listing:\n",
    "        transcript_info = gr.Markdown()\n",
    "    \n",
    "        input_text = gr.Textbox(label=\"input\")\n",
    "\n",
    "        @gr.render(inputs=input_text)\n",
    "        def show_split(text):\n",
    "            if len(text) == 0:\n",
    "                gr.Markdown(\"## No Input Provided\")\n",
    "            else:\n",
    "                for letter in text:\n",
    "                    with gr.Tab(\"Lion\"):\n",
    "                        gr.Image(\"lion.jpg\")\n",
    "                        gr.Button(\"New Lion\")\n",
    "        \n",
    "    # config set-up interactive logic\n",
    "    petitioner_or_respondent_select.select(fn=lambda: gr.Radio(visible=True), inputs=None, outputs=justice_select)\n",
    "    justice_select.select(fn=lambda: gr.Button(visible=True), inputs=None, outputs=question_select_button)\n",
    "    question_select_button.click(fn=lambda: gr.Row(visible=False), inputs=None, outputs=config_setup_row).then(\n",
    "        generate_markdown, [transcript_select_dropdown, petitioner_or_respondent_select, justice_select], transcript_info\n",
    "    )\n",
    "annotation_ui.launch()\n"
   ]
  },
  {
   "cell_type": "markdown",
   "metadata": {},
   "source": []
  },
  {
   "cell_type": "code",
   "execution_count": 9,
   "metadata": {},
   "outputs": [
    {
     "name": "stdout",
     "output_type": "stream",
     "text": [
      "Closing server running on port: 7861\n"
     ]
    }
   ],
   "source": [
    "annotation_ui.close()"
   ]
  },
  {
   "cell_type": "code",
   "execution_count": null,
   "metadata": {},
   "outputs": [],
   "source": []
  }
 ],
 "metadata": {
  "kernelspec": {
   "display_name": "Python 3",
   "language": "python",
   "name": "python3"
  },
  "language_info": {
   "codemirror_mode": {
    "name": "ipython",
    "version": 3
   },
   "file_extension": ".py",
   "mimetype": "text/x-python",
   "name": "python",
   "nbconvert_exporter": "python",
   "pygments_lexer": "ipython3",
   "version": "3.12.7"
  }
 },
 "nbformat": 4,
 "nbformat_minor": 2
}
