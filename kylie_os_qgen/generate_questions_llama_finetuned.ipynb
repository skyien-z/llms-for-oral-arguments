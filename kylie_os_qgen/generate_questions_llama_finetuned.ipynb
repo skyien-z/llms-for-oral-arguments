{
 "cells": [
  {
   "cell_type": "markdown",
   "id": "23693d69-b821-48cd-8eaa-e5239499d70c",
   "metadata": {},
   "source": [
    "## Create Generate Questions jsonl for finetuned model [ROUGH RN]"
   ]
  },
  {
   "cell_type": "markdown",
   "id": "2b984023",
   "metadata": {},
   "source": [
    "** Rough Notebook rn, needs cleanup **"
   ]
  },
  {
   "cell_type": "code",
   "execution_count": 1,
   "id": "70ed7c50-662b-4587-aa88-4c02be83c2b2",
   "metadata": {},
   "outputs": [
    {
     "name": "stderr",
     "output_type": "stream",
     "text": [
      "/home/kz9921/.conda/envs/llama_finetuning_env/lib/python3.11/site-packages/tqdm/auto.py:21: TqdmWarning: IProgress not found. Please update jupyter and ipywidgets. See https://ipywidgets.readthedocs.io/en/stable/user_install.html\n",
      "  from .autonotebook import tqdm as notebook_tqdm\n"
     ]
    }
   ],
   "source": [
    "import requests\n",
    "import json\n",
    "import transformers\n",
    "import torch\n",
    "import re\n",
    "import pandas as pd"
   ]
  },
  {
   "cell_type": "code",
   "execution_count": 2,
   "id": "dce9f408-b45f-4931-ad60-6742bf290a63",
   "metadata": {},
   "outputs": [],
   "source": [
    "url = \"http://localhost:12257/v1/chat/completions\"\n",
    "\n",
    "headers={\n",
    "    \"Content-Type\": \"application/json\",\n",
    "    \"Authorization\": \"token-abc123\"\n",
    "}\n",
    "\n",
    "model_name = 'meta-llama/Meta-Llama-3.1-70B-Instruct'"
   ]
  },
  {
   "cell_type": "code",
   "execution_count": null,
   "id": "ed38349c",
   "metadata": {},
   "outputs": [
    {
     "name": "stderr",
     "output_type": "stream",
     "text": [
      "Unused kwargs: ['_load_in_4bit', '_load_in_8bit', 'quant_method']. These kwargs are not used in <class 'transformers.utils.quantization_config.BitsAndBytesConfig'>.\n",
      "Unused kwargs: ['_load_in_4bit', '_load_in_8bit', 'quant_method']. These kwargs are not used in <class 'transformers.utils.quantization_config.BitsAndBytesConfig'>.\n"
     ]
    },
    {
     "ename": "ValueError",
     "evalue": "Could not load model /scratch/gpfs/kz9921/transformer_cache/Llama-3.3-70B-Instruct-bnb-4bit with any of the following classes: (<class 'transformers.models.auto.modeling_auto.AutoModelForCausalLM'>, <class 'transformers.models.llama.modeling_llama.LlamaForCausalLM'>). See the original errors:\n\nwhile loading with AutoModelForCausalLM, an error is thrown:\nTraceback (most recent call last):\n  File \"/home/kz9921/.conda/envs/llama_finetuning_env/lib/python3.11/site-packages/transformers/pipelines/base.py\", line 289, in infer_framework_load_model\n    model = model_class.from_pretrained(model, **kwargs)\n            ^^^^^^^^^^^^^^^^^^^^^^^^^^^^^^^^^^^^^^^^^^^^\n  File \"/home/kz9921/.conda/envs/llama_finetuning_env/lib/python3.11/site-packages/transformers/models/auto/auto_factory.py\", line 564, in from_pretrained\n    return model_class.from_pretrained(\n           ^^^^^^^^^^^^^^^^^^^^^^^^^^^^\n  File \"/home/kz9921/.conda/envs/llama_finetuning_env/lib/python3.11/site-packages/transformers/modeling_utils.py\", line 4188, in from_pretrained\n    hf_quantizer.validate_environment(device_map=device_map)\n  File \"/home/kz9921/.conda/envs/llama_finetuning_env/lib/python3.11/site-packages/transformers/quantizers/quantizer_bnb_4bit.py\", line 103, in validate_environment\n    raise ValueError(\nValueError: Some modules are dispatched on the CPU or the disk. Make sure you have enough GPU RAM to fit the quantized model. If you want to dispatch the model on the CPU or the disk while keeping these modules in 32-bit, you need to set `llm_int8_enable_fp32_cpu_offload=True` and pass a custom `device_map` to `from_pretrained`. Check https://huggingface.co/docs/transformers/main/en/main_classes/quantization#offload-between-cpu-and-gpu for more details. \n\nwhile loading with LlamaForCausalLM, an error is thrown:\nTraceback (most recent call last):\n  File \"/home/kz9921/.conda/envs/llama_finetuning_env/lib/python3.11/site-packages/transformers/pipelines/base.py\", line 289, in infer_framework_load_model\n    model = model_class.from_pretrained(model, **kwargs)\n            ^^^^^^^^^^^^^^^^^^^^^^^^^^^^^^^^^^^^^^^^^^^^\n  File \"/home/kz9921/.conda/envs/llama_finetuning_env/lib/python3.11/site-packages/transformers/modeling_utils.py\", line 4188, in from_pretrained\n    hf_quantizer.validate_environment(device_map=device_map)\n  File \"/home/kz9921/.conda/envs/llama_finetuning_env/lib/python3.11/site-packages/transformers/quantizers/quantizer_bnb_4bit.py\", line 103, in validate_environment\n    raise ValueError(\nValueError: Some modules are dispatched on the CPU or the disk. Make sure you have enough GPU RAM to fit the quantized model. If you want to dispatch the model on the CPU or the disk while keeping these modules in 32-bit, you need to set `llm_int8_enable_fp32_cpu_offload=True` and pass a custom `device_map` to `from_pretrained`. Check https://huggingface.co/docs/transformers/main/en/main_classes/quantization#offload-between-cpu-and-gpu for more details. \n\n\n",
     "output_type": "error",
     "traceback": [
      "\u001b[0;31m---------------------------------------------------------------------------\u001b[0m",
      "\u001b[0;31mValueError\u001b[0m                                Traceback (most recent call last)",
      "Cell \u001b[0;32mIn[2], line 4\u001b[0m\n\u001b[1;32m      1\u001b[0m \u001b[38;5;66;03m# Kylie uses her local scratch model\u001b[39;00m\n\u001b[1;32m      2\u001b[0m model_id \u001b[38;5;241m=\u001b[39m \u001b[38;5;124m'\u001b[39m\u001b[38;5;124m/scratch/gpfs/kz9921/transformer_cache/Llama-3.3-70B-Instruct-bnb-4bit\u001b[39m\u001b[38;5;124m'\u001b[39m\n\u001b[0;32m----> 4\u001b[0m pipeline \u001b[38;5;241m=\u001b[39m \u001b[43mtransformers\u001b[49m\u001b[38;5;241;43m.\u001b[39;49m\u001b[43mpipeline\u001b[49m\u001b[43m(\u001b[49m\n\u001b[1;32m      5\u001b[0m \u001b[43m    \u001b[49m\u001b[38;5;124;43m\"\u001b[39;49m\u001b[38;5;124;43mtext-generation\u001b[39;49m\u001b[38;5;124;43m\"\u001b[39;49m\u001b[43m,\u001b[49m\n\u001b[1;32m      6\u001b[0m \u001b[43m    \u001b[49m\u001b[43mmodel\u001b[49m\u001b[38;5;241;43m=\u001b[39;49m\u001b[43mmodel_id\u001b[49m\u001b[43m,\u001b[49m\n\u001b[1;32m      7\u001b[0m \u001b[43m    \u001b[49m\u001b[43mmodel_kwargs\u001b[49m\u001b[38;5;241;43m=\u001b[39;49m\u001b[43m{\u001b[49m\u001b[38;5;124;43m\"\u001b[39;49m\u001b[38;5;124;43mtorch_dtype\u001b[39;49m\u001b[38;5;124;43m\"\u001b[39;49m\u001b[43m:\u001b[49m\u001b[43m \u001b[49m\u001b[43mtorch\u001b[49m\u001b[38;5;241;43m.\u001b[39;49m\u001b[43mbfloat16\u001b[49m\u001b[43m}\u001b[49m\u001b[43m,\u001b[49m\n\u001b[1;32m      8\u001b[0m \u001b[43m    \u001b[49m\u001b[43mdevice_map\u001b[49m\u001b[38;5;241;43m=\u001b[39;49m\u001b[38;5;124;43m\"\u001b[39;49m\u001b[38;5;124;43mauto\u001b[39;49m\u001b[38;5;124;43m\"\u001b[39;49m\u001b[43m,\u001b[49m\n\u001b[1;32m      9\u001b[0m \u001b[43m)\u001b[49m\n",
      "File \u001b[0;32m~/.conda/envs/llama_finetuning_env/lib/python3.11/site-packages/transformers/pipelines/__init__.py:940\u001b[0m, in \u001b[0;36mpipeline\u001b[0;34m(task, model, config, tokenizer, feature_extractor, image_processor, processor, framework, revision, use_fast, token, device, device_map, torch_dtype, trust_remote_code, model_kwargs, pipeline_class, **kwargs)\u001b[0m\n\u001b[1;32m    938\u001b[0m \u001b[38;5;28;01mif\u001b[39;00m \u001b[38;5;28misinstance\u001b[39m(model, \u001b[38;5;28mstr\u001b[39m) \u001b[38;5;129;01mor\u001b[39;00m framework \u001b[38;5;129;01mis\u001b[39;00m \u001b[38;5;28;01mNone\u001b[39;00m:\n\u001b[1;32m    939\u001b[0m     model_classes \u001b[38;5;241m=\u001b[39m {\u001b[38;5;124m\"\u001b[39m\u001b[38;5;124mtf\u001b[39m\u001b[38;5;124m\"\u001b[39m: targeted_task[\u001b[38;5;124m\"\u001b[39m\u001b[38;5;124mtf\u001b[39m\u001b[38;5;124m\"\u001b[39m], \u001b[38;5;124m\"\u001b[39m\u001b[38;5;124mpt\u001b[39m\u001b[38;5;124m\"\u001b[39m: targeted_task[\u001b[38;5;124m\"\u001b[39m\u001b[38;5;124mpt\u001b[39m\u001b[38;5;124m\"\u001b[39m]}\n\u001b[0;32m--> 940\u001b[0m     framework, model \u001b[38;5;241m=\u001b[39m \u001b[43minfer_framework_load_model\u001b[49m\u001b[43m(\u001b[49m\n\u001b[1;32m    941\u001b[0m \u001b[43m        \u001b[49m\u001b[43mmodel\u001b[49m\u001b[43m,\u001b[49m\n\u001b[1;32m    942\u001b[0m \u001b[43m        \u001b[49m\u001b[43mmodel_classes\u001b[49m\u001b[38;5;241;43m=\u001b[39;49m\u001b[43mmodel_classes\u001b[49m\u001b[43m,\u001b[49m\n\u001b[1;32m    943\u001b[0m \u001b[43m        \u001b[49m\u001b[43mconfig\u001b[49m\u001b[38;5;241;43m=\u001b[39;49m\u001b[43mconfig\u001b[49m\u001b[43m,\u001b[49m\n\u001b[1;32m    944\u001b[0m \u001b[43m        \u001b[49m\u001b[43mframework\u001b[49m\u001b[38;5;241;43m=\u001b[39;49m\u001b[43mframework\u001b[49m\u001b[43m,\u001b[49m\n\u001b[1;32m    945\u001b[0m \u001b[43m        \u001b[49m\u001b[43mtask\u001b[49m\u001b[38;5;241;43m=\u001b[39;49m\u001b[43mtask\u001b[49m\u001b[43m,\u001b[49m\n\u001b[1;32m    946\u001b[0m \u001b[43m        \u001b[49m\u001b[38;5;241;43m*\u001b[39;49m\u001b[38;5;241;43m*\u001b[39;49m\u001b[43mhub_kwargs\u001b[49m\u001b[43m,\u001b[49m\n\u001b[1;32m    947\u001b[0m \u001b[43m        \u001b[49m\u001b[38;5;241;43m*\u001b[39;49m\u001b[38;5;241;43m*\u001b[39;49m\u001b[43mmodel_kwargs\u001b[49m\u001b[43m,\u001b[49m\n\u001b[1;32m    948\u001b[0m \u001b[43m    \u001b[49m\u001b[43m)\u001b[49m\n\u001b[1;32m    950\u001b[0m model_config \u001b[38;5;241m=\u001b[39m model\u001b[38;5;241m.\u001b[39mconfig\n\u001b[1;32m    951\u001b[0m hub_kwargs[\u001b[38;5;124m\"\u001b[39m\u001b[38;5;124m_commit_hash\u001b[39m\u001b[38;5;124m\"\u001b[39m] \u001b[38;5;241m=\u001b[39m model\u001b[38;5;241m.\u001b[39mconfig\u001b[38;5;241m.\u001b[39m_commit_hash\n",
      "File \u001b[0;32m~/.conda/envs/llama_finetuning_env/lib/python3.11/site-packages/transformers/pipelines/base.py:302\u001b[0m, in \u001b[0;36minfer_framework_load_model\u001b[0;34m(model, config, model_classes, task, framework, **model_kwargs)\u001b[0m\n\u001b[1;32m    300\u001b[0m         \u001b[38;5;28;01mfor\u001b[39;00m class_name, trace \u001b[38;5;129;01min\u001b[39;00m all_traceback\u001b[38;5;241m.\u001b[39mitems():\n\u001b[1;32m    301\u001b[0m             error \u001b[38;5;241m+\u001b[39m\u001b[38;5;241m=\u001b[39m \u001b[38;5;124mf\u001b[39m\u001b[38;5;124m\"\u001b[39m\u001b[38;5;124mwhile loading with \u001b[39m\u001b[38;5;132;01m{\u001b[39;00mclass_name\u001b[38;5;132;01m}\u001b[39;00m\u001b[38;5;124m, an error is thrown:\u001b[39m\u001b[38;5;130;01m\\n\u001b[39;00m\u001b[38;5;132;01m{\u001b[39;00mtrace\u001b[38;5;132;01m}\u001b[39;00m\u001b[38;5;130;01m\\n\u001b[39;00m\u001b[38;5;124m\"\u001b[39m\n\u001b[0;32m--> 302\u001b[0m         \u001b[38;5;28;01mraise\u001b[39;00m \u001b[38;5;167;01mValueError\u001b[39;00m(\n\u001b[1;32m    303\u001b[0m             \u001b[38;5;124mf\u001b[39m\u001b[38;5;124m\"\u001b[39m\u001b[38;5;124mCould not load model \u001b[39m\u001b[38;5;132;01m{\u001b[39;00mmodel\u001b[38;5;132;01m}\u001b[39;00m\u001b[38;5;124m with any of the following classes: \u001b[39m\u001b[38;5;132;01m{\u001b[39;00mclass_tuple\u001b[38;5;132;01m}\u001b[39;00m\u001b[38;5;124m. See the original errors:\u001b[39m\u001b[38;5;130;01m\\n\u001b[39;00m\u001b[38;5;130;01m\\n\u001b[39;00m\u001b[38;5;132;01m{\u001b[39;00merror\u001b[38;5;132;01m}\u001b[39;00m\u001b[38;5;130;01m\\n\u001b[39;00m\u001b[38;5;124m\"\u001b[39m\n\u001b[1;32m    304\u001b[0m         )\n\u001b[1;32m    306\u001b[0m \u001b[38;5;28;01mif\u001b[39;00m framework \u001b[38;5;129;01mis\u001b[39;00m \u001b[38;5;28;01mNone\u001b[39;00m:\n\u001b[1;32m    307\u001b[0m     framework \u001b[38;5;241m=\u001b[39m infer_framework(model\u001b[38;5;241m.\u001b[39m\u001b[38;5;18m__class__\u001b[39m)\n",
      "\u001b[0;31mValueError\u001b[0m: Could not load model /scratch/gpfs/kz9921/transformer_cache/Llama-3.3-70B-Instruct-bnb-4bit with any of the following classes: (<class 'transformers.models.auto.modeling_auto.AutoModelForCausalLM'>, <class 'transformers.models.llama.modeling_llama.LlamaForCausalLM'>). See the original errors:\n\nwhile loading with AutoModelForCausalLM, an error is thrown:\nTraceback (most recent call last):\n  File \"/home/kz9921/.conda/envs/llama_finetuning_env/lib/python3.11/site-packages/transformers/pipelines/base.py\", line 289, in infer_framework_load_model\n    model = model_class.from_pretrained(model, **kwargs)\n            ^^^^^^^^^^^^^^^^^^^^^^^^^^^^^^^^^^^^^^^^^^^^\n  File \"/home/kz9921/.conda/envs/llama_finetuning_env/lib/python3.11/site-packages/transformers/models/auto/auto_factory.py\", line 564, in from_pretrained\n    return model_class.from_pretrained(\n           ^^^^^^^^^^^^^^^^^^^^^^^^^^^^\n  File \"/home/kz9921/.conda/envs/llama_finetuning_env/lib/python3.11/site-packages/transformers/modeling_utils.py\", line 4188, in from_pretrained\n    hf_quantizer.validate_environment(device_map=device_map)\n  File \"/home/kz9921/.conda/envs/llama_finetuning_env/lib/python3.11/site-packages/transformers/quantizers/quantizer_bnb_4bit.py\", line 103, in validate_environment\n    raise ValueError(\nValueError: Some modules are dispatched on the CPU or the disk. Make sure you have enough GPU RAM to fit the quantized model. If you want to dispatch the model on the CPU or the disk while keeping these modules in 32-bit, you need to set `llm_int8_enable_fp32_cpu_offload=True` and pass a custom `device_map` to `from_pretrained`. Check https://huggingface.co/docs/transformers/main/en/main_classes/quantization#offload-between-cpu-and-gpu for more details. \n\nwhile loading with LlamaForCausalLM, an error is thrown:\nTraceback (most recent call last):\n  File \"/home/kz9921/.conda/envs/llama_finetuning_env/lib/python3.11/site-packages/transformers/pipelines/base.py\", line 289, in infer_framework_load_model\n    model = model_class.from_pretrained(model, **kwargs)\n            ^^^^^^^^^^^^^^^^^^^^^^^^^^^^^^^^^^^^^^^^^^^^\n  File \"/home/kz9921/.conda/envs/llama_finetuning_env/lib/python3.11/site-packages/transformers/modeling_utils.py\", line 4188, in from_pretrained\n    hf_quantizer.validate_environment(device_map=device_map)\n  File \"/home/kz9921/.conda/envs/llama_finetuning_env/lib/python3.11/site-packages/transformers/quantizers/quantizer_bnb_4bit.py\", line 103, in validate_environment\n    raise ValueError(\nValueError: Some modules are dispatched on the CPU or the disk. Make sure you have enough GPU RAM to fit the quantized model. If you want to dispatch the model on the CPU or the disk while keeping these modules in 32-bit, you need to set `llm_int8_enable_fp32_cpu_offload=True` and pass a custom `device_map` to `from_pretrained`. Check https://huggingface.co/docs/transformers/main/en/main_classes/quantization#offload-between-cpu-and-gpu for more details. \n\n\n"
     ]
    },
    {
     "ename": "",
     "evalue": "",
     "output_type": "error",
     "traceback": [
      "\u001b[1;31mThe Kernel crashed while executing code in the current cell or a previous cell. \n",
      "\u001b[1;31mPlease review the code in the cell(s) to identify a possible cause of the failure. \n",
      "\u001b[1;31mClick <a href='https://aka.ms/vscodeJupyterKernelCrash'>here</a> for more info. \n",
      "\u001b[1;31mView Jupyter <a href='command:jupyter.viewOutput'>log</a> for further details."
     ]
    }
   ],
   "source": [
    "# Kylie uses her local scratch model\n",
    "model_id = '/scratch/gpfs/kz9921/transformer_cache/Llama-3.3-70B-Instruct-bnb-4bit'\n",
    "\n",
    "pipeline = transformers.pipeline(\n",
    "    \"text-generation\",\n",
    "    model=model_id,\n",
    "    model_kwargs={\"torch_dtype\": torch.bfloat16},\n",
    "    device_map=\"auto\",\n",
    ")"
   ]
  },
  {
   "cell_type": "code",
   "execution_count": null,
   "id": "2e7a20db-ba35-4254-b174-e376059bd1e9",
   "metadata": {},
   "outputs": [],
   "source": [
    "def get_question_generation_prompt(justice_name, opening_statement):\n",
    "    system_prompt = \"\"\"You are a legal expert trained to simulate the questioning style of Supreme Court justices during oral arguments. Below is an opening statement from a Supreme Court case and the name of a specific justice. Your task is to generate a list of questions that this justice is likely to ask in response to the opening statement. These questions should reflect the justice’s known priorities, jurisprudence, and typical questioning style, and they should be directly relevant to the arguments presented in the opening statement.\n",
    "\n",
    "        ### Instructions:\n",
    "        1. Carefully analyze the opening statement to identify key arguments, assumptions, or ambiguities.\n",
    "        2. Generate questions that the specified justice might ask.\n",
    "        3. Format each question with specific start and end tags for easier parsing:\n",
    "           - Use `<START_Q>` at the beginning of each question.\n",
    "           - Use `<END_Q>` at the end of each question.\n",
    "\n",
    "        ### Example:\n",
    "        Justice: Justice Oliver Wendell Holmes Jr.\n",
    "        Opening Statement: Congress intended a preponderance of the evidence standard to apply to FLSA exemptions. Respondents argue for a clear and convincing evidence standard due to the importance of overtime rights. However, waivability of rights and standards of proof are unrelated.\n",
    "\n",
    "        Generated Questions:\n",
    "        <START_Q> Is there any explicit legislative language that supports your claim regarding the preponderance standard? <END_Q>\n",
    "        <START_Q> How does the principle of statutory construction guide us in resolving ambiguities in this case? <END_Q>\n",
    "        <START_Q> Would adopting a clear and convincing standard conflict with the broader purpose of the Fair Labor Standards Act? <END_Q>\n",
    "        <START_Q> How do you reconcile your argument with precedents where the Court imposed heightened standards for \"important\" rights? <END_Q>\n",
    "\n",
    "        ### Your Task:\n",
    "        Justice: {justice_name}\n",
    "        Opening Statement: {opening_statement}\n",
    "\n",
    "        ### Output:\n",
    "        A list of questions that {justice_name} is likely to ask:\n",
    "        <START_Q> text of question one <END_Q>\n",
    "        <START_Q> text of question two <END_Q>\n",
    "        <START_Q> text of question three <END_Q>\n",
    "\n",
    "    \"\"\"\n",
    "    \n",
    "    user_prompt = f\"\"\"### Your Task:\n",
    "        Justice: {justice_name}\n",
    "        Opening Statement: {opening_statement}\n",
    "\n",
    "        ### Output:\n",
    "    \"\"\"\n",
    "\n",
    "    messages = [\n",
    "            {\n",
    "                \"role\": \"system\",\n",
    "                \"content\": system_prompt,\n",
    "            },\n",
    "            {\"role\": \"user\", \"content\": user_prompt}\n",
    "        ]\n",
    "    # messages = {\n",
    "    #         \"system_prompt\": system_prompt,\n",
    "    #         \"instruction\": user_prompt\n",
    "    #         }\n",
    "    return messages"
   ]
  },
  {
   "cell_type": "code",
   "execution_count": null,
   "id": "28dba16f-6115-4450-8593-0c752d017240",
   "metadata": {},
   "outputs": [
    {
     "ename": "",
     "evalue": "",
     "output_type": "error",
     "traceback": [
      "\u001b[1;31mThe Kernel crashed while executing code in the current cell or a previous cell. \n",
      "\u001b[1;31mPlease review the code in the cell(s) to identify a possible cause of the failure. \n",
      "\u001b[1;31mClick <a href='https://aka.ms/vscodeJupyterKernelCrash'>here</a> for more info. \n",
      "\u001b[1;31mView Jupyter <a href='command:jupyter.viewOutput'>log</a> for further details."
     ]
    }
   ],
   "source": [
    "def get_model_response(messages):\n",
    "    output = pipeline(\n",
    "            messages,\n",
    "            max_new_tokens=512,\n",
    "        )\n",
    "    response = output[0][\"generated_text\"][-1]\n",
    "    print(response)\n",
    "    return response\n",
    "\n",
    "def parse_response(response):\n",
    "    decoded = response.content.decode('utf-8')\n",
    "    response_data = json.loads(decoded)\n",
    "    content = response_data['choices'][0]['message']['content']\n",
    "    \n",
    "    questions = re.findall(r\"<START_Q>(.*?)<END_Q>\", content, re.DOTALL)\n",
    "    cleaned_questions = [q.strip() for q in questions]\n",
    "\n",
    "    return cleaned_questions"
   ]
  },
  {
   "cell_type": "markdown",
   "id": "0e72c321-3461-448a-92e9-5faa5d02c489",
   "metadata": {},
   "source": [
    "#### Read csv with dataframe and try call"
   ]
  },
  {
   "cell_type": "code",
   "execution_count": 8,
   "id": "233eea6b",
   "metadata": {},
   "outputs": [],
   "source": [
    "input_fp = '../datasets/original/2024_full_text_transcripts.csv'\n",
    "transcripts_df = pd.read_csv(input_fp)\n",
    "data = []\n",
    "current_justices = {\"Justice John G. Roberts, Jr.\", \"Justice Clarence Thomas\", \"Justice Samuel A. Alito, Jr.\", \"Justice Sonia Sotomayor\", \"Justice Elena Kagan\", \"Justice Neil Gorsuch\", \"Justice Brett M. Kavanaugh\", \"Justice Amy Coney Barrett\", \"Justice Ketanji Brown Jackson\"}\n",
    "\n",
    "def create_justice_questions_tuple(justice, advocate_side, row):\n",
    "    '''\n",
    "    Given a justice, advocate to whom the justice is responding, and a row of the 2024\n",
    "    full text transcripts csv (which contains the transcript id, petitioner opening statement and full text \n",
    "    and respondent opening statement and full text), creates and returns a question generation instruction prompt \n",
    "    and all relevant data needed to run the prompt effectively.\n",
    "\n",
    "    @params: justice -- SCOTUS Justice\n",
    "    @params: advocate_side -- \"petitioner\" or \"respondent\"\n",
    "    @params: row a row of the 2024 full text transcripts csv\n",
    "    '''\n",
    "    if advocate_side == \"petitioner\":\n",
    "        opening_statement = row['petitioner_opening_text']\n",
    "    else:\n",
    "        opening_statement = row['respondent_opening_statement']\n",
    "    \n",
    "    sample = get_question_generation_prompt(justice, opening_statement)\n",
    "    sample.update({\n",
    "        'justice': justice,\n",
    "        'question_addressee': advocate_side,\n",
    "        'opening_statement': opening_statement\n",
    "    })\n",
    "    return sample\n",
    "\n",
    "for justice in current_justices:\n",
    "    for _, row in transcripts_df.iterrows():\n",
    "        petitioner_sample = create_justice_questions_tuple(justice, 'petitioner', row)\n",
    "        data.append(petitioner_sample)\n",
    "        respondent_sample = create_justice_questions_tuple(justice, 'respondent', row)\n",
    "        data.append(respondent_sample)\n",
    "\n",
    "data_df = pd.DataFrame(data)\n",
    "data_df.to_json('finetune_question_test.jsonl', orient='records', index=False, lines=True)"
   ]
  },
  {
   "cell_type": "code",
   "execution_count": 10,
   "id": "a16f4f40-898f-4c4c-9ad1-81902c24b5dd",
   "metadata": {},
   "outputs": [],
   "source": [
    "def add_justice_questions(justice_name, opening_statement):\n",
    "    messages = get_question_generation_prompt(justice_name, opening_statement)\n",
    "    response = get_model_response(messages)\n",
    "    questions = parse_response(response)\n",
    "    # return json string of list of questions to store in pandas df\n",
    "    return json.dumps(questions)\n",
    "    "
   ]
  },
  {
   "cell_type": "code",
   "execution_count": null,
   "id": "64d0395b-1faa-4c4d-ac2b-74cab6f2c07e",
   "metadata": {},
   "outputs": [
    {
     "ename": "ConnectionError",
     "evalue": "HTTPConnectionPool(host='localhost', port=12257): Max retries exceeded with url: /v1/chat/completions (Caused by NewConnectionError('<urllib3.connection.HTTPConnection object at 0x149af8cda890>: Failed to establish a new connection: [Errno 111] Connection refused'))",
     "output_type": "error",
     "traceback": [
      "\u001b[0;31m---------------------------------------------------------------------------\u001b[0m",
      "\u001b[0;31mConnectionRefusedError\u001b[0m                    Traceback (most recent call last)",
      "File \u001b[0;32m~/.conda/envs/vllm/lib/python3.10/site-packages/urllib3/connection.py:196\u001b[0m, in \u001b[0;36mHTTPConnection._new_conn\u001b[0;34m(self)\u001b[0m\n\u001b[1;32m    195\u001b[0m \u001b[38;5;28;01mtry\u001b[39;00m:\n\u001b[0;32m--> 196\u001b[0m     sock \u001b[38;5;241m=\u001b[39m \u001b[43mconnection\u001b[49m\u001b[38;5;241;43m.\u001b[39;49m\u001b[43mcreate_connection\u001b[49m\u001b[43m(\u001b[49m\n\u001b[1;32m    197\u001b[0m \u001b[43m        \u001b[49m\u001b[43m(\u001b[49m\u001b[38;5;28;43mself\u001b[39;49m\u001b[38;5;241;43m.\u001b[39;49m\u001b[43m_dns_host\u001b[49m\u001b[43m,\u001b[49m\u001b[43m \u001b[49m\u001b[38;5;28;43mself\u001b[39;49m\u001b[38;5;241;43m.\u001b[39;49m\u001b[43mport\u001b[49m\u001b[43m)\u001b[49m\u001b[43m,\u001b[49m\n\u001b[1;32m    198\u001b[0m \u001b[43m        \u001b[49m\u001b[38;5;28;43mself\u001b[39;49m\u001b[38;5;241;43m.\u001b[39;49m\u001b[43mtimeout\u001b[49m\u001b[43m,\u001b[49m\n\u001b[1;32m    199\u001b[0m \u001b[43m        \u001b[49m\u001b[43msource_address\u001b[49m\u001b[38;5;241;43m=\u001b[39;49m\u001b[38;5;28;43mself\u001b[39;49m\u001b[38;5;241;43m.\u001b[39;49m\u001b[43msource_address\u001b[49m\u001b[43m,\u001b[49m\n\u001b[1;32m    200\u001b[0m \u001b[43m        \u001b[49m\u001b[43msocket_options\u001b[49m\u001b[38;5;241;43m=\u001b[39;49m\u001b[38;5;28;43mself\u001b[39;49m\u001b[38;5;241;43m.\u001b[39;49m\u001b[43msocket_options\u001b[49m\u001b[43m,\u001b[49m\n\u001b[1;32m    201\u001b[0m \u001b[43m    \u001b[49m\u001b[43m)\u001b[49m\n\u001b[1;32m    202\u001b[0m \u001b[38;5;28;01mexcept\u001b[39;00m socket\u001b[38;5;241m.\u001b[39mgaierror \u001b[38;5;28;01mas\u001b[39;00m e:\n",
      "File \u001b[0;32m~/.conda/envs/vllm/lib/python3.10/site-packages/urllib3/util/connection.py:85\u001b[0m, in \u001b[0;36mcreate_connection\u001b[0;34m(address, timeout, source_address, socket_options)\u001b[0m\n\u001b[1;32m     84\u001b[0m \u001b[38;5;28;01mtry\u001b[39;00m:\n\u001b[0;32m---> 85\u001b[0m     \u001b[38;5;28;01mraise\u001b[39;00m err\n\u001b[1;32m     86\u001b[0m \u001b[38;5;28;01mfinally\u001b[39;00m:\n\u001b[1;32m     87\u001b[0m     \u001b[38;5;66;03m# Break explicitly a reference cycle\u001b[39;00m\n",
      "File \u001b[0;32m~/.conda/envs/vllm/lib/python3.10/site-packages/urllib3/util/connection.py:73\u001b[0m, in \u001b[0;36mcreate_connection\u001b[0;34m(address, timeout, source_address, socket_options)\u001b[0m\n\u001b[1;32m     72\u001b[0m     sock\u001b[38;5;241m.\u001b[39mbind(source_address)\n\u001b[0;32m---> 73\u001b[0m \u001b[43msock\u001b[49m\u001b[38;5;241;43m.\u001b[39;49m\u001b[43mconnect\u001b[49m\u001b[43m(\u001b[49m\u001b[43msa\u001b[49m\u001b[43m)\u001b[49m\n\u001b[1;32m     74\u001b[0m \u001b[38;5;66;03m# Break explicitly a reference cycle\u001b[39;00m\n",
      "\u001b[0;31mConnectionRefusedError\u001b[0m: [Errno 111] Connection refused",
      "\nThe above exception was the direct cause of the following exception:\n",
      "\u001b[0;31mNewConnectionError\u001b[0m                        Traceback (most recent call last)",
      "File \u001b[0;32m~/.conda/envs/vllm/lib/python3.10/site-packages/urllib3/connectionpool.py:789\u001b[0m, in \u001b[0;36mHTTPConnectionPool.urlopen\u001b[0;34m(self, method, url, body, headers, retries, redirect, assert_same_host, timeout, pool_timeout, release_conn, chunked, body_pos, preload_content, decode_content, **response_kw)\u001b[0m\n\u001b[1;32m    788\u001b[0m \u001b[38;5;66;03m# Make the request on the HTTPConnection object\u001b[39;00m\n\u001b[0;32m--> 789\u001b[0m response \u001b[38;5;241m=\u001b[39m \u001b[38;5;28;43mself\u001b[39;49m\u001b[38;5;241;43m.\u001b[39;49m\u001b[43m_make_request\u001b[49m\u001b[43m(\u001b[49m\n\u001b[1;32m    790\u001b[0m \u001b[43m    \u001b[49m\u001b[43mconn\u001b[49m\u001b[43m,\u001b[49m\n\u001b[1;32m    791\u001b[0m \u001b[43m    \u001b[49m\u001b[43mmethod\u001b[49m\u001b[43m,\u001b[49m\n\u001b[1;32m    792\u001b[0m \u001b[43m    \u001b[49m\u001b[43murl\u001b[49m\u001b[43m,\u001b[49m\n\u001b[1;32m    793\u001b[0m \u001b[43m    \u001b[49m\u001b[43mtimeout\u001b[49m\u001b[38;5;241;43m=\u001b[39;49m\u001b[43mtimeout_obj\u001b[49m\u001b[43m,\u001b[49m\n\u001b[1;32m    794\u001b[0m \u001b[43m    \u001b[49m\u001b[43mbody\u001b[49m\u001b[38;5;241;43m=\u001b[39;49m\u001b[43mbody\u001b[49m\u001b[43m,\u001b[49m\n\u001b[1;32m    795\u001b[0m \u001b[43m    \u001b[49m\u001b[43mheaders\u001b[49m\u001b[38;5;241;43m=\u001b[39;49m\u001b[43mheaders\u001b[49m\u001b[43m,\u001b[49m\n\u001b[1;32m    796\u001b[0m \u001b[43m    \u001b[49m\u001b[43mchunked\u001b[49m\u001b[38;5;241;43m=\u001b[39;49m\u001b[43mchunked\u001b[49m\u001b[43m,\u001b[49m\n\u001b[1;32m    797\u001b[0m \u001b[43m    \u001b[49m\u001b[43mretries\u001b[49m\u001b[38;5;241;43m=\u001b[39;49m\u001b[43mretries\u001b[49m\u001b[43m,\u001b[49m\n\u001b[1;32m    798\u001b[0m \u001b[43m    \u001b[49m\u001b[43mresponse_conn\u001b[49m\u001b[38;5;241;43m=\u001b[39;49m\u001b[43mresponse_conn\u001b[49m\u001b[43m,\u001b[49m\n\u001b[1;32m    799\u001b[0m \u001b[43m    \u001b[49m\u001b[43mpreload_content\u001b[49m\u001b[38;5;241;43m=\u001b[39;49m\u001b[43mpreload_content\u001b[49m\u001b[43m,\u001b[49m\n\u001b[1;32m    800\u001b[0m \u001b[43m    \u001b[49m\u001b[43mdecode_content\u001b[49m\u001b[38;5;241;43m=\u001b[39;49m\u001b[43mdecode_content\u001b[49m\u001b[43m,\u001b[49m\n\u001b[1;32m    801\u001b[0m \u001b[43m    \u001b[49m\u001b[38;5;241;43m*\u001b[39;49m\u001b[38;5;241;43m*\u001b[39;49m\u001b[43mresponse_kw\u001b[49m\u001b[43m,\u001b[49m\n\u001b[1;32m    802\u001b[0m \u001b[43m\u001b[49m\u001b[43m)\u001b[49m\n\u001b[1;32m    804\u001b[0m \u001b[38;5;66;03m# Everything went great!\u001b[39;00m\n",
      "File \u001b[0;32m~/.conda/envs/vllm/lib/python3.10/site-packages/urllib3/connectionpool.py:495\u001b[0m, in \u001b[0;36mHTTPConnectionPool._make_request\u001b[0;34m(self, conn, method, url, body, headers, retries, timeout, chunked, response_conn, preload_content, decode_content, enforce_content_length)\u001b[0m\n\u001b[1;32m    494\u001b[0m \u001b[38;5;28;01mtry\u001b[39;00m:\n\u001b[0;32m--> 495\u001b[0m     \u001b[43mconn\u001b[49m\u001b[38;5;241;43m.\u001b[39;49m\u001b[43mrequest\u001b[49m\u001b[43m(\u001b[49m\n\u001b[1;32m    496\u001b[0m \u001b[43m        \u001b[49m\u001b[43mmethod\u001b[49m\u001b[43m,\u001b[49m\n\u001b[1;32m    497\u001b[0m \u001b[43m        \u001b[49m\u001b[43murl\u001b[49m\u001b[43m,\u001b[49m\n\u001b[1;32m    498\u001b[0m \u001b[43m        \u001b[49m\u001b[43mbody\u001b[49m\u001b[38;5;241;43m=\u001b[39;49m\u001b[43mbody\u001b[49m\u001b[43m,\u001b[49m\n\u001b[1;32m    499\u001b[0m \u001b[43m        \u001b[49m\u001b[43mheaders\u001b[49m\u001b[38;5;241;43m=\u001b[39;49m\u001b[43mheaders\u001b[49m\u001b[43m,\u001b[49m\n\u001b[1;32m    500\u001b[0m \u001b[43m        \u001b[49m\u001b[43mchunked\u001b[49m\u001b[38;5;241;43m=\u001b[39;49m\u001b[43mchunked\u001b[49m\u001b[43m,\u001b[49m\n\u001b[1;32m    501\u001b[0m \u001b[43m        \u001b[49m\u001b[43mpreload_content\u001b[49m\u001b[38;5;241;43m=\u001b[39;49m\u001b[43mpreload_content\u001b[49m\u001b[43m,\u001b[49m\n\u001b[1;32m    502\u001b[0m \u001b[43m        \u001b[49m\u001b[43mdecode_content\u001b[49m\u001b[38;5;241;43m=\u001b[39;49m\u001b[43mdecode_content\u001b[49m\u001b[43m,\u001b[49m\n\u001b[1;32m    503\u001b[0m \u001b[43m        \u001b[49m\u001b[43menforce_content_length\u001b[49m\u001b[38;5;241;43m=\u001b[39;49m\u001b[43menforce_content_length\u001b[49m\u001b[43m,\u001b[49m\n\u001b[1;32m    504\u001b[0m \u001b[43m    \u001b[49m\u001b[43m)\u001b[49m\n\u001b[1;32m    506\u001b[0m \u001b[38;5;66;03m# We are swallowing BrokenPipeError (errno.EPIPE) since the server is\u001b[39;00m\n\u001b[1;32m    507\u001b[0m \u001b[38;5;66;03m# legitimately able to close the connection after sending a valid response.\u001b[39;00m\n\u001b[1;32m    508\u001b[0m \u001b[38;5;66;03m# With this behaviour, the received response is still readable.\u001b[39;00m\n",
      "File \u001b[0;32m~/.conda/envs/vllm/lib/python3.10/site-packages/urllib3/connection.py:398\u001b[0m, in \u001b[0;36mHTTPConnection.request\u001b[0;34m(self, method, url, body, headers, chunked, preload_content, decode_content, enforce_content_length)\u001b[0m\n\u001b[1;32m    397\u001b[0m     \u001b[38;5;28mself\u001b[39m\u001b[38;5;241m.\u001b[39mputheader(header, value)\n\u001b[0;32m--> 398\u001b[0m \u001b[38;5;28;43mself\u001b[39;49m\u001b[38;5;241;43m.\u001b[39;49m\u001b[43mendheaders\u001b[49m\u001b[43m(\u001b[49m\u001b[43m)\u001b[49m\n\u001b[1;32m    400\u001b[0m \u001b[38;5;66;03m# If we're given a body we start sending that in chunks.\u001b[39;00m\n",
      "File \u001b[0;32m~/.conda/envs/vllm/lib/python3.10/http/client.py:1278\u001b[0m, in \u001b[0;36mHTTPConnection.endheaders\u001b[0;34m(self, message_body, encode_chunked)\u001b[0m\n\u001b[1;32m   1277\u001b[0m     \u001b[38;5;28;01mraise\u001b[39;00m CannotSendHeader()\n\u001b[0;32m-> 1278\u001b[0m \u001b[38;5;28;43mself\u001b[39;49m\u001b[38;5;241;43m.\u001b[39;49m\u001b[43m_send_output\u001b[49m\u001b[43m(\u001b[49m\u001b[43mmessage_body\u001b[49m\u001b[43m,\u001b[49m\u001b[43m \u001b[49m\u001b[43mencode_chunked\u001b[49m\u001b[38;5;241;43m=\u001b[39;49m\u001b[43mencode_chunked\u001b[49m\u001b[43m)\u001b[49m\n",
      "File \u001b[0;32m~/.conda/envs/vllm/lib/python3.10/http/client.py:1038\u001b[0m, in \u001b[0;36mHTTPConnection._send_output\u001b[0;34m(self, message_body, encode_chunked)\u001b[0m\n\u001b[1;32m   1037\u001b[0m \u001b[38;5;28;01mdel\u001b[39;00m \u001b[38;5;28mself\u001b[39m\u001b[38;5;241m.\u001b[39m_buffer[:]\n\u001b[0;32m-> 1038\u001b[0m \u001b[38;5;28;43mself\u001b[39;49m\u001b[38;5;241;43m.\u001b[39;49m\u001b[43msend\u001b[49m\u001b[43m(\u001b[49m\u001b[43mmsg\u001b[49m\u001b[43m)\u001b[49m\n\u001b[1;32m   1040\u001b[0m \u001b[38;5;28;01mif\u001b[39;00m message_body \u001b[38;5;129;01mis\u001b[39;00m \u001b[38;5;129;01mnot\u001b[39;00m \u001b[38;5;28;01mNone\u001b[39;00m:\n\u001b[1;32m   1041\u001b[0m \n\u001b[1;32m   1042\u001b[0m     \u001b[38;5;66;03m# create a consistent interface to message_body\u001b[39;00m\n",
      "File \u001b[0;32m~/.conda/envs/vllm/lib/python3.10/http/client.py:976\u001b[0m, in \u001b[0;36mHTTPConnection.send\u001b[0;34m(self, data)\u001b[0m\n\u001b[1;32m    975\u001b[0m \u001b[38;5;28;01mif\u001b[39;00m \u001b[38;5;28mself\u001b[39m\u001b[38;5;241m.\u001b[39mauto_open:\n\u001b[0;32m--> 976\u001b[0m     \u001b[38;5;28;43mself\u001b[39;49m\u001b[38;5;241;43m.\u001b[39;49m\u001b[43mconnect\u001b[49m\u001b[43m(\u001b[49m\u001b[43m)\u001b[49m\n\u001b[1;32m    977\u001b[0m \u001b[38;5;28;01melse\u001b[39;00m:\n",
      "File \u001b[0;32m~/.conda/envs/vllm/lib/python3.10/site-packages/urllib3/connection.py:236\u001b[0m, in \u001b[0;36mHTTPConnection.connect\u001b[0;34m(self)\u001b[0m\n\u001b[1;32m    235\u001b[0m \u001b[38;5;28;01mdef\u001b[39;00m\u001b[38;5;250m \u001b[39m\u001b[38;5;21mconnect\u001b[39m(\u001b[38;5;28mself\u001b[39m) \u001b[38;5;241m-\u001b[39m\u001b[38;5;241m>\u001b[39m \u001b[38;5;28;01mNone\u001b[39;00m:\n\u001b[0;32m--> 236\u001b[0m     \u001b[38;5;28mself\u001b[39m\u001b[38;5;241m.\u001b[39msock \u001b[38;5;241m=\u001b[39m \u001b[38;5;28;43mself\u001b[39;49m\u001b[38;5;241;43m.\u001b[39;49m\u001b[43m_new_conn\u001b[49m\u001b[43m(\u001b[49m\u001b[43m)\u001b[49m\n\u001b[1;32m    237\u001b[0m     \u001b[38;5;28;01mif\u001b[39;00m \u001b[38;5;28mself\u001b[39m\u001b[38;5;241m.\u001b[39m_tunnel_host:\n\u001b[1;32m    238\u001b[0m         \u001b[38;5;66;03m# If we're tunneling it means we're connected to our proxy.\u001b[39;00m\n",
      "File \u001b[0;32m~/.conda/envs/vllm/lib/python3.10/site-packages/urllib3/connection.py:211\u001b[0m, in \u001b[0;36mHTTPConnection._new_conn\u001b[0;34m(self)\u001b[0m\n\u001b[1;32m    210\u001b[0m \u001b[38;5;28;01mexcept\u001b[39;00m \u001b[38;5;167;01mOSError\u001b[39;00m \u001b[38;5;28;01mas\u001b[39;00m e:\n\u001b[0;32m--> 211\u001b[0m     \u001b[38;5;28;01mraise\u001b[39;00m NewConnectionError(\n\u001b[1;32m    212\u001b[0m         \u001b[38;5;28mself\u001b[39m, \u001b[38;5;124mf\u001b[39m\u001b[38;5;124m\"\u001b[39m\u001b[38;5;124mFailed to establish a new connection: \u001b[39m\u001b[38;5;132;01m{\u001b[39;00me\u001b[38;5;132;01m}\u001b[39;00m\u001b[38;5;124m\"\u001b[39m\n\u001b[1;32m    213\u001b[0m     ) \u001b[38;5;28;01mfrom\u001b[39;00m\u001b[38;5;250m \u001b[39m\u001b[38;5;21;01me\u001b[39;00m\n\u001b[1;32m    215\u001b[0m \u001b[38;5;66;03m# Audit hooks are only available in Python 3.8+\u001b[39;00m\n",
      "\u001b[0;31mNewConnectionError\u001b[0m: <urllib3.connection.HTTPConnection object at 0x149af8cda890>: Failed to establish a new connection: [Errno 111] Connection refused",
      "\nThe above exception was the direct cause of the following exception:\n",
      "\u001b[0;31mMaxRetryError\u001b[0m                             Traceback (most recent call last)",
      "File \u001b[0;32m~/.conda/envs/vllm/lib/python3.10/site-packages/requests/adapters.py:667\u001b[0m, in \u001b[0;36mHTTPAdapter.send\u001b[0;34m(self, request, stream, timeout, verify, cert, proxies)\u001b[0m\n\u001b[1;32m    666\u001b[0m \u001b[38;5;28;01mtry\u001b[39;00m:\n\u001b[0;32m--> 667\u001b[0m     resp \u001b[38;5;241m=\u001b[39m \u001b[43mconn\u001b[49m\u001b[38;5;241;43m.\u001b[39;49m\u001b[43murlopen\u001b[49m\u001b[43m(\u001b[49m\n\u001b[1;32m    668\u001b[0m \u001b[43m        \u001b[49m\u001b[43mmethod\u001b[49m\u001b[38;5;241;43m=\u001b[39;49m\u001b[43mrequest\u001b[49m\u001b[38;5;241;43m.\u001b[39;49m\u001b[43mmethod\u001b[49m\u001b[43m,\u001b[49m\n\u001b[1;32m    669\u001b[0m \u001b[43m        \u001b[49m\u001b[43murl\u001b[49m\u001b[38;5;241;43m=\u001b[39;49m\u001b[43murl\u001b[49m\u001b[43m,\u001b[49m\n\u001b[1;32m    670\u001b[0m \u001b[43m        \u001b[49m\u001b[43mbody\u001b[49m\u001b[38;5;241;43m=\u001b[39;49m\u001b[43mrequest\u001b[49m\u001b[38;5;241;43m.\u001b[39;49m\u001b[43mbody\u001b[49m\u001b[43m,\u001b[49m\n\u001b[1;32m    671\u001b[0m \u001b[43m        \u001b[49m\u001b[43mheaders\u001b[49m\u001b[38;5;241;43m=\u001b[39;49m\u001b[43mrequest\u001b[49m\u001b[38;5;241;43m.\u001b[39;49m\u001b[43mheaders\u001b[49m\u001b[43m,\u001b[49m\n\u001b[1;32m    672\u001b[0m \u001b[43m        \u001b[49m\u001b[43mredirect\u001b[49m\u001b[38;5;241;43m=\u001b[39;49m\u001b[38;5;28;43;01mFalse\u001b[39;49;00m\u001b[43m,\u001b[49m\n\u001b[1;32m    673\u001b[0m \u001b[43m        \u001b[49m\u001b[43massert_same_host\u001b[49m\u001b[38;5;241;43m=\u001b[39;49m\u001b[38;5;28;43;01mFalse\u001b[39;49;00m\u001b[43m,\u001b[49m\n\u001b[1;32m    674\u001b[0m \u001b[43m        \u001b[49m\u001b[43mpreload_content\u001b[49m\u001b[38;5;241;43m=\u001b[39;49m\u001b[38;5;28;43;01mFalse\u001b[39;49;00m\u001b[43m,\u001b[49m\n\u001b[1;32m    675\u001b[0m \u001b[43m        \u001b[49m\u001b[43mdecode_content\u001b[49m\u001b[38;5;241;43m=\u001b[39;49m\u001b[38;5;28;43;01mFalse\u001b[39;49;00m\u001b[43m,\u001b[49m\n\u001b[1;32m    676\u001b[0m \u001b[43m        \u001b[49m\u001b[43mretries\u001b[49m\u001b[38;5;241;43m=\u001b[39;49m\u001b[38;5;28;43mself\u001b[39;49m\u001b[38;5;241;43m.\u001b[39;49m\u001b[43mmax_retries\u001b[49m\u001b[43m,\u001b[49m\n\u001b[1;32m    677\u001b[0m \u001b[43m        \u001b[49m\u001b[43mtimeout\u001b[49m\u001b[38;5;241;43m=\u001b[39;49m\u001b[43mtimeout\u001b[49m\u001b[43m,\u001b[49m\n\u001b[1;32m    678\u001b[0m \u001b[43m        \u001b[49m\u001b[43mchunked\u001b[49m\u001b[38;5;241;43m=\u001b[39;49m\u001b[43mchunked\u001b[49m\u001b[43m,\u001b[49m\n\u001b[1;32m    679\u001b[0m \u001b[43m    \u001b[49m\u001b[43m)\u001b[49m\n\u001b[1;32m    681\u001b[0m \u001b[38;5;28;01mexcept\u001b[39;00m (ProtocolError, \u001b[38;5;167;01mOSError\u001b[39;00m) \u001b[38;5;28;01mas\u001b[39;00m err:\n",
      "File \u001b[0;32m~/.conda/envs/vllm/lib/python3.10/site-packages/urllib3/connectionpool.py:843\u001b[0m, in \u001b[0;36mHTTPConnectionPool.urlopen\u001b[0;34m(self, method, url, body, headers, retries, redirect, assert_same_host, timeout, pool_timeout, release_conn, chunked, body_pos, preload_content, decode_content, **response_kw)\u001b[0m\n\u001b[1;32m    841\u001b[0m     new_e \u001b[38;5;241m=\u001b[39m ProtocolError(\u001b[38;5;124m\"\u001b[39m\u001b[38;5;124mConnection aborted.\u001b[39m\u001b[38;5;124m\"\u001b[39m, new_e)\n\u001b[0;32m--> 843\u001b[0m retries \u001b[38;5;241m=\u001b[39m \u001b[43mretries\u001b[49m\u001b[38;5;241;43m.\u001b[39;49m\u001b[43mincrement\u001b[49m\u001b[43m(\u001b[49m\n\u001b[1;32m    844\u001b[0m \u001b[43m    \u001b[49m\u001b[43mmethod\u001b[49m\u001b[43m,\u001b[49m\u001b[43m \u001b[49m\u001b[43murl\u001b[49m\u001b[43m,\u001b[49m\u001b[43m \u001b[49m\u001b[43merror\u001b[49m\u001b[38;5;241;43m=\u001b[39;49m\u001b[43mnew_e\u001b[49m\u001b[43m,\u001b[49m\u001b[43m \u001b[49m\u001b[43m_pool\u001b[49m\u001b[38;5;241;43m=\u001b[39;49m\u001b[38;5;28;43mself\u001b[39;49m\u001b[43m,\u001b[49m\u001b[43m \u001b[49m\u001b[43m_stacktrace\u001b[49m\u001b[38;5;241;43m=\u001b[39;49m\u001b[43msys\u001b[49m\u001b[38;5;241;43m.\u001b[39;49m\u001b[43mexc_info\u001b[49m\u001b[43m(\u001b[49m\u001b[43m)\u001b[49m\u001b[43m[\u001b[49m\u001b[38;5;241;43m2\u001b[39;49m\u001b[43m]\u001b[49m\n\u001b[1;32m    845\u001b[0m \u001b[43m\u001b[49m\u001b[43m)\u001b[49m\n\u001b[1;32m    846\u001b[0m retries\u001b[38;5;241m.\u001b[39msleep()\n",
      "File \u001b[0;32m~/.conda/envs/vllm/lib/python3.10/site-packages/urllib3/util/retry.py:519\u001b[0m, in \u001b[0;36mRetry.increment\u001b[0;34m(self, method, url, response, error, _pool, _stacktrace)\u001b[0m\n\u001b[1;32m    518\u001b[0m     reason \u001b[38;5;241m=\u001b[39m error \u001b[38;5;129;01mor\u001b[39;00m ResponseError(cause)\n\u001b[0;32m--> 519\u001b[0m     \u001b[38;5;28;01mraise\u001b[39;00m MaxRetryError(_pool, url, reason) \u001b[38;5;28;01mfrom\u001b[39;00m\u001b[38;5;250m \u001b[39m\u001b[38;5;21;01mreason\u001b[39;00m  \u001b[38;5;66;03m# type: ignore[arg-type]\u001b[39;00m\n\u001b[1;32m    521\u001b[0m log\u001b[38;5;241m.\u001b[39mdebug(\u001b[38;5;124m\"\u001b[39m\u001b[38;5;124mIncremented Retry for (url=\u001b[39m\u001b[38;5;124m'\u001b[39m\u001b[38;5;132;01m%s\u001b[39;00m\u001b[38;5;124m'\u001b[39m\u001b[38;5;124m): \u001b[39m\u001b[38;5;132;01m%r\u001b[39;00m\u001b[38;5;124m\"\u001b[39m, url, new_retry)\n",
      "\u001b[0;31mMaxRetryError\u001b[0m: HTTPConnectionPool(host='localhost', port=12257): Max retries exceeded with url: /v1/chat/completions (Caused by NewConnectionError('<urllib3.connection.HTTPConnection object at 0x149af8cda890>: Failed to establish a new connection: [Errno 111] Connection refused'))",
      "\nDuring handling of the above exception, another exception occurred:\n",
      "\u001b[0;31mConnectionError\u001b[0m                           Traceback (most recent call last)",
      "Cell \u001b[0;32mIn[12], line 4\u001b[0m\n\u001b[1;32m      1\u001b[0m \u001b[38;5;66;03m# GENERATE FOR ALL\u001b[39;00m\n\u001b[1;32m      2\u001b[0m \u001b[38;5;66;03m# add sotomayor, petitioner\u001b[39;00m\n\u001b[1;32m      3\u001b[0m justice \u001b[38;5;241m=\u001b[39m \u001b[38;5;124m'\u001b[39m\u001b[38;5;124mJustice Sonia Sotomayor\u001b[39m\u001b[38;5;124m'\u001b[39m\n\u001b[0;32m----> 4\u001b[0m transcripts_df[\u001b[38;5;124m'\u001b[39m\u001b[38;5;124mquestions_sotomayor_petitioner\u001b[39m\u001b[38;5;124m'\u001b[39m] \u001b[38;5;241m=\u001b[39m \u001b[43mtranscripts_df\u001b[49m\u001b[38;5;241;43m.\u001b[39;49m\u001b[43mapply\u001b[49m\u001b[43m(\u001b[49m\n\u001b[1;32m      5\u001b[0m \u001b[43m    \u001b[49m\u001b[38;5;28;43;01mlambda\u001b[39;49;00m\u001b[43m \u001b[49m\u001b[43mrow\u001b[49m\u001b[43m:\u001b[49m\u001b[43m \u001b[49m\u001b[43madd_justice_questions\u001b[49m\u001b[43m(\u001b[49m\u001b[43mjustice\u001b[49m\u001b[43m,\u001b[49m\u001b[43m \u001b[49m\u001b[43mrow\u001b[49m\u001b[43m[\u001b[49m\u001b[38;5;124;43m'\u001b[39;49m\u001b[38;5;124;43mpetitioner_opening_text\u001b[39;49m\u001b[38;5;124;43m'\u001b[39;49m\u001b[43m]\u001b[49m\u001b[43m)\u001b[49m\u001b[43m,\u001b[49m\u001b[43m \u001b[49m\u001b[43maxis\u001b[49m\u001b[38;5;241;43m=\u001b[39;49m\u001b[38;5;241;43m1\u001b[39;49m\n\u001b[1;32m      6\u001b[0m \u001b[43m)\u001b[49m\n\u001b[1;32m      7\u001b[0m transcripts_df\u001b[38;5;241m.\u001b[39mhead()\n",
      "File \u001b[0;32m~/.conda/envs/vllm/lib/python3.10/site-packages/pandas/core/frame.py:10374\u001b[0m, in \u001b[0;36mDataFrame.apply\u001b[0;34m(self, func, axis, raw, result_type, args, by_row, engine, engine_kwargs, **kwargs)\u001b[0m\n\u001b[1;32m  10360\u001b[0m \u001b[38;5;28;01mfrom\u001b[39;00m\u001b[38;5;250m \u001b[39m\u001b[38;5;21;01mpandas\u001b[39;00m\u001b[38;5;21;01m.\u001b[39;00m\u001b[38;5;21;01mcore\u001b[39;00m\u001b[38;5;21;01m.\u001b[39;00m\u001b[38;5;21;01mapply\u001b[39;00m\u001b[38;5;250m \u001b[39m\u001b[38;5;28;01mimport\u001b[39;00m frame_apply\n\u001b[1;32m  10362\u001b[0m op \u001b[38;5;241m=\u001b[39m frame_apply(\n\u001b[1;32m  10363\u001b[0m     \u001b[38;5;28mself\u001b[39m,\n\u001b[1;32m  10364\u001b[0m     func\u001b[38;5;241m=\u001b[39mfunc,\n\u001b[0;32m   (...)\u001b[0m\n\u001b[1;32m  10372\u001b[0m     kwargs\u001b[38;5;241m=\u001b[39mkwargs,\n\u001b[1;32m  10373\u001b[0m )\n\u001b[0;32m> 10374\u001b[0m \u001b[38;5;28;01mreturn\u001b[39;00m \u001b[43mop\u001b[49m\u001b[38;5;241;43m.\u001b[39;49m\u001b[43mapply\u001b[49m\u001b[43m(\u001b[49m\u001b[43m)\u001b[49m\u001b[38;5;241m.\u001b[39m__finalize__(\u001b[38;5;28mself\u001b[39m, method\u001b[38;5;241m=\u001b[39m\u001b[38;5;124m\"\u001b[39m\u001b[38;5;124mapply\u001b[39m\u001b[38;5;124m\"\u001b[39m)\n",
      "File \u001b[0;32m~/.conda/envs/vllm/lib/python3.10/site-packages/pandas/core/apply.py:916\u001b[0m, in \u001b[0;36mFrameApply.apply\u001b[0;34m(self)\u001b[0m\n\u001b[1;32m    913\u001b[0m \u001b[38;5;28;01melif\u001b[39;00m \u001b[38;5;28mself\u001b[39m\u001b[38;5;241m.\u001b[39mraw:\n\u001b[1;32m    914\u001b[0m     \u001b[38;5;28;01mreturn\u001b[39;00m \u001b[38;5;28mself\u001b[39m\u001b[38;5;241m.\u001b[39mapply_raw(engine\u001b[38;5;241m=\u001b[39m\u001b[38;5;28mself\u001b[39m\u001b[38;5;241m.\u001b[39mengine, engine_kwargs\u001b[38;5;241m=\u001b[39m\u001b[38;5;28mself\u001b[39m\u001b[38;5;241m.\u001b[39mengine_kwargs)\n\u001b[0;32m--> 916\u001b[0m \u001b[38;5;28;01mreturn\u001b[39;00m \u001b[38;5;28;43mself\u001b[39;49m\u001b[38;5;241;43m.\u001b[39;49m\u001b[43mapply_standard\u001b[49m\u001b[43m(\u001b[49m\u001b[43m)\u001b[49m\n",
      "File \u001b[0;32m~/.conda/envs/vllm/lib/python3.10/site-packages/pandas/core/apply.py:1063\u001b[0m, in \u001b[0;36mFrameApply.apply_standard\u001b[0;34m(self)\u001b[0m\n\u001b[1;32m   1061\u001b[0m \u001b[38;5;28;01mdef\u001b[39;00m\u001b[38;5;250m \u001b[39m\u001b[38;5;21mapply_standard\u001b[39m(\u001b[38;5;28mself\u001b[39m):\n\u001b[1;32m   1062\u001b[0m     \u001b[38;5;28;01mif\u001b[39;00m \u001b[38;5;28mself\u001b[39m\u001b[38;5;241m.\u001b[39mengine \u001b[38;5;241m==\u001b[39m \u001b[38;5;124m\"\u001b[39m\u001b[38;5;124mpython\u001b[39m\u001b[38;5;124m\"\u001b[39m:\n\u001b[0;32m-> 1063\u001b[0m         results, res_index \u001b[38;5;241m=\u001b[39m \u001b[38;5;28;43mself\u001b[39;49m\u001b[38;5;241;43m.\u001b[39;49m\u001b[43mapply_series_generator\u001b[49m\u001b[43m(\u001b[49m\u001b[43m)\u001b[49m\n\u001b[1;32m   1064\u001b[0m     \u001b[38;5;28;01melse\u001b[39;00m:\n\u001b[1;32m   1065\u001b[0m         results, res_index \u001b[38;5;241m=\u001b[39m \u001b[38;5;28mself\u001b[39m\u001b[38;5;241m.\u001b[39mapply_series_numba()\n",
      "File \u001b[0;32m~/.conda/envs/vllm/lib/python3.10/site-packages/pandas/core/apply.py:1081\u001b[0m, in \u001b[0;36mFrameApply.apply_series_generator\u001b[0;34m(self)\u001b[0m\n\u001b[1;32m   1078\u001b[0m \u001b[38;5;28;01mwith\u001b[39;00m option_context(\u001b[38;5;124m\"\u001b[39m\u001b[38;5;124mmode.chained_assignment\u001b[39m\u001b[38;5;124m\"\u001b[39m, \u001b[38;5;28;01mNone\u001b[39;00m):\n\u001b[1;32m   1079\u001b[0m     \u001b[38;5;28;01mfor\u001b[39;00m i, v \u001b[38;5;129;01min\u001b[39;00m \u001b[38;5;28menumerate\u001b[39m(series_gen):\n\u001b[1;32m   1080\u001b[0m         \u001b[38;5;66;03m# ignore SettingWithCopy here in case the user mutates\u001b[39;00m\n\u001b[0;32m-> 1081\u001b[0m         results[i] \u001b[38;5;241m=\u001b[39m \u001b[38;5;28;43mself\u001b[39;49m\u001b[38;5;241;43m.\u001b[39;49m\u001b[43mfunc\u001b[49m\u001b[43m(\u001b[49m\u001b[43mv\u001b[49m\u001b[43m,\u001b[49m\u001b[43m \u001b[49m\u001b[38;5;241;43m*\u001b[39;49m\u001b[38;5;28;43mself\u001b[39;49m\u001b[38;5;241;43m.\u001b[39;49m\u001b[43margs\u001b[49m\u001b[43m,\u001b[49m\u001b[43m \u001b[49m\u001b[38;5;241;43m*\u001b[39;49m\u001b[38;5;241;43m*\u001b[39;49m\u001b[38;5;28;43mself\u001b[39;49m\u001b[38;5;241;43m.\u001b[39;49m\u001b[43mkwargs\u001b[49m\u001b[43m)\u001b[49m\n\u001b[1;32m   1082\u001b[0m         \u001b[38;5;28;01mif\u001b[39;00m \u001b[38;5;28misinstance\u001b[39m(results[i], ABCSeries):\n\u001b[1;32m   1083\u001b[0m             \u001b[38;5;66;03m# If we have a view on v, we need to make a copy because\u001b[39;00m\n\u001b[1;32m   1084\u001b[0m             \u001b[38;5;66;03m#  series_generator will swap out the underlying data\u001b[39;00m\n\u001b[1;32m   1085\u001b[0m             results[i] \u001b[38;5;241m=\u001b[39m results[i]\u001b[38;5;241m.\u001b[39mcopy(deep\u001b[38;5;241m=\u001b[39m\u001b[38;5;28;01mFalse\u001b[39;00m)\n",
      "Cell \u001b[0;32mIn[12], line 5\u001b[0m, in \u001b[0;36m<lambda>\u001b[0;34m(row)\u001b[0m\n\u001b[1;32m      1\u001b[0m \u001b[38;5;66;03m# GENERATE FOR ALL\u001b[39;00m\n\u001b[1;32m      2\u001b[0m \u001b[38;5;66;03m# add sotomayor, petitioner\u001b[39;00m\n\u001b[1;32m      3\u001b[0m justice \u001b[38;5;241m=\u001b[39m \u001b[38;5;124m'\u001b[39m\u001b[38;5;124mJustice Sonia Sotomayor\u001b[39m\u001b[38;5;124m'\u001b[39m\n\u001b[1;32m      4\u001b[0m transcripts_df[\u001b[38;5;124m'\u001b[39m\u001b[38;5;124mquestions_sotomayor_petitioner\u001b[39m\u001b[38;5;124m'\u001b[39m] \u001b[38;5;241m=\u001b[39m transcripts_df\u001b[38;5;241m.\u001b[39mapply(\n\u001b[0;32m----> 5\u001b[0m     \u001b[38;5;28;01mlambda\u001b[39;00m row: \u001b[43madd_justice_questions\u001b[49m\u001b[43m(\u001b[49m\u001b[43mjustice\u001b[49m\u001b[43m,\u001b[49m\u001b[43m \u001b[49m\u001b[43mrow\u001b[49m\u001b[43m[\u001b[49m\u001b[38;5;124;43m'\u001b[39;49m\u001b[38;5;124;43mpetitioner_opening_text\u001b[39;49m\u001b[38;5;124;43m'\u001b[39;49m\u001b[43m]\u001b[49m\u001b[43m)\u001b[49m, axis\u001b[38;5;241m=\u001b[39m\u001b[38;5;241m1\u001b[39m\n\u001b[1;32m      6\u001b[0m )\n\u001b[1;32m      7\u001b[0m transcripts_df\u001b[38;5;241m.\u001b[39mhead()\n",
      "Cell \u001b[0;32mIn[10], line 3\u001b[0m, in \u001b[0;36madd_justice_questions\u001b[0;34m(justice_name, opening_statement)\u001b[0m\n\u001b[1;32m      1\u001b[0m \u001b[38;5;28;01mdef\u001b[39;00m\u001b[38;5;250m \u001b[39m\u001b[38;5;21madd_justice_questions\u001b[39m(justice_name, opening_statement):\n\u001b[1;32m      2\u001b[0m     messages \u001b[38;5;241m=\u001b[39m get_question_generation_prompt(justice_name, opening_statement)\n\u001b[0;32m----> 3\u001b[0m     response \u001b[38;5;241m=\u001b[39m \u001b[43mget_model_response\u001b[49m\u001b[43m(\u001b[49m\u001b[43mmessages\u001b[49m\u001b[43m)\u001b[49m\n\u001b[1;32m      4\u001b[0m     questions \u001b[38;5;241m=\u001b[39m parse_response(response)\n\u001b[1;32m      5\u001b[0m     \u001b[38;5;66;03m# return json string of list of questions to store in pandas df\u001b[39;00m\n",
      "Cell \u001b[0;32mIn[4], line 8\u001b[0m, in \u001b[0;36mget_model_response\u001b[0;34m(messages)\u001b[0m\n\u001b[1;32m      1\u001b[0m \u001b[38;5;28;01mdef\u001b[39;00m\u001b[38;5;250m \u001b[39m\u001b[38;5;21mget_model_response\u001b[39m(messages):\n\u001b[1;32m      3\u001b[0m     payload \u001b[38;5;241m=\u001b[39m {\n\u001b[1;32m      4\u001b[0m         \u001b[38;5;124m\"\u001b[39m\u001b[38;5;124mmodel\u001b[39m\u001b[38;5;124m\"\u001b[39m: model_name,\n\u001b[1;32m      5\u001b[0m         \u001b[38;5;124m\"\u001b[39m\u001b[38;5;124mmessages\u001b[39m\u001b[38;5;124m\"\u001b[39m: messages\n\u001b[1;32m      6\u001b[0m     }\n\u001b[0;32m----> 8\u001b[0m     response \u001b[38;5;241m=\u001b[39m \u001b[43mrequests\u001b[49m\u001b[38;5;241;43m.\u001b[39;49m\u001b[43mpost\u001b[49m\u001b[43m(\u001b[49m\u001b[43murl\u001b[49m\u001b[43m,\u001b[49m\u001b[43m \u001b[49m\u001b[43mdata\u001b[49m\u001b[38;5;241;43m=\u001b[39;49m\u001b[43mjson\u001b[49m\u001b[38;5;241;43m.\u001b[39;49m\u001b[43mdumps\u001b[49m\u001b[43m(\u001b[49m\u001b[43mpayload\u001b[49m\u001b[43m)\u001b[49m\u001b[43m,\u001b[49m\u001b[43m \u001b[49m\u001b[43mheaders\u001b[49m\u001b[38;5;241;43m=\u001b[39;49m\u001b[43mheaders\u001b[49m\u001b[43m)\u001b[49m\n\u001b[1;32m      9\u001b[0m     \u001b[38;5;28;01mreturn\u001b[39;00m response\n",
      "File \u001b[0;32m~/.conda/envs/vllm/lib/python3.10/site-packages/requests/api.py:115\u001b[0m, in \u001b[0;36mpost\u001b[0;34m(url, data, json, **kwargs)\u001b[0m\n\u001b[1;32m    103\u001b[0m \u001b[38;5;28;01mdef\u001b[39;00m\u001b[38;5;250m \u001b[39m\u001b[38;5;21mpost\u001b[39m(url, data\u001b[38;5;241m=\u001b[39m\u001b[38;5;28;01mNone\u001b[39;00m, json\u001b[38;5;241m=\u001b[39m\u001b[38;5;28;01mNone\u001b[39;00m, \u001b[38;5;241m*\u001b[39m\u001b[38;5;241m*\u001b[39mkwargs):\n\u001b[1;32m    104\u001b[0m \u001b[38;5;250m    \u001b[39m\u001b[38;5;124mr\u001b[39m\u001b[38;5;124;03m\"\"\"Sends a POST request.\u001b[39;00m\n\u001b[1;32m    105\u001b[0m \n\u001b[1;32m    106\u001b[0m \u001b[38;5;124;03m    :param url: URL for the new :class:`Request` object.\u001b[39;00m\n\u001b[0;32m   (...)\u001b[0m\n\u001b[1;32m    112\u001b[0m \u001b[38;5;124;03m    :rtype: requests.Response\u001b[39;00m\n\u001b[1;32m    113\u001b[0m \u001b[38;5;124;03m    \"\"\"\u001b[39;00m\n\u001b[0;32m--> 115\u001b[0m     \u001b[38;5;28;01mreturn\u001b[39;00m \u001b[43mrequest\u001b[49m\u001b[43m(\u001b[49m\u001b[38;5;124;43m\"\u001b[39;49m\u001b[38;5;124;43mpost\u001b[39;49m\u001b[38;5;124;43m\"\u001b[39;49m\u001b[43m,\u001b[49m\u001b[43m \u001b[49m\u001b[43murl\u001b[49m\u001b[43m,\u001b[49m\u001b[43m \u001b[49m\u001b[43mdata\u001b[49m\u001b[38;5;241;43m=\u001b[39;49m\u001b[43mdata\u001b[49m\u001b[43m,\u001b[49m\u001b[43m \u001b[49m\u001b[43mjson\u001b[49m\u001b[38;5;241;43m=\u001b[39;49m\u001b[43mjson\u001b[49m\u001b[43m,\u001b[49m\u001b[43m \u001b[49m\u001b[38;5;241;43m*\u001b[39;49m\u001b[38;5;241;43m*\u001b[39;49m\u001b[43mkwargs\u001b[49m\u001b[43m)\u001b[49m\n",
      "File \u001b[0;32m~/.conda/envs/vllm/lib/python3.10/site-packages/requests/api.py:59\u001b[0m, in \u001b[0;36mrequest\u001b[0;34m(method, url, **kwargs)\u001b[0m\n\u001b[1;32m     55\u001b[0m \u001b[38;5;66;03m# By using the 'with' statement we are sure the session is closed, thus we\u001b[39;00m\n\u001b[1;32m     56\u001b[0m \u001b[38;5;66;03m# avoid leaving sockets open which can trigger a ResourceWarning in some\u001b[39;00m\n\u001b[1;32m     57\u001b[0m \u001b[38;5;66;03m# cases, and look like a memory leak in others.\u001b[39;00m\n\u001b[1;32m     58\u001b[0m \u001b[38;5;28;01mwith\u001b[39;00m sessions\u001b[38;5;241m.\u001b[39mSession() \u001b[38;5;28;01mas\u001b[39;00m session:\n\u001b[0;32m---> 59\u001b[0m     \u001b[38;5;28;01mreturn\u001b[39;00m \u001b[43msession\u001b[49m\u001b[38;5;241;43m.\u001b[39;49m\u001b[43mrequest\u001b[49m\u001b[43m(\u001b[49m\u001b[43mmethod\u001b[49m\u001b[38;5;241;43m=\u001b[39;49m\u001b[43mmethod\u001b[49m\u001b[43m,\u001b[49m\u001b[43m \u001b[49m\u001b[43murl\u001b[49m\u001b[38;5;241;43m=\u001b[39;49m\u001b[43murl\u001b[49m\u001b[43m,\u001b[49m\u001b[43m \u001b[49m\u001b[38;5;241;43m*\u001b[39;49m\u001b[38;5;241;43m*\u001b[39;49m\u001b[43mkwargs\u001b[49m\u001b[43m)\u001b[49m\n",
      "File \u001b[0;32m~/.conda/envs/vllm/lib/python3.10/site-packages/requests/sessions.py:589\u001b[0m, in \u001b[0;36mSession.request\u001b[0;34m(self, method, url, params, data, headers, cookies, files, auth, timeout, allow_redirects, proxies, hooks, stream, verify, cert, json)\u001b[0m\n\u001b[1;32m    584\u001b[0m send_kwargs \u001b[38;5;241m=\u001b[39m {\n\u001b[1;32m    585\u001b[0m     \u001b[38;5;124m\"\u001b[39m\u001b[38;5;124mtimeout\u001b[39m\u001b[38;5;124m\"\u001b[39m: timeout,\n\u001b[1;32m    586\u001b[0m     \u001b[38;5;124m\"\u001b[39m\u001b[38;5;124mallow_redirects\u001b[39m\u001b[38;5;124m\"\u001b[39m: allow_redirects,\n\u001b[1;32m    587\u001b[0m }\n\u001b[1;32m    588\u001b[0m send_kwargs\u001b[38;5;241m.\u001b[39mupdate(settings)\n\u001b[0;32m--> 589\u001b[0m resp \u001b[38;5;241m=\u001b[39m \u001b[38;5;28;43mself\u001b[39;49m\u001b[38;5;241;43m.\u001b[39;49m\u001b[43msend\u001b[49m\u001b[43m(\u001b[49m\u001b[43mprep\u001b[49m\u001b[43m,\u001b[49m\u001b[43m \u001b[49m\u001b[38;5;241;43m*\u001b[39;49m\u001b[38;5;241;43m*\u001b[39;49m\u001b[43msend_kwargs\u001b[49m\u001b[43m)\u001b[49m\n\u001b[1;32m    591\u001b[0m \u001b[38;5;28;01mreturn\u001b[39;00m resp\n",
      "File \u001b[0;32m~/.conda/envs/vllm/lib/python3.10/site-packages/requests/sessions.py:703\u001b[0m, in \u001b[0;36mSession.send\u001b[0;34m(self, request, **kwargs)\u001b[0m\n\u001b[1;32m    700\u001b[0m start \u001b[38;5;241m=\u001b[39m preferred_clock()\n\u001b[1;32m    702\u001b[0m \u001b[38;5;66;03m# Send the request\u001b[39;00m\n\u001b[0;32m--> 703\u001b[0m r \u001b[38;5;241m=\u001b[39m \u001b[43madapter\u001b[49m\u001b[38;5;241;43m.\u001b[39;49m\u001b[43msend\u001b[49m\u001b[43m(\u001b[49m\u001b[43mrequest\u001b[49m\u001b[43m,\u001b[49m\u001b[43m \u001b[49m\u001b[38;5;241;43m*\u001b[39;49m\u001b[38;5;241;43m*\u001b[39;49m\u001b[43mkwargs\u001b[49m\u001b[43m)\u001b[49m\n\u001b[1;32m    705\u001b[0m \u001b[38;5;66;03m# Total elapsed time of the request (approximately)\u001b[39;00m\n\u001b[1;32m    706\u001b[0m elapsed \u001b[38;5;241m=\u001b[39m preferred_clock() \u001b[38;5;241m-\u001b[39m start\n",
      "File \u001b[0;32m~/.conda/envs/vllm/lib/python3.10/site-packages/requests/adapters.py:700\u001b[0m, in \u001b[0;36mHTTPAdapter.send\u001b[0;34m(self, request, stream, timeout, verify, cert, proxies)\u001b[0m\n\u001b[1;32m    696\u001b[0m     \u001b[38;5;28;01mif\u001b[39;00m \u001b[38;5;28misinstance\u001b[39m(e\u001b[38;5;241m.\u001b[39mreason, _SSLError):\n\u001b[1;32m    697\u001b[0m         \u001b[38;5;66;03m# This branch is for urllib3 v1.22 and later.\u001b[39;00m\n\u001b[1;32m    698\u001b[0m         \u001b[38;5;28;01mraise\u001b[39;00m SSLError(e, request\u001b[38;5;241m=\u001b[39mrequest)\n\u001b[0;32m--> 700\u001b[0m     \u001b[38;5;28;01mraise\u001b[39;00m \u001b[38;5;167;01mConnectionError\u001b[39;00m(e, request\u001b[38;5;241m=\u001b[39mrequest)\n\u001b[1;32m    702\u001b[0m \u001b[38;5;28;01mexcept\u001b[39;00m ClosedPoolError \u001b[38;5;28;01mas\u001b[39;00m e:\n\u001b[1;32m    703\u001b[0m     \u001b[38;5;28;01mraise\u001b[39;00m \u001b[38;5;167;01mConnectionError\u001b[39;00m(e, request\u001b[38;5;241m=\u001b[39mrequest)\n",
      "\u001b[0;31mConnectionError\u001b[0m: HTTPConnectionPool(host='localhost', port=12257): Max retries exceeded with url: /v1/chat/completions (Caused by NewConnectionError('<urllib3.connection.HTTPConnection object at 0x149af8cda890>: Failed to establish a new connection: [Errno 111] Connection refused'))"
     ]
    },
    {
     "ename": "",
     "evalue": "",
     "output_type": "error",
     "traceback": [
      "\u001b[1;31mThe Kernel crashed while executing code in the current cell or a previous cell. \n",
      "\u001b[1;31mPlease review the code in the cell(s) to identify a possible cause of the failure. \n",
      "\u001b[1;31mClick <a href='https://aka.ms/vscodeJupyterKernelCrash'>here</a> for more info. \n",
      "\u001b[1;31mView Jupyter <a href='command:jupyter.viewOutput'>log</a> for further details."
     ]
    }
   ],
   "source": [
    "for justice in current_justices:\n",
    "    justice_last_name = justice.split()[-1].lower()\n",
    "    transcripts_df[f'questions_{justice_last_name}_petitioner'] = transcripts_df.apply(\n",
    "        lambda row: add_justice_questions(justice, row['petitioner_opening_text']), axis=1)\n",
    "    transcripts_df[f'questions_{justice_last_name}_respondent'] = transcripts_df.apply(\n",
    "    lambda row: add_justice_questions(justice, row['respondent_opening_statement']), axis=1)\n",
    "\n",
    "transcripts_df.head()"
   ]
  },
  {
   "cell_type": "code",
   "execution_count": 16,
   "id": "4229c84b-b24d-4823-a7b0-d6a0f5b50571",
   "metadata": {},
   "outputs": [
    {
     "data": {
      "text/html": [
       "<div>\n",
       "<style scoped>\n",
       "    .dataframe tbody tr th:only-of-type {\n",
       "        vertical-align: middle;\n",
       "    }\n",
       "\n",
       "    .dataframe tbody tr th {\n",
       "        vertical-align: top;\n",
       "    }\n",
       "\n",
       "    .dataframe thead th {\n",
       "        text-align: right;\n",
       "    }\n",
       "</style>\n",
       "<table border=\"1\" class=\"dataframe\">\n",
       "  <thead>\n",
       "    <tr style=\"text-align: right;\">\n",
       "      <th></th>\n",
       "      <th>Unnamed: 0</th>\n",
       "      <th>transcript_id</th>\n",
       "      <th>petitioner_opening_text</th>\n",
       "      <th>petitioner_full_text</th>\n",
       "      <th>respondent_opening_statement</th>\n",
       "      <th>respondent_full_text</th>\n",
       "      <th>questions_sotomayor_petitioner</th>\n",
       "      <th>questions_sotomayor_respondent</th>\n",
       "    </tr>\n",
       "  </thead>\n",
       "  <tbody>\n",
       "    <tr>\n",
       "      <th>0</th>\n",
       "      <td>0</td>\n",
       "      <td>2024.23-621-t01</td>\n",
       "      <td>&lt;speaker&gt;Erika L. Maley&lt;/speaker&gt;&lt;text&gt; Mr. Ch...</td>\n",
       "      <td>&lt;speaker&gt;John G. Roberts, Jr.&lt;/speaker&gt;&lt;text&gt; ...</td>\n",
       "      <td>&lt;speaker&gt;Anthony A. Yang&lt;/speaker&gt;&lt;text&gt; Mr. C...</td>\n",
       "      <td>&lt;speaker&gt;Anthony A. Yang&lt;/speaker&gt;&lt;text&gt; Mr. C...</td>\n",
       "      <td>[\"Petitioner, you argue that a preliminary inj...</td>\n",
       "      <td>[\"How do you respond to the argument that a pr...</td>\n",
       "    </tr>\n",
       "    <tr>\n",
       "      <th>1</th>\n",
       "      <td>1</td>\n",
       "      <td>2024.23-365 -t01</td>\n",
       "      <td>&lt;speaker&gt;Lisa S. Blatt&lt;/speaker&gt;&lt;text&gt; Thank y...</td>\n",
       "      <td>&lt;speaker&gt;John G. Roberts, Jr.&lt;/speaker&gt;&lt;text&gt; ...</td>\n",
       "      <td>&lt;speaker&gt;Easha Anand&lt;/speaker&gt;&lt;text&gt; Mr. Chief...</td>\n",
       "      <td>&lt;speaker&gt;Easha Anand&lt;/speaker&gt;&lt;text&gt; Mr. Chief...</td>\n",
       "      <td>[\"Counselor, how do you respond to the argumen...</td>\n",
       "      <td>[\"Can you explain why the use of \\\"damages sus...</td>\n",
       "    </tr>\n",
       "    <tr>\n",
       "      <th>2</th>\n",
       "      <td>2</td>\n",
       "      <td>2024.23-852-t01</td>\n",
       "      <td>&lt;speaker&gt;Elizabeth B. Prelogar&lt;/speaker&gt;&lt;text&gt;...</td>\n",
       "      <td>&lt;speaker&gt;John G. Roberts, Jr.&lt;/speaker&gt;&lt;text&gt; ...</td>\n",
       "      <td>&lt;speaker&gt;Peter A. Patterson&lt;/speaker&gt;&lt;text&gt; Mr...</td>\n",
       "      <td>&lt;speaker&gt;Peter A. Patterson&lt;/speaker&gt;&lt;text&gt; Mr...</td>\n",
       "      <td>[\"Isn't it true that the proliferation of ghos...</td>\n",
       "      <td>[\"Counsel, can you explain why you believe Con...</td>\n",
       "    </tr>\n",
       "    <tr>\n",
       "      <th>3</th>\n",
       "      <td>3</td>\n",
       "      <td>2024.23-980-t01</td>\n",
       "      <td>&lt;speaker&gt;Kannon K. Shanmugam&lt;/speaker&gt;&lt;text&gt; T...</td>\n",
       "      <td>&lt;speaker&gt;John G. Roberts, Jr.&lt;/speaker&gt;&lt;text&gt; ...</td>\n",
       "      <td>&lt;speaker&gt;Kevin K. Russell&lt;/speaker&gt;&lt;text&gt; Mr. ...</td>\n",
       "      <td>&lt;speaker&gt;Kevin K. Russell&lt;/speaker&gt;&lt;text&gt; Mr. ...</td>\n",
       "      <td>[\"How do you respond to the argument that the ...</td>\n",
       "      <td>[\"Can you explain how your interpretation of t...</td>\n",
       "    </tr>\n",
       "    <tr>\n",
       "      <th>4</th>\n",
       "      <td>4</td>\n",
       "      <td>2024.23-191 -t01</td>\n",
       "      <td>&lt;speaker&gt;Adam G. Unikowsky&lt;/speaker&gt;&lt;text&gt; Mr....</td>\n",
       "      <td>&lt;speaker&gt;John G. Roberts, Jr.&lt;/speaker&gt;&lt;text&gt; ...</td>\n",
       "      <td>&lt;speaker&gt;Edmund G. LaCour, Jr.&lt;/speaker&gt;&lt;text&gt;...</td>\n",
       "      <td>&lt;speaker&gt;Edmund G. LaCour, Jr.&lt;/speaker&gt;&lt;text&gt;...</td>\n",
       "      <td>[\"Counselor, can you explain how the Alabama S...</td>\n",
       "      <td>[\"Can you explain how the distinction between ...</td>\n",
       "    </tr>\n",
       "  </tbody>\n",
       "</table>\n",
       "</div>"
      ],
      "text/plain": [
       "   Unnamed: 0     transcript_id  \\\n",
       "0           0   2024.23-621-t01   \n",
       "1           1  2024.23-365 -t01   \n",
       "2           2   2024.23-852-t01   \n",
       "3           3   2024.23-980-t01   \n",
       "4           4  2024.23-191 -t01   \n",
       "\n",
       "                             petitioner_opening_text  \\\n",
       "0  <speaker>Erika L. Maley</speaker><text> Mr. Ch...   \n",
       "1  <speaker>Lisa S. Blatt</speaker><text> Thank y...   \n",
       "2  <speaker>Elizabeth B. Prelogar</speaker><text>...   \n",
       "3  <speaker>Kannon K. Shanmugam</speaker><text> T...   \n",
       "4  <speaker>Adam G. Unikowsky</speaker><text> Mr....   \n",
       "\n",
       "                                petitioner_full_text  \\\n",
       "0  <speaker>John G. Roberts, Jr.</speaker><text> ...   \n",
       "1  <speaker>John G. Roberts, Jr.</speaker><text> ...   \n",
       "2  <speaker>John G. Roberts, Jr.</speaker><text> ...   \n",
       "3  <speaker>John G. Roberts, Jr.</speaker><text> ...   \n",
       "4  <speaker>John G. Roberts, Jr.</speaker><text> ...   \n",
       "\n",
       "                        respondent_opening_statement  \\\n",
       "0  <speaker>Anthony A. Yang</speaker><text> Mr. C...   \n",
       "1  <speaker>Easha Anand</speaker><text> Mr. Chief...   \n",
       "2  <speaker>Peter A. Patterson</speaker><text> Mr...   \n",
       "3  <speaker>Kevin K. Russell</speaker><text> Mr. ...   \n",
       "4  <speaker>Edmund G. LaCour, Jr.</speaker><text>...   \n",
       "\n",
       "                                respondent_full_text  \\\n",
       "0  <speaker>Anthony A. Yang</speaker><text> Mr. C...   \n",
       "1  <speaker>Easha Anand</speaker><text> Mr. Chief...   \n",
       "2  <speaker>Peter A. Patterson</speaker><text> Mr...   \n",
       "3  <speaker>Kevin K. Russell</speaker><text> Mr. ...   \n",
       "4  <speaker>Edmund G. LaCour, Jr.</speaker><text>...   \n",
       "\n",
       "                      questions_sotomayor_petitioner  \\\n",
       "0  [\"Petitioner, you argue that a preliminary inj...   \n",
       "1  [\"Counselor, how do you respond to the argumen...   \n",
       "2  [\"Isn't it true that the proliferation of ghos...   \n",
       "3  [\"How do you respond to the argument that the ...   \n",
       "4  [\"Counselor, can you explain how the Alabama S...   \n",
       "\n",
       "                      questions_sotomayor_respondent  \n",
       "0  [\"How do you respond to the argument that a pr...  \n",
       "1  [\"Can you explain why the use of \\\"damages sus...  \n",
       "2  [\"Counsel, can you explain why you believe Con...  \n",
       "3  [\"Can you explain how your interpretation of t...  \n",
       "4  [\"Can you explain how the distinction between ...  "
      ]
     },
     "execution_count": 16,
     "metadata": {},
     "output_type": "execute_result"
    }
   ],
   "source": [
    "# add sotomayor, respondent\n",
    "justice = 'Justice Sonia Sotomayor'\n",
    "df['questions_sotomayor_respondent'] = df.apply(\n",
    "    lambda row: add_justice_questions(justice, row['respondent_opening_statement']), axis=1\n",
    ")\n",
    "df.head()"
   ]
  },
  {
   "cell_type": "code",
   "execution_count": 18,
   "id": "0d72e9f4-c332-4273-8dcc-7e76e821c41a",
   "metadata": {},
   "outputs": [],
   "source": [
    "# # save mid way in case notebook crashes\n",
    "model_suffix = model_name.split('/')[1]\n",
    "out_dir = '../datasets/llm_outputs/generate_questions'\n",
    "out_fp = f'{out_dir}/2024_full_text_sotomayor_questions_{model_suffix}.csv'\n",
    "df.to_csv(out_fp, index=False)"
   ]
  },
  {
   "cell_type": "code",
   "execution_count": 19,
   "id": "29230222-d058-432c-90df-8dc552fc961c",
   "metadata": {},
   "outputs": [
    {
     "data": {
      "text/html": [
       "<div>\n",
       "<style scoped>\n",
       "    .dataframe tbody tr th:only-of-type {\n",
       "        vertical-align: middle;\n",
       "    }\n",
       "\n",
       "    .dataframe tbody tr th {\n",
       "        vertical-align: top;\n",
       "    }\n",
       "\n",
       "    .dataframe thead th {\n",
       "        text-align: right;\n",
       "    }\n",
       "</style>\n",
       "<table border=\"1\" class=\"dataframe\">\n",
       "  <thead>\n",
       "    <tr style=\"text-align: right;\">\n",
       "      <th></th>\n",
       "      <th>Unnamed: 0</th>\n",
       "      <th>transcript_id</th>\n",
       "      <th>petitioner_opening_text</th>\n",
       "      <th>petitioner_full_text</th>\n",
       "      <th>respondent_opening_statement</th>\n",
       "      <th>respondent_full_text</th>\n",
       "      <th>questions_sotomayor_petitioner</th>\n",
       "      <th>questions_sotomayor_respondent</th>\n",
       "      <th>questions_alito_respondent</th>\n",
       "    </tr>\n",
       "  </thead>\n",
       "  <tbody>\n",
       "    <tr>\n",
       "      <th>0</th>\n",
       "      <td>0</td>\n",
       "      <td>2024.23-621-t01</td>\n",
       "      <td>&lt;speaker&gt;Erika L. Maley&lt;/speaker&gt;&lt;text&gt; Mr. Ch...</td>\n",
       "      <td>&lt;speaker&gt;John G. Roberts, Jr.&lt;/speaker&gt;&lt;text&gt; ...</td>\n",
       "      <td>&lt;speaker&gt;Anthony A. Yang&lt;/speaker&gt;&lt;text&gt; Mr. C...</td>\n",
       "      <td>&lt;speaker&gt;Anthony A. Yang&lt;/speaker&gt;&lt;text&gt; Mr. C...</td>\n",
       "      <td>[\"Petitioner, you argue that a preliminary inj...</td>\n",
       "      <td>[\"How do you respond to the argument that a pr...</td>\n",
       "      <td>[\"Counselor, can you explain how your interpre...</td>\n",
       "    </tr>\n",
       "    <tr>\n",
       "      <th>1</th>\n",
       "      <td>1</td>\n",
       "      <td>2024.23-365 -t01</td>\n",
       "      <td>&lt;speaker&gt;Lisa S. Blatt&lt;/speaker&gt;&lt;text&gt; Thank y...</td>\n",
       "      <td>&lt;speaker&gt;John G. Roberts, Jr.&lt;/speaker&gt;&lt;text&gt; ...</td>\n",
       "      <td>&lt;speaker&gt;Easha Anand&lt;/speaker&gt;&lt;text&gt; Mr. Chief...</td>\n",
       "      <td>&lt;speaker&gt;Easha Anand&lt;/speaker&gt;&lt;text&gt; Mr. Chief...</td>\n",
       "      <td>[\"Counselor, how do you respond to the argumen...</td>\n",
       "      <td>[\"Can you explain why the use of \\\"damages sus...</td>\n",
       "      <td>[\"Can you explain how the syntax of the senten...</td>\n",
       "    </tr>\n",
       "    <tr>\n",
       "      <th>2</th>\n",
       "      <td>2</td>\n",
       "      <td>2024.23-852-t01</td>\n",
       "      <td>&lt;speaker&gt;Elizabeth B. Prelogar&lt;/speaker&gt;&lt;text&gt;...</td>\n",
       "      <td>&lt;speaker&gt;John G. Roberts, Jr.&lt;/speaker&gt;&lt;text&gt; ...</td>\n",
       "      <td>&lt;speaker&gt;Peter A. Patterson&lt;/speaker&gt;&lt;text&gt; Mr...</td>\n",
       "      <td>&lt;speaker&gt;Peter A. Patterson&lt;/speaker&gt;&lt;text&gt; Mr...</td>\n",
       "      <td>[\"Isn't it true that the proliferation of ghos...</td>\n",
       "      <td>[\"Counsel, can you explain why you believe Con...</td>\n",
       "      <td>[\"Counselor, you argue that the ATF has exceed...</td>\n",
       "    </tr>\n",
       "    <tr>\n",
       "      <th>3</th>\n",
       "      <td>3</td>\n",
       "      <td>2024.23-980-t01</td>\n",
       "      <td>&lt;speaker&gt;Kannon K. Shanmugam&lt;/speaker&gt;&lt;text&gt; T...</td>\n",
       "      <td>&lt;speaker&gt;John G. Roberts, Jr.&lt;/speaker&gt;&lt;text&gt; ...</td>\n",
       "      <td>&lt;speaker&gt;Kevin K. Russell&lt;/speaker&gt;&lt;text&gt; Mr. ...</td>\n",
       "      <td>&lt;speaker&gt;Kevin K. Russell&lt;/speaker&gt;&lt;text&gt; Mr. ...</td>\n",
       "      <td>[\"How do you respond to the argument that the ...</td>\n",
       "      <td>[\"Can you explain how your interpretation of t...</td>\n",
       "      <td>[\"How does your interpretation of the risk dis...</td>\n",
       "    </tr>\n",
       "    <tr>\n",
       "      <th>4</th>\n",
       "      <td>4</td>\n",
       "      <td>2024.23-191 -t01</td>\n",
       "      <td>&lt;speaker&gt;Adam G. Unikowsky&lt;/speaker&gt;&lt;text&gt; Mr....</td>\n",
       "      <td>&lt;speaker&gt;John G. Roberts, Jr.&lt;/speaker&gt;&lt;text&gt; ...</td>\n",
       "      <td>&lt;speaker&gt;Edmund G. LaCour, Jr.&lt;/speaker&gt;&lt;text&gt;...</td>\n",
       "      <td>&lt;speaker&gt;Edmund G. LaCour, Jr.&lt;/speaker&gt;&lt;text&gt;...</td>\n",
       "      <td>[\"Counselor, can you explain how the Alabama S...</td>\n",
       "      <td>[\"Can you explain how the distinction between ...</td>\n",
       "      <td>[\"Can you explain why you think the distinctio...</td>\n",
       "    </tr>\n",
       "  </tbody>\n",
       "</table>\n",
       "</div>"
      ],
      "text/plain": [
       "   Unnamed: 0     transcript_id  \\\n",
       "0           0   2024.23-621-t01   \n",
       "1           1  2024.23-365 -t01   \n",
       "2           2   2024.23-852-t01   \n",
       "3           3   2024.23-980-t01   \n",
       "4           4  2024.23-191 -t01   \n",
       "\n",
       "                             petitioner_opening_text  \\\n",
       "0  <speaker>Erika L. Maley</speaker><text> Mr. Ch...   \n",
       "1  <speaker>Lisa S. Blatt</speaker><text> Thank y...   \n",
       "2  <speaker>Elizabeth B. Prelogar</speaker><text>...   \n",
       "3  <speaker>Kannon K. Shanmugam</speaker><text> T...   \n",
       "4  <speaker>Adam G. Unikowsky</speaker><text> Mr....   \n",
       "\n",
       "                                petitioner_full_text  \\\n",
       "0  <speaker>John G. Roberts, Jr.</speaker><text> ...   \n",
       "1  <speaker>John G. Roberts, Jr.</speaker><text> ...   \n",
       "2  <speaker>John G. Roberts, Jr.</speaker><text> ...   \n",
       "3  <speaker>John G. Roberts, Jr.</speaker><text> ...   \n",
       "4  <speaker>John G. Roberts, Jr.</speaker><text> ...   \n",
       "\n",
       "                        respondent_opening_statement  \\\n",
       "0  <speaker>Anthony A. Yang</speaker><text> Mr. C...   \n",
       "1  <speaker>Easha Anand</speaker><text> Mr. Chief...   \n",
       "2  <speaker>Peter A. Patterson</speaker><text> Mr...   \n",
       "3  <speaker>Kevin K. Russell</speaker><text> Mr. ...   \n",
       "4  <speaker>Edmund G. LaCour, Jr.</speaker><text>...   \n",
       "\n",
       "                                respondent_full_text  \\\n",
       "0  <speaker>Anthony A. Yang</speaker><text> Mr. C...   \n",
       "1  <speaker>Easha Anand</speaker><text> Mr. Chief...   \n",
       "2  <speaker>Peter A. Patterson</speaker><text> Mr...   \n",
       "3  <speaker>Kevin K. Russell</speaker><text> Mr. ...   \n",
       "4  <speaker>Edmund G. LaCour, Jr.</speaker><text>...   \n",
       "\n",
       "                      questions_sotomayor_petitioner  \\\n",
       "0  [\"Petitioner, you argue that a preliminary inj...   \n",
       "1  [\"Counselor, how do you respond to the argumen...   \n",
       "2  [\"Isn't it true that the proliferation of ghos...   \n",
       "3  [\"How do you respond to the argument that the ...   \n",
       "4  [\"Counselor, can you explain how the Alabama S...   \n",
       "\n",
       "                      questions_sotomayor_respondent  \\\n",
       "0  [\"How do you respond to the argument that a pr...   \n",
       "1  [\"Can you explain why the use of \\\"damages sus...   \n",
       "2  [\"Counsel, can you explain why you believe Con...   \n",
       "3  [\"Can you explain how your interpretation of t...   \n",
       "4  [\"Can you explain how the distinction between ...   \n",
       "\n",
       "                          questions_alito_respondent  \n",
       "0  [\"Counselor, can you explain how your interpre...  \n",
       "1  [\"Can you explain how the syntax of the senten...  \n",
       "2  [\"Counselor, you argue that the ATF has exceed...  \n",
       "3  [\"How does your interpretation of the risk dis...  \n",
       "4  [\"Can you explain why you think the distinctio...  "
      ]
     },
     "execution_count": 19,
     "metadata": {},
     "output_type": "execute_result"
    }
   ],
   "source": [
    "# add alito, respondent\n",
    "justice = 'Justice Samuel A. Alito'\n",
    "df['questions_alito_respondent'] = df.apply(\n",
    "    lambda row: add_justice_questions(justice, row['respondent_opening_statement']), axis=1\n",
    ")\n",
    "df.head()"
   ]
  },
  {
   "cell_type": "code",
   "execution_count": 20,
   "id": "3351f5b4-84c7-423a-b4cf-1081799edd5e",
   "metadata": {},
   "outputs": [
    {
     "data": {
      "text/html": [
       "<div>\n",
       "<style scoped>\n",
       "    .dataframe tbody tr th:only-of-type {\n",
       "        vertical-align: middle;\n",
       "    }\n",
       "\n",
       "    .dataframe tbody tr th {\n",
       "        vertical-align: top;\n",
       "    }\n",
       "\n",
       "    .dataframe thead th {\n",
       "        text-align: right;\n",
       "    }\n",
       "</style>\n",
       "<table border=\"1\" class=\"dataframe\">\n",
       "  <thead>\n",
       "    <tr style=\"text-align: right;\">\n",
       "      <th></th>\n",
       "      <th>Unnamed: 0</th>\n",
       "      <th>transcript_id</th>\n",
       "      <th>petitioner_opening_text</th>\n",
       "      <th>petitioner_full_text</th>\n",
       "      <th>respondent_opening_statement</th>\n",
       "      <th>respondent_full_text</th>\n",
       "      <th>questions_sotomayor_petitioner</th>\n",
       "      <th>questions_sotomayor_respondent</th>\n",
       "      <th>questions_alito_respondent</th>\n",
       "      <th>questions_alito_petitioner</th>\n",
       "    </tr>\n",
       "  </thead>\n",
       "  <tbody>\n",
       "    <tr>\n",
       "      <th>0</th>\n",
       "      <td>0</td>\n",
       "      <td>2024.23-621-t01</td>\n",
       "      <td>&lt;speaker&gt;Erika L. Maley&lt;/speaker&gt;&lt;text&gt; Mr. Ch...</td>\n",
       "      <td>&lt;speaker&gt;John G. Roberts, Jr.&lt;/speaker&gt;&lt;text&gt; ...</td>\n",
       "      <td>&lt;speaker&gt;Anthony A. Yang&lt;/speaker&gt;&lt;text&gt; Mr. C...</td>\n",
       "      <td>&lt;speaker&gt;Anthony A. Yang&lt;/speaker&gt;&lt;text&gt; Mr. C...</td>\n",
       "      <td>[\"Petitioner, you argue that a preliminary inj...</td>\n",
       "      <td>[\"How do you respond to the argument that a pr...</td>\n",
       "      <td>[\"Counselor, can you explain how your interpre...</td>\n",
       "      <td>[\"Counselor, how do you respond to the argumen...</td>\n",
       "    </tr>\n",
       "    <tr>\n",
       "      <th>1</th>\n",
       "      <td>1</td>\n",
       "      <td>2024.23-365 -t01</td>\n",
       "      <td>&lt;speaker&gt;Lisa S. Blatt&lt;/speaker&gt;&lt;text&gt; Thank y...</td>\n",
       "      <td>&lt;speaker&gt;John G. Roberts, Jr.&lt;/speaker&gt;&lt;text&gt; ...</td>\n",
       "      <td>&lt;speaker&gt;Easha Anand&lt;/speaker&gt;&lt;text&gt; Mr. Chief...</td>\n",
       "      <td>&lt;speaker&gt;Easha Anand&lt;/speaker&gt;&lt;text&gt; Mr. Chief...</td>\n",
       "      <td>[\"Counselor, how do you respond to the argumen...</td>\n",
       "      <td>[\"Can you explain why the use of \\\"damages sus...</td>\n",
       "      <td>[\"Can you explain how the syntax of the senten...</td>\n",
       "      <td>[\"Can you explain how your interpretation of t...</td>\n",
       "    </tr>\n",
       "    <tr>\n",
       "      <th>2</th>\n",
       "      <td>2</td>\n",
       "      <td>2024.23-852-t01</td>\n",
       "      <td>&lt;speaker&gt;Elizabeth B. Prelogar&lt;/speaker&gt;&lt;text&gt;...</td>\n",
       "      <td>&lt;speaker&gt;John G. Roberts, Jr.&lt;/speaker&gt;&lt;text&gt; ...</td>\n",
       "      <td>&lt;speaker&gt;Peter A. Patterson&lt;/speaker&gt;&lt;text&gt; Mr...</td>\n",
       "      <td>&lt;speaker&gt;Peter A. Patterson&lt;/speaker&gt;&lt;text&gt; Mr...</td>\n",
       "      <td>[\"Isn't it true that the proliferation of ghos...</td>\n",
       "      <td>[\"Counsel, can you explain why you believe Con...</td>\n",
       "      <td>[\"Counselor, you argue that the ATF has exceed...</td>\n",
       "      <td>[\"Can you explain how the ATF's new rule addre...</td>\n",
       "    </tr>\n",
       "    <tr>\n",
       "      <th>3</th>\n",
       "      <td>3</td>\n",
       "      <td>2024.23-980-t01</td>\n",
       "      <td>&lt;speaker&gt;Kannon K. Shanmugam&lt;/speaker&gt;&lt;text&gt; T...</td>\n",
       "      <td>&lt;speaker&gt;John G. Roberts, Jr.&lt;/speaker&gt;&lt;text&gt; ...</td>\n",
       "      <td>&lt;speaker&gt;Kevin K. Russell&lt;/speaker&gt;&lt;text&gt; Mr. ...</td>\n",
       "      <td>&lt;speaker&gt;Kevin K. Russell&lt;/speaker&gt;&lt;text&gt; Mr. ...</td>\n",
       "      <td>[\"How do you respond to the argument that the ...</td>\n",
       "      <td>[\"Can you explain how your interpretation of t...</td>\n",
       "      <td>[\"How does your interpretation of the risk dis...</td>\n",
       "      <td>[\"Counselor, how does the Ninth Circuit's appr...</td>\n",
       "    </tr>\n",
       "    <tr>\n",
       "      <th>4</th>\n",
       "      <td>4</td>\n",
       "      <td>2024.23-191 -t01</td>\n",
       "      <td>&lt;speaker&gt;Adam G. Unikowsky&lt;/speaker&gt;&lt;text&gt; Mr....</td>\n",
       "      <td>&lt;speaker&gt;John G. Roberts, Jr.&lt;/speaker&gt;&lt;text&gt; ...</td>\n",
       "      <td>&lt;speaker&gt;Edmund G. LaCour, Jr.&lt;/speaker&gt;&lt;text&gt;...</td>\n",
       "      <td>&lt;speaker&gt;Edmund G. LaCour, Jr.&lt;/speaker&gt;&lt;text&gt;...</td>\n",
       "      <td>[\"Counselor, can you explain how the Alabama S...</td>\n",
       "      <td>[\"Can you explain how the distinction between ...</td>\n",
       "      <td>[\"Can you explain why you think the distinctio...</td>\n",
       "      <td>[\"Can you explain how the Alabama statute at i...</td>\n",
       "    </tr>\n",
       "  </tbody>\n",
       "</table>\n",
       "</div>"
      ],
      "text/plain": [
       "   Unnamed: 0     transcript_id  \\\n",
       "0           0   2024.23-621-t01   \n",
       "1           1  2024.23-365 -t01   \n",
       "2           2   2024.23-852-t01   \n",
       "3           3   2024.23-980-t01   \n",
       "4           4  2024.23-191 -t01   \n",
       "\n",
       "                             petitioner_opening_text  \\\n",
       "0  <speaker>Erika L. Maley</speaker><text> Mr. Ch...   \n",
       "1  <speaker>Lisa S. Blatt</speaker><text> Thank y...   \n",
       "2  <speaker>Elizabeth B. Prelogar</speaker><text>...   \n",
       "3  <speaker>Kannon K. Shanmugam</speaker><text> T...   \n",
       "4  <speaker>Adam G. Unikowsky</speaker><text> Mr....   \n",
       "\n",
       "                                petitioner_full_text  \\\n",
       "0  <speaker>John G. Roberts, Jr.</speaker><text> ...   \n",
       "1  <speaker>John G. Roberts, Jr.</speaker><text> ...   \n",
       "2  <speaker>John G. Roberts, Jr.</speaker><text> ...   \n",
       "3  <speaker>John G. Roberts, Jr.</speaker><text> ...   \n",
       "4  <speaker>John G. Roberts, Jr.</speaker><text> ...   \n",
       "\n",
       "                        respondent_opening_statement  \\\n",
       "0  <speaker>Anthony A. Yang</speaker><text> Mr. C...   \n",
       "1  <speaker>Easha Anand</speaker><text> Mr. Chief...   \n",
       "2  <speaker>Peter A. Patterson</speaker><text> Mr...   \n",
       "3  <speaker>Kevin K. Russell</speaker><text> Mr. ...   \n",
       "4  <speaker>Edmund G. LaCour, Jr.</speaker><text>...   \n",
       "\n",
       "                                respondent_full_text  \\\n",
       "0  <speaker>Anthony A. Yang</speaker><text> Mr. C...   \n",
       "1  <speaker>Easha Anand</speaker><text> Mr. Chief...   \n",
       "2  <speaker>Peter A. Patterson</speaker><text> Mr...   \n",
       "3  <speaker>Kevin K. Russell</speaker><text> Mr. ...   \n",
       "4  <speaker>Edmund G. LaCour, Jr.</speaker><text>...   \n",
       "\n",
       "                      questions_sotomayor_petitioner  \\\n",
       "0  [\"Petitioner, you argue that a preliminary inj...   \n",
       "1  [\"Counselor, how do you respond to the argumen...   \n",
       "2  [\"Isn't it true that the proliferation of ghos...   \n",
       "3  [\"How do you respond to the argument that the ...   \n",
       "4  [\"Counselor, can you explain how the Alabama S...   \n",
       "\n",
       "                      questions_sotomayor_respondent  \\\n",
       "0  [\"How do you respond to the argument that a pr...   \n",
       "1  [\"Can you explain why the use of \\\"damages sus...   \n",
       "2  [\"Counsel, can you explain why you believe Con...   \n",
       "3  [\"Can you explain how your interpretation of t...   \n",
       "4  [\"Can you explain how the distinction between ...   \n",
       "\n",
       "                          questions_alito_respondent  \\\n",
       "0  [\"Counselor, can you explain how your interpre...   \n",
       "1  [\"Can you explain how the syntax of the senten...   \n",
       "2  [\"Counselor, you argue that the ATF has exceed...   \n",
       "3  [\"How does your interpretation of the risk dis...   \n",
       "4  [\"Can you explain why you think the distinctio...   \n",
       "\n",
       "                          questions_alito_petitioner  \n",
       "0  [\"Counselor, how do you respond to the argumen...  \n",
       "1  [\"Can you explain how your interpretation of t...  \n",
       "2  [\"Can you explain how the ATF's new rule addre...  \n",
       "3  [\"Counselor, how does the Ninth Circuit's appr...  \n",
       "4  [\"Can you explain how the Alabama statute at i...  "
      ]
     },
     "execution_count": 20,
     "metadata": {},
     "output_type": "execute_result"
    }
   ],
   "source": [
    "# GENERATE FOR ALL\n",
    "# add alito, petitioner\n",
    "justice = 'Justice Samuel A. Alito'\n",
    "df['questions_alito_petitioner'] = df.apply(\n",
    "    lambda row: add_justice_questions(justice, row['petitioner_opening_text']), axis=1\n",
    ")\n",
    "df.head()"
   ]
  },
  {
   "cell_type": "code",
   "execution_count": 21,
   "id": "ba18fc39-faf8-49d1-ac2b-af0d6ad43e6f",
   "metadata": {},
   "outputs": [],
   "source": [
    "# save final df\n",
    "model_suffix = model_name.split('/')[1]\n",
    "out_dir = '../datasets/llm_outputs/generate_questions'\n",
    "out_fp = f'{out_dir}/2024_full_text_sotomayor_alito_questions_{model_suffix}.csv'\n",
    "df.to_csv(out_fp, index=False)"
   ]
  },
  {
   "cell_type": "markdown",
   "id": "1a88098a-506b-4a95-a64c-9897664eb54f",
   "metadata": {
    "tags": []
   },
   "source": [
    "### Try sample call"
   ]
  },
  {
   "cell_type": "code",
   "execution_count": 80,
   "id": "5c8a2a10-904d-4246-bcfb-a1166a767705",
   "metadata": {},
   "outputs": [
    {
     "data": {
      "text/plain": [
       "'<speaker>Erika L. Maley</speaker><text> Mr. Chief Justice, and may it please the Court:  The prevailing party is the party who wins the lawsuit, obtaining a final judgment in its favor, or at least a party who obtains a ruling that the defendant is liable on the merits of one or more claims, such as a summary judgment or a judgment as a matter of law. A preliminary injunction is neither a final judgment nor a determination that the defendant is liable on the merits for violating federal law. It is simply a threshold prediction of the likelihood of success based on a truncated record and an initial, often hasty assessment of the law that may well prove to be faulty as the case proceeds. It provid es no enduring relief. By its nature, it is a temporary procedural order that dissolves upon final judgment. A preliminary injunction, therefore, does not make a plaintiff a prevailing party  within the meaning of that legal term of art, and, thus, no statutory exception to the de fault American rule applies. Legal dictionaries at the time Congress enacted Section 1988 defined  \"prevailing party\" based on whether the party had successfully maintained its claim, looking to the end of the suit, not on its degree of success at earlier stages. This Court\\'s precedent similarly provides that liability for fees and liability on the merits go hand in hand. The Court should therefore adopt a bright-line rule serving the critical interest in ready administrability that a preliminary injunction does not make a plaintiff the prevailing party. I look forward to this Court\\'s questions.</text>'"
      ]
     },
     "execution_count": 80,
     "metadata": {},
     "output_type": "execute_result"
    }
   ],
   "source": [
    "sample_os = df['petitioner_opening_text'][0]\n",
    "sample_os"
   ]
  },
  {
   "cell_type": "code",
   "execution_count": 81,
   "id": "37731ed1-8dd3-4650-96fb-4bee1295bb73",
   "metadata": {},
   "outputs": [],
   "source": [
    "justice = 'Justice Sonia Sotomayor'"
   ]
  },
  {
   "cell_type": "code",
   "execution_count": 82,
   "id": "6906b82c-d1b6-466f-9f35-297870e7dee6",
   "metadata": {},
   "outputs": [
    {
     "data": {
      "text/plain": [
       "[{'role': 'system',\n",
       "  'content': 'You are a legal expert trained to simulate the questioning style of Supreme Court justices during oral arguments. Below is an opening statement from a Supreme Court case and the name of a specific justice. Your task is to generate a list of questions that this justice is likely to ask in response to the opening statement. These questions should reflect the justice’s known priorities, jurisprudence, and typical questioning style, and they should be directly relevant to the arguments presented in the opening statement.\\n\\n        ### Instructions:\\n        1. Carefully analyze the opening statement to identify key arguments, assumptions, or ambiguities.\\n        2. Generate questions that the specified justice might ask.\\n        3. Format each question with specific start and end tags for easier parsing:\\n           - Use `<START_Q>` at the beginning of each question.\\n           - Use `<END_Q>` at the end of each question.\\n\\n        ### Example:\\n        Justice: Justice Oliver Wendell Holmes Jr.\\n        Opening Statement: Congress intended a preponderance of the evidence standard to apply to FLSA exemptions. Respondents argue for a clear and convincing evidence standard due to the importance of overtime rights. However, waivability of rights and standards of proof are unrelated.\\n\\n        Generated Questions:\\n        <START_Q> Is there any explicit legislative language that supports your claim regarding the preponderance standard? <END_Q>\\n        <START_Q> How does the principle of statutory construction guide us in resolving ambiguities in this case? <END_Q>\\n        <START_Q> Would adopting a clear and convincing standard conflict with the broader purpose of the Fair Labor Standards Act? <END_Q>\\n        <START_Q> How do you reconcile your argument with precedents where the Court imposed heightened standards for \"important\" rights? <END_Q>\\n\\n        ### Your Task:\\n        Justice: {justice_name}\\n        Opening Statement: {opening_statement}\\n\\n        ### Output:\\n        A list of questions that {justice_name} is likely to ask:\\n        <START_Q> text of question one <END_Q>\\n        <START_Q> text of question two <END_Q>\\n        <START_Q> text of question three <END_Q>\\n\\n    '},\n",
       " {'role': 'user',\n",
       "  'content': '### Your Task:\\n        Justice: Justice Sonia Sotomayor\\n        Opening Statement: <speaker>Erika L. Maley</speaker><text> Mr. Chief Justice, and may it please the Court:  The prevailing party is the party who wins the lawsuit, obtaining a final judgment in its favor, or at least a party who obtains a ruling that the defendant is liable on the merits of one or more claims, such as a summary judgment or a judgment as a matter of law. A preliminary injunction is neither a final judgment nor a determination that the defendant is liable on the merits for violating federal law. It is simply a threshold prediction of the likelihood of success based on a truncated record and an initial, often hasty assessment of the law that may well prove to be faulty as the case proceeds. It provid es no enduring relief. By its nature, it is a temporary procedural order that dissolves upon final judgment. A preliminary injunction, therefore, does not make a plaintiff a prevailing party  within the meaning of that legal term of art, and, thus, no statutory exception to the de fault American rule applies. Legal dictionaries at the time Congress enacted Section 1988 defined  \"prevailing party\" based on whether the party had successfully maintained its claim, looking to the end of the suit, not on its degree of success at earlier stages. This Court\\'s precedent similarly provides that liability for fees and liability on the merits go hand in hand. The Court should therefore adopt a bright-line rule serving the critical interest in ready administrability that a preliminary injunction does not make a plaintiff the prevailing party. I look forward to this Court\\'s questions.</text>\\n\\n        ### Output:\\n    '}]"
      ]
     },
     "execution_count": 82,
     "metadata": {},
     "output_type": "execute_result"
    }
   ],
   "source": [
    "messages = get_question_generation_prompt(justice, sample_os)\n",
    "messages"
   ]
  },
  {
   "cell_type": "code",
   "execution_count": 83,
   "id": "00dabde6-1dc5-46a6-958d-bf5c3e926188",
   "metadata": {},
   "outputs": [],
   "source": [
    "response = get_model_response(messages)"
   ]
  },
  {
   "cell_type": "code",
   "execution_count": 84,
   "id": "673a678a-c444-485f-b724-8a385cf77754",
   "metadata": {},
   "outputs": [
    {
     "data": {
      "text/plain": [
       "'{\"id\":\"chat-daff385ee8ef45ae8f5659e1844e80a3\",\"object\":\"chat.completion\",\"created\":1732721203,\"model\":\"meta-llama/Meta-Llama-3.1-70B-Instruct\",\"choices\":[{\"index\":0,\"message\":{\"role\":\"assistant\",\"content\":\"A list of questions that Justice Sonia Sotomayor is likely to ask:\\\\n<START_Q> Counselor, doesn\\'t the temporary nature of a preliminary injunction actually underscore its importance in protecting the rights of plaintiffs who may not have the resources to see the case through to a final judgment, and wouldn\\'t denying them prevailing party status under these circumstances undermine the very purpose of Section 1988? <END_Q>\\\\n<START_Q> You rely on legal dictionaries from the time of Section 1988\\'s enactment, but isn\\'t it also relevant to consider the legislative history and the intent behind the statute, which was to encourage the enforcement of civil rights laws and provide a means for plaintiffs to recover attorneys\\' fees in doing so? <END_Q>\\\\n<START_Q> How do you respond to the argument that adopting a bright-line rule that a preliminary injunction does not make a plaintiff a prevailing party could have a chilling effect on plaintiffs who seek to vindicate their rights through preliminary relief, particularly in cases where the defendant\\'s actions are causing irreparable harm? <END_Q>\\\\n<START_Q> Doesn\\'t the Court\\'s precedent on liability for fees and liability on the merits suggest that there\\'s a more nuanced inquiry to be had here, one that looks not just to the final judgment but also to the relief obtained by the plaintiff throughout the course of the litigation? <END_Q>\\\\n<START_Q> Can you explain why a preliminary injunction, which is often granted after a rigorous showing of likelihood of success on the merits, should be treated as somehow less significant than a final judgment when it comes to determining prevailing party status, especially when the practical effect of the injunction can be just as profound? <END_Q>\",\"tool_calls\":[]},\"logprobs\":null,\"finish_reason\":\"stop\",\"stop_reason\":null}],\"usage\":{\"prompt_tokens\":812,\"total_tokens\":1156,\"completion_tokens\":344},\"prompt_logprobs\":null}'"
      ]
     },
     "execution_count": 84,
     "metadata": {},
     "output_type": "execute_result"
    }
   ],
   "source": [
    "content = response.content.decode('utf-8')\n",
    "content"
   ]
  },
  {
   "cell_type": "code",
   "execution_count": 91,
   "id": "10386aeb-3327-44c4-b809-f0f883e037be",
   "metadata": {},
   "outputs": [
    {
     "data": {
      "text/plain": [
       "[\"Counselor, doesn't the temporary nature of a preliminary injunction actually underscore its importance in protecting the rights of plaintiffs who may not have the resources to see the case through to a final judgment, and wouldn't denying them prevailing party status under these circumstances undermine the very purpose of Section 1988?\",\n",
       " \"You rely on legal dictionaries from the time of Section 1988's enactment, but isn't it also relevant to consider the legislative history and the intent behind the statute, which was to encourage the enforcement of civil rights laws and provide a means for plaintiffs to recover attorneys' fees in doing so?\",\n",
       " \"How do you respond to the argument that adopting a bright-line rule that a preliminary injunction does not make a plaintiff a prevailing party could have a chilling effect on plaintiffs who seek to vindicate their rights through preliminary relief, particularly in cases where the defendant's actions are causing irreparable harm?\",\n",
       " \"Doesn't the Court's precedent on liability for fees and liability on the merits suggest that there's a more nuanced inquiry to be had here, one that looks not just to the final judgment but also to the relief obtained by the plaintiff throughout the course of the litigation?\",\n",
       " 'Can you explain why a preliminary injunction, which is often granted after a rigorous showing of likelihood of success on the merits, should be treated as somehow less significant than a final judgment when it comes to determining prevailing party status, especially when the practical effect of the injunction can be just as profound?']"
      ]
     },
     "execution_count": 91,
     "metadata": {},
     "output_type": "execute_result"
    }
   ],
   "source": [
    "questions = parse_response(response)\n",
    "questions"
   ]
  },
  {
   "cell_type": "code",
   "execution_count": 117,
   "id": "bf48ef88-352c-498b-a487-0616f79fdf90",
   "metadata": {},
   "outputs": [
    {
     "name": "stdout",
     "output_type": "stream",
     "text": [
      "Counselor, doesn't the temporary nature of a preliminary injunction actually underscore its importance in protecting the rights of plaintiffs who may not have the resources to see the case through to a final judgment, and wouldn't denying them prevailing party status under these circumstances undermine the very purpose of Section 1988?\n",
      "You rely on legal dictionaries from the time of Section 1988's enactment, but isn't it also relevant to consider the legislative history and the intent behind the statute, which was to encourage the enforcement of civil rights laws and provide a means for plaintiffs to recover attorneys' fees in doing so?\n",
      "How do you respond to the argument that adopting a bright-line rule that a preliminary injunction does not make a plaintiff a prevailing party could have a chilling effect on plaintiffs who seek to vindicate their rights through preliminary relief, particularly in cases where the defendant's actions are causing irreparable harm?\n",
      "Doesn't the Court's precedent on liability for fees and liability on the merits suggest that there's a more nuanced inquiry to be had here, one that looks not just to the final judgment but also to the relief obtained by the plaintiff throughout the course of the litigation?\n",
      "Can you explain why a preliminary injunction, which is often granted after a rigorous showing of likelihood of success on the merits, should be treated as somehow less significant than a final judgment when it comes to determining prevailing party status, especially when the practical effect of the injunction can be just as profound?\n"
     ]
    }
   ],
   "source": [
    "type(questions)\n",
    "for q in questions:\n",
    "    print(q)"
   ]
  },
  {
   "cell_type": "code",
   "execution_count": 118,
   "id": "9a8ad904-df7a-4a66-af34-31566b41557b",
   "metadata": {},
   "outputs": [
    {
     "data": {
      "text/plain": [
       "'[\"Counselor, doesn\\'t the temporary nature of a preliminary injunction actually underscore its importance in protecting the rights of plaintiffs who may not have the resources to see the case through to a final judgment, and wouldn\\'t denying them prevailing party status under these circumstances undermine the very purpose of Section 1988?\", \"You rely on legal dictionaries from the time of Section 1988\\'s enactment, but isn\\'t it also relevant to consider the legislative history and the intent behind the statute, which was to encourage the enforcement of civil rights laws and provide a means for plaintiffs to recover attorneys\\' fees in doing so?\", \"How do you respond to the argument that adopting a bright-line rule that a preliminary injunction does not make a plaintiff a prevailing party could have a chilling effect on plaintiffs who seek to vindicate their rights through preliminary relief, particularly in cases where the defendant\\'s actions are causing irreparable harm?\", \"Doesn\\'t the Court\\'s precedent on liability for fees and liability on the merits suggest that there\\'s a more nuanced inquiry to be had here, one that looks not just to the final judgment but also to the relief obtained by the plaintiff throughout the course of the litigation?\", \"Can you explain why a preliminary injunction, which is often granted after a rigorous showing of likelihood of success on the merits, should be treated as somehow less significant than a final judgment when it comes to determining prevailing party status, especially when the practical effect of the injunction can be just as profound?\"]'"
      ]
     },
     "execution_count": 118,
     "metadata": {},
     "output_type": "execute_result"
    }
   ],
   "source": [
    "qs_str = json.dumps(questions)\n",
    "qs_str"
   ]
  },
  {
   "cell_type": "code",
   "execution_count": 119,
   "id": "184d19f6-ba24-496f-a927-de7159857c34",
   "metadata": {},
   "outputs": [
    {
     "data": {
      "text/plain": [
       "[\"Counselor, doesn't the temporary nature of a preliminary injunction actually underscore its importance in protecting the rights of plaintiffs who may not have the resources to see the case through to a final judgment, and wouldn't denying them prevailing party status under these circumstances undermine the very purpose of Section 1988?\",\n",
       " \"You rely on legal dictionaries from the time of Section 1988's enactment, but isn't it also relevant to consider the legislative history and the intent behind the statute, which was to encourage the enforcement of civil rights laws and provide a means for plaintiffs to recover attorneys' fees in doing so?\",\n",
       " \"How do you respond to the argument that adopting a bright-line rule that a preliminary injunction does not make a plaintiff a prevailing party could have a chilling effect on plaintiffs who seek to vindicate their rights through preliminary relief, particularly in cases where the defendant's actions are causing irreparable harm?\",\n",
       " \"Doesn't the Court's precedent on liability for fees and liability on the merits suggest that there's a more nuanced inquiry to be had here, one that looks not just to the final judgment but also to the relief obtained by the plaintiff throughout the course of the litigation?\",\n",
       " 'Can you explain why a preliminary injunction, which is often granted after a rigorous showing of likelihood of success on the merits, should be treated as somehow less significant than a final judgment when it comes to determining prevailing party status, especially when the practical effect of the injunction can be just as profound?']"
      ]
     },
     "execution_count": 119,
     "metadata": {},
     "output_type": "execute_result"
    }
   ],
   "source": [
    "qs_orig = json.loads(qs_str)\n",
    "qs_orig"
   ]
  },
  {
   "cell_type": "code",
   "execution_count": 120,
   "id": "260c497d-b78d-44cd-a45e-73a319037e6c",
   "metadata": {},
   "outputs": [
    {
     "name": "stdout",
     "output_type": "stream",
     "text": [
      "Counselor, doesn't the temporary nature of a preliminary injunction actually underscore its importance in protecting the rights of plaintiffs who may not have the resources to see the case through to a final judgment, and wouldn't denying them prevailing party status under these circumstances undermine the very purpose of Section 1988?\n",
      "You rely on legal dictionaries from the time of Section 1988's enactment, but isn't it also relevant to consider the legislative history and the intent behind the statute, which was to encourage the enforcement of civil rights laws and provide a means for plaintiffs to recover attorneys' fees in doing so?\n",
      "How do you respond to the argument that adopting a bright-line rule that a preliminary injunction does not make a plaintiff a prevailing party could have a chilling effect on plaintiffs who seek to vindicate their rights through preliminary relief, particularly in cases where the defendant's actions are causing irreparable harm?\n",
      "Doesn't the Court's precedent on liability for fees and liability on the merits suggest that there's a more nuanced inquiry to be had here, one that looks not just to the final judgment but also to the relief obtained by the plaintiff throughout the course of the litigation?\n",
      "Can you explain why a preliminary injunction, which is often granted after a rigorous showing of likelihood of success on the merits, should be treated as somehow less significant than a final judgment when it comes to determining prevailing party status, especially when the practical effect of the injunction can be just as profound?\n"
     ]
    }
   ],
   "source": [
    "type(questions)\n",
    "for q in questions:\n",
    "    print(q)"
   ]
  }
 ],
 "metadata": {
  "kernelspec": {
   "display_name": "llama_finetuning_env",
   "language": "python",
   "name": "python3"
  },
  "language_info": {
   "codemirror_mode": {
    "name": "ipython",
    "version": 3
   },
   "file_extension": ".py",
   "mimetype": "text/x-python",
   "name": "python",
   "nbconvert_exporter": "python",
   "pygments_lexer": "ipython3",
   "version": "3.11.11"
  }
 },
 "nbformat": 4,
 "nbformat_minor": 5
}
