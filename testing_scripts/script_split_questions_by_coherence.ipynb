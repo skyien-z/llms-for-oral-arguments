{
 "cells": [
  {
   "cell_type": "markdown",
   "metadata": {},
   "source": [
    "#### Split questions by llama coherence judgments"
   ]
  },
  {
   "cell_type": "code",
   "execution_count": 1,
   "metadata": {},
   "outputs": [],
   "source": [
    "import pandas as pd"
   ]
  },
  {
   "cell_type": "code",
   "execution_count": 2,
   "metadata": {},
   "outputs": [
    {
     "data": {
      "text/html": [
       "<div>\n",
       "<style scoped>\n",
       "    .dataframe tbody tr th:only-of-type {\n",
       "        vertical-align: middle;\n",
       "    }\n",
       "\n",
       "    .dataframe tbody tr th {\n",
       "        vertical-align: top;\n",
       "    }\n",
       "\n",
       "    .dataframe thead th {\n",
       "        text-align: right;\n",
       "    }\n",
       "</style>\n",
       "<table border=\"1\" class=\"dataframe\">\n",
       "  <thead>\n",
       "    <tr style=\"text-align: right;\">\n",
       "      <th></th>\n",
       "      <th>transcript_id</th>\n",
       "      <th>question_addressee</th>\n",
       "      <th>justice</th>\n",
       "      <th>question_text</th>\n",
       "      <th>opening_statement</th>\n",
       "      <th>full_text</th>\n",
       "      <th>label</th>\n",
       "    </tr>\n",
       "  </thead>\n",
       "  <tbody>\n",
       "    <tr>\n",
       "      <th>0</th>\n",
       "      <td>2024.23-621-t01</td>\n",
       "      <td>petitioner</td>\n",
       "      <td>Clarence Thomas</td>\n",
       "      <td>You --can a consent decree or a default judgm...</td>\n",
       "      <td>&lt;speaker&gt;Erika L. Maley&lt;/speaker&gt;&lt;text&gt; Mr. Ch...</td>\n",
       "      <td>&lt;speaker&gt;John G. Roberts, Jr.&lt;/speaker&gt;&lt;text&gt; ...</td>\n",
       "      <td>incoherent</td>\n",
       "    </tr>\n",
       "    <tr>\n",
       "      <th>1</th>\n",
       "      <td>2024.23-621-t01</td>\n",
       "      <td>petitioner</td>\n",
       "      <td>Clarence Thomas</td>\n",
       "      <td>But I thought your argument hinged on a court...</td>\n",
       "      <td>&lt;speaker&gt;Erika L. Maley&lt;/speaker&gt;&lt;text&gt; Mr. Ch...</td>\n",
       "      <td>&lt;speaker&gt;John G. Roberts, Jr.&lt;/speaker&gt;&lt;text&gt; ...</td>\n",
       "      <td>coherent</td>\n",
       "    </tr>\n",
       "    <tr>\n",
       "      <th>2</th>\n",
       "      <td>2024.23-621-t01</td>\n",
       "      <td>petitioner</td>\n",
       "      <td>John G. Roberts, Jr.</td>\n",
       "      <td>What do you do with the formulation by your f...</td>\n",
       "      <td>&lt;speaker&gt;Erika L. Maley&lt;/speaker&gt;&lt;text&gt; Mr. Ch...</td>\n",
       "      <td>&lt;speaker&gt;John G. Roberts, Jr.&lt;/speaker&gt;&lt;text&gt; ...</td>\n",
       "      <td>incoherent</td>\n",
       "    </tr>\n",
       "    <tr>\n",
       "      <th>3</th>\n",
       "      <td>2024.23-621-t01</td>\n",
       "      <td>petitioner</td>\n",
       "      <td>Elena Kagan</td>\n",
       "      <td>Well, it's  -- it's true that it's only a lik...</td>\n",
       "      <td>&lt;speaker&gt;Erika L. Maley&lt;/speaker&gt;&lt;text&gt; Mr. Ch...</td>\n",
       "      <td>&lt;speaker&gt;John G. Roberts, Jr.&lt;/speaker&gt;&lt;text&gt; ...</td>\n",
       "      <td>coherent</td>\n",
       "    </tr>\n",
       "    <tr>\n",
       "      <th>4</th>\n",
       "      <td>2024.23-621-t01</td>\n",
       "      <td>petitioner</td>\n",
       "      <td>Ketanji Brown Jackson</td>\n",
       "      <td>But it's not that determination that's making...</td>\n",
       "      <td>&lt;speaker&gt;Erika L. Maley&lt;/speaker&gt;&lt;text&gt; Mr. Ch...</td>\n",
       "      <td>&lt;speaker&gt;John G. Roberts, Jr.&lt;/speaker&gt;&lt;text&gt; ...</td>\n",
       "      <td>coherent</td>\n",
       "    </tr>\n",
       "  </tbody>\n",
       "</table>\n",
       "</div>"
      ],
      "text/plain": [
       "     transcript_id question_addressee                justice  \\\n",
       "0  2024.23-621-t01         petitioner        Clarence Thomas   \n",
       "1  2024.23-621-t01         petitioner        Clarence Thomas   \n",
       "2  2024.23-621-t01         petitioner   John G. Roberts, Jr.   \n",
       "3  2024.23-621-t01         petitioner            Elena Kagan   \n",
       "4  2024.23-621-t01         petitioner  Ketanji Brown Jackson   \n",
       "\n",
       "                                       question_text  \\\n",
       "0   You --can a consent decree or a default judgm...   \n",
       "1   But I thought your argument hinged on a court...   \n",
       "2   What do you do with the formulation by your f...   \n",
       "3   Well, it's  -- it's true that it's only a lik...   \n",
       "4   But it's not that determination that's making...   \n",
       "\n",
       "                                   opening_statement  \\\n",
       "0  <speaker>Erika L. Maley</speaker><text> Mr. Ch...   \n",
       "1  <speaker>Erika L. Maley</speaker><text> Mr. Ch...   \n",
       "2  <speaker>Erika L. Maley</speaker><text> Mr. Ch...   \n",
       "3  <speaker>Erika L. Maley</speaker><text> Mr. Ch...   \n",
       "4  <speaker>Erika L. Maley</speaker><text> Mr. Ch...   \n",
       "\n",
       "                                           full_text       label  \n",
       "0  <speaker>John G. Roberts, Jr.</speaker><text> ...  incoherent  \n",
       "1  <speaker>John G. Roberts, Jr.</speaker><text> ...    coherent  \n",
       "2  <speaker>John G. Roberts, Jr.</speaker><text> ...  incoherent  \n",
       "3  <speaker>John G. Roberts, Jr.</speaker><text> ...    coherent  \n",
       "4  <speaker>John G. Roberts, Jr.</speaker><text> ...    coherent  "
      ]
     },
     "execution_count": 2,
     "metadata": {},
     "output_type": "execute_result"
    }
   ],
   "source": [
    "input_fp = '../datasets/2024_all_questions_coherence_labeled_Meta-Llama-3.1-70B-Instruct.csv'\n",
    "df_all = pd.read_csv(input_fp)\n",
    "df_all.head()"
   ]
  },
  {
   "cell_type": "code",
   "execution_count": 4,
   "metadata": {},
   "outputs": [],
   "source": [
    "for label, group in df_all.groupby('label'):\n",
    "    out_fp = f'../datasets/sanity_tests/2024_all_{label}.csv'\n",
    "    group_sample = group.head(50)\n",
    "    group_sample.to_csv(out_fp, index=False)"
   ]
  },
  {
   "cell_type": "code",
   "execution_count": null,
   "metadata": {},
   "outputs": [],
   "source": []
  }
 ],
 "metadata": {
  "kernelspec": {
   "display_name": "research",
   "language": "python",
   "name": "python3"
  },
  "language_info": {
   "codemirror_mode": {
    "name": "ipython",
    "version": 3
   },
   "file_extension": ".py",
   "mimetype": "text/x-python",
   "name": "python",
   "nbconvert_exporter": "python",
   "pygments_lexer": "ipython3",
   "version": "3.12.3"
  }
 },
 "nbformat": 4,
 "nbformat_minor": 2
}
