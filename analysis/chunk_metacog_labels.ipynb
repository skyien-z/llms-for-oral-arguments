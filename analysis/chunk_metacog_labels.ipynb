{
 "cells": [
  {
   "cell_type": "code",
   "execution_count": 1,
   "metadata": {},
   "outputs": [],
   "source": [
    "import json"
   ]
  },
  {
   "cell_type": "code",
   "execution_count": 2,
   "metadata": {},
   "outputs": [],
   "source": [
    "# Load the JSON file\n",
    "input_file = \"metacog_labels_compiled.json\"  # Replace with your actual file name\n",
    "output_directory = \"metacog/compiled_chunks/\"          # Directory where the chunks will be saved\n",
    "\n",
    "# Create output directory if it doesn't exist\n",
    "import os\n",
    "if not os.path.exists(output_directory):\n",
    "    os.makedirs(output_directory)\n",
    "\n",
    "# Function to split the JSON list into chunks\n",
    "def split_json(input_file, chunk_size):\n",
    "    with open(input_file, 'r') as file:\n",
    "        data = json.load(file)\n",
    "    \n",
    "    # Split data into chunks\n",
    "    chunks = [data[i:i + chunk_size] for i in range(0, len(data), chunk_size)]\n",
    "    \n",
    "    # Save each chunk as a separate JSON file\n",
    "    for idx, chunk in enumerate(chunks):\n",
    "        chunk_file = os.path.join(output_directory, f\"chunk_{idx + 1}.json\")\n",
    "        with open(chunk_file, 'w') as chunk_file_out:\n",
    "            json.dump(chunk, chunk_file_out, indent=4)\n",
    "        print(f\"Saved chunk {idx + 1} to {chunk_file}\")"
   ]
  },
  {
   "cell_type": "code",
   "execution_count": 3,
   "metadata": {},
   "outputs": [
    {
     "name": "stdout",
     "output_type": "stream",
     "text": [
      "Saved chunk 1 to metacog/compiled_chunks/chunk_1.json\n",
      "Saved chunk 2 to metacog/compiled_chunks/chunk_2.json\n",
      "Saved chunk 3 to metacog/compiled_chunks/chunk_3.json\n",
      "Saved chunk 4 to metacog/compiled_chunks/chunk_4.json\n",
      "Saved chunk 5 to metacog/compiled_chunks/chunk_5.json\n",
      "Saved chunk 6 to metacog/compiled_chunks/chunk_6.json\n",
      "Saved chunk 7 to metacog/compiled_chunks/chunk_7.json\n",
      "Saved chunk 8 to metacog/compiled_chunks/chunk_8.json\n",
      "Saved chunk 9 to metacog/compiled_chunks/chunk_9.json\n",
      "Saved chunk 10 to metacog/compiled_chunks/chunk_10.json\n",
      "Saved chunk 11 to metacog/compiled_chunks/chunk_11.json\n",
      "Saved chunk 12 to metacog/compiled_chunks/chunk_12.json\n",
      "Saved chunk 13 to metacog/compiled_chunks/chunk_13.json\n",
      "Saved chunk 14 to metacog/compiled_chunks/chunk_14.json\n",
      "Saved chunk 15 to metacog/compiled_chunks/chunk_15.json\n",
      "Saved chunk 16 to metacog/compiled_chunks/chunk_16.json\n",
      "Saved chunk 17 to metacog/compiled_chunks/chunk_17.json\n",
      "Saved chunk 18 to metacog/compiled_chunks/chunk_18.json\n",
      "Saved chunk 19 to metacog/compiled_chunks/chunk_19.json\n",
      "Saved chunk 20 to metacog/compiled_chunks/chunk_20.json\n",
      "Saved chunk 21 to metacog/compiled_chunks/chunk_21.json\n",
      "Saved chunk 22 to metacog/compiled_chunks/chunk_22.json\n",
      "Saved chunk 23 to metacog/compiled_chunks/chunk_23.json\n",
      "Saved chunk 24 to metacog/compiled_chunks/chunk_24.json\n",
      "Saved chunk 25 to metacog/compiled_chunks/chunk_25.json\n",
      "Saved chunk 26 to metacog/compiled_chunks/chunk_26.json\n",
      "Saved chunk 27 to metacog/compiled_chunks/chunk_27.json\n",
      "Saved chunk 28 to metacog/compiled_chunks/chunk_28.json\n",
      "Saved chunk 29 to metacog/compiled_chunks/chunk_29.json\n",
      "Saved chunk 30 to metacog/compiled_chunks/chunk_30.json\n"
     ]
    }
   ],
   "source": [
    "# Split the JSON into chunks of 150 entries\n",
    "split_json(input_file, 150)"
   ]
  },
  {
   "cell_type": "code",
   "execution_count": null,
   "metadata": {},
   "outputs": [],
   "source": []
  }
 ],
 "metadata": {
  "kernelspec": {
   "display_name": "research",
   "language": "python",
   "name": "python3"
  },
  "language_info": {
   "codemirror_mode": {
    "name": "ipython",
    "version": 3
   },
   "file_extension": ".py",
   "mimetype": "text/x-python",
   "name": "python",
   "nbconvert_exporter": "python",
   "pygments_lexer": "ipython3",
   "version": "3.12.3"
  }
 },
 "nbformat": 4,
 "nbformat_minor": 2
}
