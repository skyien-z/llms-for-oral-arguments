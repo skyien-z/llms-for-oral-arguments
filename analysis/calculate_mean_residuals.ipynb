{
 "cells": [
  {
   "cell_type": "markdown",
   "metadata": {},
   "source": [
    "# Calculate mean residuals"
   ]
  },
  {
   "cell_type": "code",
   "execution_count": 23,
   "metadata": {},
   "outputs": [],
   "source": [
    "import pandas as pd"
   ]
  },
  {
   "cell_type": "code",
   "execution_count": 24,
   "metadata": {},
   "outputs": [],
   "source": [
    "# Define a function to calculate the mean squared difference\n",
    "# for each valence bucket between Actual and another source\n",
    "def calculate_mean_squared_difference(data, classification_column, source1, source2):\n",
    "    # Filter data for the two sources\n",
    "    filtered_data = data[data['source'].isin([source1, source2])]\n",
    "\n",
    "    # Pivot the data to make comparisons easier\n",
    "    pivot_data = filtered_data.pivot_table(\n",
    "        index=['transcript_id', classification_column],\n",
    "        columns='source',\n",
    "        values='proportion'\n",
    "    ).reset_index()\n",
    "\n",
    "    # Calculate the squared difference for the valence bucket proportions\n",
    "    pivot_data['squared_difference'] = (pivot_data[source1] - pivot_data[source2]) ** 2\n",
    "\n",
    "    # Group by classification_column and calculate the mean squared difference\n",
    "    mean_squared_diff = pivot_data.groupby(classification_column)['squared_difference'].mean()\n",
    "\n",
    "    return mean_squared_diff"
   ]
  },
  {
   "cell_type": "markdown",
   "metadata": {},
   "source": [
    "## Valence"
   ]
  },
  {
   "cell_type": "code",
   "execution_count": 25,
   "metadata": {},
   "outputs": [],
   "source": [
    "# Load the dataset\n",
    "data = pd.read_csv('valence/combined_valence_bucketed_proportions.csv')\n",
    "column = 'bucketed_valence'"
   ]
  },
  {
   "cell_type": "code",
   "execution_count": 26,
   "metadata": {},
   "outputs": [
    {
     "name": "stdout",
     "output_type": "stream",
     "text": [
      "Mean squared differences between GPT-4 and Actual:\n",
      "bucketed_valence\n",
      "Competitive    0.131936\n",
      "Neutral        0.048372\n",
      "Supportive     0.031794\n",
      "Name: squared_difference, dtype: float64\n",
      "\n",
      "Mean squared differences between LLaMA and Actual:\n",
      "bucketed_valence\n",
      "Competitive    0.088579\n",
      "Neutral        0.084086\n",
      "Supportive     0.038137\n",
      "Name: squared_difference, dtype: float64\n",
      "Average MSE GPT 4o: 0.07070076069786511\n",
      "Average MSE Llama: 0.07026746035001497\n"
     ]
    }
   ],
   "source": [
    "# Calculate mean squared differences for GPT-4 and Actual\n",
    "mean_squared_diff_gpt4_actual = calculate_mean_squared_difference(data, column, 'Actual', 'GPT-4')\n",
    "\n",
    "# Calculate mean squared differences for LLaMA and Actual\n",
    "mean_squared_diff_llama_actual = calculate_mean_squared_difference(data, column, 'Actual', 'LLaMA-3.1')\n",
    "\n",
    "# Output the results\n",
    "print(\"Mean squared differences between GPT-4 and Actual:\")\n",
    "print(mean_squared_diff_gpt4_actual)\n",
    "\n",
    "print(\"\\nMean squared differences between LLaMA and Actual:\")\n",
    "print(mean_squared_diff_llama_actual)\n",
    "\n",
    "\n",
    "\n",
    "print(f\"Average MSE GPT 4o: {mean_squared_diff_gpt4_actual.mean()}\")\n",
    "print(f\"Average MSE Llama: {mean_squared_diff_llama_actual.mean()}\")"
   ]
  },
  {
   "cell_type": "markdown",
   "metadata": {},
   "source": [
    "## LegalBench"
   ]
  },
  {
   "cell_type": "code",
   "execution_count": 27,
   "metadata": {},
   "outputs": [],
   "source": [
    "# Load the dataset\n",
    "data = pd.read_csv('legalbench/combined_legalbench_proportions.csv')\n",
    "column = 'legalbench'"
   ]
  },
  {
   "cell_type": "code",
   "execution_count": 28,
   "metadata": {},
   "outputs": [
    {
     "name": "stdout",
     "output_type": "stream",
     "text": [
      "Mean squared differences between GPT-4 and Actual:\n",
      "legalbench\n",
      "Background       0.035719\n",
      "Clarification    0.074027\n",
      "Criticism        0.130575\n",
      "Implications     0.019283\n",
      "Name: squared_difference, dtype: float64\n",
      "\n",
      "Mean squared differences between LLaMA and Actual:\n",
      "legalbench\n",
      "Background       0.015053\n",
      "Clarification    0.105719\n",
      "Criticism        0.055687\n",
      "Implications     0.016493\n",
      "Name: squared_difference, dtype: float64\n",
      "Average MSE GPT 4o: 0.06490091062860437\n",
      "Average MSE Llama: 0.04823799220952987\n"
     ]
    }
   ],
   "source": [
    "# Calculate mean squared differences for GPT-4 and Actual\n",
    "mean_squared_diff_gpt4_actual = calculate_mean_squared_difference(data, column, 'Actual', 'GPT-4')\n",
    "\n",
    "# Calculate mean squared differences for LLaMA and Actual\n",
    "mean_squared_diff_llama_actual = calculate_mean_squared_difference(data, column, 'Actual', 'LLaMA-3.1')\n",
    "\n",
    "# Output the results\n",
    "print(\"Mean squared differences between GPT-4 and Actual:\")\n",
    "print(mean_squared_diff_gpt4_actual)\n",
    "\n",
    "print(\"\\nMean squared differences between LLaMA and Actual:\")\n",
    "print(mean_squared_diff_llama_actual)\n",
    "\n",
    "print(f\"Average MSE GPT 4o: {mean_squared_diff_gpt4_actual.mean()}\")\n",
    "print(f\"Average MSE Llama: {mean_squared_diff_llama_actual.mean()}\")"
   ]
  },
  {
   "cell_type": "markdown",
   "metadata": {},
   "source": [
    "## MetaCog"
   ]
  },
  {
   "cell_type": "code",
   "execution_count": 29,
   "metadata": {},
   "outputs": [],
   "source": [
    "# Load the dataset\n",
    "data = pd.read_csv('metacog/classification/combined_metacog_proportions.csv')\n",
    "column = 'metacog'"
   ]
  },
  {
   "cell_type": "code",
   "execution_count": 30,
   "metadata": {},
   "outputs": [
    {
     "name": "stdout",
     "output_type": "stream",
     "text": [
      "Mean squared differences between GPT-4 and Actual:\n",
      "metacog\n",
      "argumentation_and_clarification    0.137060\n",
      "case_facts_and_context             0.041117\n",
      "constitutional_issues                   NaN\n",
      "judicial_role_and_review           0.149316\n",
      "precedent_and_doctrine             0.265134\n",
      "procedural_matters                 0.000258\n",
      "statutory_interpretation           0.056040\n",
      "Name: squared_difference, dtype: float64\n",
      "\n",
      "Mean squared differences between LLaMA and Actual:\n",
      "metacog\n",
      "argumentation_and_clarification    0.118573\n",
      "case_facts_and_context             0.054962\n",
      "constitutional_issues                   NaN\n",
      "judicial_role_and_review           0.076578\n",
      "precedent_and_doctrine             0.240139\n",
      "procedural_matters                      NaN\n",
      "statutory_interpretation           0.050298\n",
      "Name: squared_difference, dtype: float64\n",
      "Average MSE GPT 4o: 0.10815407769891335\n",
      "Average MSE Llama: 0.10810985587244892\n"
     ]
    }
   ],
   "source": [
    "# Calculate mean squared differences for GPT-4 and Actual\n",
    "mean_squared_diff_gpt4_actual = calculate_mean_squared_difference(data, column, 'Actual', 'GPT-4')\n",
    "\n",
    "# Calculate mean squared differences for LLaMA and Actual\n",
    "mean_squared_diff_llama_actual = calculate_mean_squared_difference(data, column, 'Actual', 'LLaMA-3.1')\n",
    "\n",
    "# Output the results\n",
    "print(\"Mean squared differences between GPT-4 and Actual:\")\n",
    "print(mean_squared_diff_gpt4_actual)\n",
    "\n",
    "print(\"\\nMean squared differences between LLaMA and Actual:\")\n",
    "print(mean_squared_diff_llama_actual)\n",
    "\n",
    "print(f\"Average MSE GPT 4o: {mean_squared_diff_gpt4_actual.mean()}\")\n",
    "print(f\"Average MSE Llama: {mean_squared_diff_llama_actual.mean()}\")"
   ]
  },
  {
   "cell_type": "code",
   "execution_count": null,
   "metadata": {},
   "outputs": [],
   "source": []
  },
  {
   "cell_type": "code",
   "execution_count": null,
   "metadata": {},
   "outputs": [],
   "source": []
  }
 ],
 "metadata": {
  "kernelspec": {
   "display_name": "research",
   "language": "python",
   "name": "python3"
  },
  "language_info": {
   "codemirror_mode": {
    "name": "ipython",
    "version": 3
   },
   "file_extension": ".py",
   "mimetype": "text/x-python",
   "name": "python",
   "nbconvert_exporter": "python",
   "pygments_lexer": "ipython3",
   "version": "3.12.3"
  }
 },
 "nbformat": 4,
 "nbformat_minor": 2
}
